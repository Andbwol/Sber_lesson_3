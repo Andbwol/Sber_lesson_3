{
  "nbformat": 4,
  "nbformat_minor": 0,
  "metadata": {
    "colab": {
      "provenance": [],
      "authorship_tag": "ABX9TyODJolTCdZ6EZOijMhmioIK",
      "include_colab_link": true
    },
    "kernelspec": {
      "name": "python3",
      "display_name": "Python 3"
    },
    "language_info": {
      "name": "python"
    }
  },
  "cells": [
    {
      "cell_type": "markdown",
      "metadata": {
        "id": "view-in-github",
        "colab_type": "text"
      },
      "source": [
        "<a href=\"https://colab.research.google.com/github/Andbwol/Sber_lesson_3/blob/main/Sber_Bonds.ipynb\" target=\"_parent\"><img src=\"https://colab.research.google.com/assets/colab-badge.svg\" alt=\"Open In Colab\"/></a>"
      ]
    },
    {
      "cell_type": "code",
      "execution_count": 325,
      "metadata": {
        "id": "RuFwV3iLgT1c"
      },
      "outputs": [],
      "source": [
        "import pandas as pd\n",
        "import requests\n",
        "import io\n",
        "from sklearn.cluster import KMeans\n",
        "import matplotlib.pyplot as plt"
      ]
    },
    {
      "cell_type": "code",
      "source": [
        "s=requests.get('https://iss.moex.com/iss/apps/infogrid/emission/rates.csv?iss.dp=comma&iss.df=%25d.%25m.%25Y&iss.tf=%25H:%25M:%25S&iss.dtf=%25d.%25m.%25Y%25H:%25M:%25S&iss.only=rates&limit=unlimited&lang=ru').content"
      ],
      "metadata": {
        "id": "ed9JwuVbifn6"
      },
      "execution_count": 326,
      "outputs": []
    },
    {
      "cell_type": "code",
      "source": [
        "df=pd.read_csv(io.StringIO(s.decode('cp1251')), sep=';',header=1)"
      ],
      "metadata": {
        "id": "sbJoZj-yguki"
      },
      "execution_count": 327,
      "outputs": []
    },
    {
      "cell_type": "code",
      "source": [
        "df.shape"
      ],
      "metadata": {
        "colab": {
          "base_uri": "https://localhost:8080/"
        },
        "id": "KQiFr7Ogjljo",
        "outputId": "ff0ecd30-2d80-4855-f2d7-8dee0d9f7e85"
      },
      "execution_count": 328,
      "outputs": [
        {
          "output_type": "execute_result",
          "data": {
            "text/plain": [
              "(2553, 55)"
            ]
          },
          "metadata": {},
          "execution_count": 328
        }
      ]
    },
    {
      "cell_type": "code",
      "source": [
        "df.head()"
      ],
      "metadata": {
        "colab": {
          "base_uri": "https://localhost:8080/",
          "height": 559
        },
        "id": "9SUPMOOXj5hA",
        "outputId": "569c40eb-cd92-4a03-fd5e-fe2abd8d6197"
      },
      "execution_count": 329,
      "outputs": [
        {
          "output_type": "execute_result",
          "data": {
            "text/plain": [
              "          SECID   SHORTNAME                            NAME  \\\n",
              "0  AMUNIBB2DER6  UBANK02/24        UNIBANK OJSC Series 1 21   \n",
              "1  AT0000A2UF10  Raiff BIAG          Raiffeisen Bank Int AG   \n",
              "2  CH0248531110  VTB-24 CHF         VTB CAPITAL S.A. 24 CHF   \n",
              "3  CH0379268748  RZD-23 CHF          RZD Capital PLC 23 CHF   \n",
              "4  CH0419041618  RZD-25 CHF  RZD CAPITAL PLC 0.898 03/10/25   \n",
              "\n",
              "                      TYPENAME          ISIN REGNUMBER  LISTLEVEL FACEVALUE  \\\n",
              "0  Корпоративные еврооблигации  AMUNIBB2DER6       NaN        3.0     100,0   \n",
              "1  Корпоративные еврооблигации  AT0000A2UF10       NaN        3.0    1000,0   \n",
              "2  Корпоративные еврооблигации  CH0248531110       NaN        NaN    5000,0   \n",
              "3  Корпоративные еврооблигации  CH0379268748       NaN        NaN    5000,0   \n",
              "4  Корпоративные еврооблигации  CH0419041618       NaN        NaN    5000,0   \n",
              "\n",
              "  FACEUNIT  ISSUESIZE  ...  RTL3       RTH3 DISCOUNT1 LIMIT1 DISCOUNT2 LIMIT2  \\\n",
              "0      USD    33478.0  ...   0,0   16540,42     100,0    NaN       NaN    NaN   \n",
              "1      USD    50000.0  ...   0,0  135867,94     100,0    NaN       NaN    NaN   \n",
              "2      CHF    70000.0  ...   0,0  961345,34     100,0    NaN       NaN    NaN   \n",
              "3      CHF    90000.0  ...   0,0  568645,02     100,0    NaN       NaN    NaN   \n",
              "4      CHF    70000.0  ...   0,0   875424,0     100,0    NaN       NaN    NaN   \n",
              "\n",
              "   DISCOUNT3  DISCOUNTL0  DISCOUNTH0  FULLCOVERED  \n",
              "0        NaN   100,00000   100,00000          1.0  \n",
              "1        NaN   100,00000   100,00000          1.0  \n",
              "2        NaN   100,00000   100,00000          1.0  \n",
              "3        NaN   100,00000   100,00000          1.0  \n",
              "4        NaN   100,00000   100,00000          1.0  \n",
              "\n",
              "[5 rows x 55 columns]"
            ],
            "text/html": [
              "\n",
              "  <div id=\"df-54cc5484-f853-489a-80cd-5f8413ead44e\">\n",
              "    <div class=\"colab-df-container\">\n",
              "      <div>\n",
              "<style scoped>\n",
              "    .dataframe tbody tr th:only-of-type {\n",
              "        vertical-align: middle;\n",
              "    }\n",
              "\n",
              "    .dataframe tbody tr th {\n",
              "        vertical-align: top;\n",
              "    }\n",
              "\n",
              "    .dataframe thead th {\n",
              "        text-align: right;\n",
              "    }\n",
              "</style>\n",
              "<table border=\"1\" class=\"dataframe\">\n",
              "  <thead>\n",
              "    <tr style=\"text-align: right;\">\n",
              "      <th></th>\n",
              "      <th>SECID</th>\n",
              "      <th>SHORTNAME</th>\n",
              "      <th>NAME</th>\n",
              "      <th>TYPENAME</th>\n",
              "      <th>ISIN</th>\n",
              "      <th>REGNUMBER</th>\n",
              "      <th>LISTLEVEL</th>\n",
              "      <th>FACEVALUE</th>\n",
              "      <th>FACEUNIT</th>\n",
              "      <th>ISSUESIZE</th>\n",
              "      <th>...</th>\n",
              "      <th>RTL3</th>\n",
              "      <th>RTH3</th>\n",
              "      <th>DISCOUNT1</th>\n",
              "      <th>LIMIT1</th>\n",
              "      <th>DISCOUNT2</th>\n",
              "      <th>LIMIT2</th>\n",
              "      <th>DISCOUNT3</th>\n",
              "      <th>DISCOUNTL0</th>\n",
              "      <th>DISCOUNTH0</th>\n",
              "      <th>FULLCOVERED</th>\n",
              "    </tr>\n",
              "  </thead>\n",
              "  <tbody>\n",
              "    <tr>\n",
              "      <th>0</th>\n",
              "      <td>AMUNIBB2DER6</td>\n",
              "      <td>UBANK02/24</td>\n",
              "      <td>UNIBANK OJSC Series 1 21</td>\n",
              "      <td>Корпоративные еврооблигации</td>\n",
              "      <td>AMUNIBB2DER6</td>\n",
              "      <td>NaN</td>\n",
              "      <td>3.0</td>\n",
              "      <td>100,0</td>\n",
              "      <td>USD</td>\n",
              "      <td>33478.0</td>\n",
              "      <td>...</td>\n",
              "      <td>0,0</td>\n",
              "      <td>16540,42</td>\n",
              "      <td>100,0</td>\n",
              "      <td>NaN</td>\n",
              "      <td>NaN</td>\n",
              "      <td>NaN</td>\n",
              "      <td>NaN</td>\n",
              "      <td>100,00000</td>\n",
              "      <td>100,00000</td>\n",
              "      <td>1.0</td>\n",
              "    </tr>\n",
              "    <tr>\n",
              "      <th>1</th>\n",
              "      <td>AT0000A2UF10</td>\n",
              "      <td>Raiff BIAG</td>\n",
              "      <td>Raiffeisen Bank Int AG</td>\n",
              "      <td>Корпоративные еврооблигации</td>\n",
              "      <td>AT0000A2UF10</td>\n",
              "      <td>NaN</td>\n",
              "      <td>3.0</td>\n",
              "      <td>1000,0</td>\n",
              "      <td>USD</td>\n",
              "      <td>50000.0</td>\n",
              "      <td>...</td>\n",
              "      <td>0,0</td>\n",
              "      <td>135867,94</td>\n",
              "      <td>100,0</td>\n",
              "      <td>NaN</td>\n",
              "      <td>NaN</td>\n",
              "      <td>NaN</td>\n",
              "      <td>NaN</td>\n",
              "      <td>100,00000</td>\n",
              "      <td>100,00000</td>\n",
              "      <td>1.0</td>\n",
              "    </tr>\n",
              "    <tr>\n",
              "      <th>2</th>\n",
              "      <td>CH0248531110</td>\n",
              "      <td>VTB-24 CHF</td>\n",
              "      <td>VTB CAPITAL S.A. 24 CHF</td>\n",
              "      <td>Корпоративные еврооблигации</td>\n",
              "      <td>CH0248531110</td>\n",
              "      <td>NaN</td>\n",
              "      <td>NaN</td>\n",
              "      <td>5000,0</td>\n",
              "      <td>CHF</td>\n",
              "      <td>70000.0</td>\n",
              "      <td>...</td>\n",
              "      <td>0,0</td>\n",
              "      <td>961345,34</td>\n",
              "      <td>100,0</td>\n",
              "      <td>NaN</td>\n",
              "      <td>NaN</td>\n",
              "      <td>NaN</td>\n",
              "      <td>NaN</td>\n",
              "      <td>100,00000</td>\n",
              "      <td>100,00000</td>\n",
              "      <td>1.0</td>\n",
              "    </tr>\n",
              "    <tr>\n",
              "      <th>3</th>\n",
              "      <td>CH0379268748</td>\n",
              "      <td>RZD-23 CHF</td>\n",
              "      <td>RZD Capital PLC 23 CHF</td>\n",
              "      <td>Корпоративные еврооблигации</td>\n",
              "      <td>CH0379268748</td>\n",
              "      <td>NaN</td>\n",
              "      <td>NaN</td>\n",
              "      <td>5000,0</td>\n",
              "      <td>CHF</td>\n",
              "      <td>90000.0</td>\n",
              "      <td>...</td>\n",
              "      <td>0,0</td>\n",
              "      <td>568645,02</td>\n",
              "      <td>100,0</td>\n",
              "      <td>NaN</td>\n",
              "      <td>NaN</td>\n",
              "      <td>NaN</td>\n",
              "      <td>NaN</td>\n",
              "      <td>100,00000</td>\n",
              "      <td>100,00000</td>\n",
              "      <td>1.0</td>\n",
              "    </tr>\n",
              "    <tr>\n",
              "      <th>4</th>\n",
              "      <td>CH0419041618</td>\n",
              "      <td>RZD-25 CHF</td>\n",
              "      <td>RZD CAPITAL PLC 0.898 03/10/25</td>\n",
              "      <td>Корпоративные еврооблигации</td>\n",
              "      <td>CH0419041618</td>\n",
              "      <td>NaN</td>\n",
              "      <td>NaN</td>\n",
              "      <td>5000,0</td>\n",
              "      <td>CHF</td>\n",
              "      <td>70000.0</td>\n",
              "      <td>...</td>\n",
              "      <td>0,0</td>\n",
              "      <td>875424,0</td>\n",
              "      <td>100,0</td>\n",
              "      <td>NaN</td>\n",
              "      <td>NaN</td>\n",
              "      <td>NaN</td>\n",
              "      <td>NaN</td>\n",
              "      <td>100,00000</td>\n",
              "      <td>100,00000</td>\n",
              "      <td>1.0</td>\n",
              "    </tr>\n",
              "  </tbody>\n",
              "</table>\n",
              "<p>5 rows × 55 columns</p>\n",
              "</div>\n",
              "      <button class=\"colab-df-convert\" onclick=\"convertToInteractive('df-54cc5484-f853-489a-80cd-5f8413ead44e')\"\n",
              "              title=\"Convert this dataframe to an interactive table.\"\n",
              "              style=\"display:none;\">\n",
              "        \n",
              "  <svg xmlns=\"http://www.w3.org/2000/svg\" height=\"24px\"viewBox=\"0 0 24 24\"\n",
              "       width=\"24px\">\n",
              "    <path d=\"M0 0h24v24H0V0z\" fill=\"none\"/>\n",
              "    <path d=\"M18.56 5.44l.94 2.06.94-2.06 2.06-.94-2.06-.94-.94-2.06-.94 2.06-2.06.94zm-11 1L8.5 8.5l.94-2.06 2.06-.94-2.06-.94L8.5 2.5l-.94 2.06-2.06.94zm10 10l.94 2.06.94-2.06 2.06-.94-2.06-.94-.94-2.06-.94 2.06-2.06.94z\"/><path d=\"M17.41 7.96l-1.37-1.37c-.4-.4-.92-.59-1.43-.59-.52 0-1.04.2-1.43.59L10.3 9.45l-7.72 7.72c-.78.78-.78 2.05 0 2.83L4 21.41c.39.39.9.59 1.41.59.51 0 1.02-.2 1.41-.59l7.78-7.78 2.81-2.81c.8-.78.8-2.07 0-2.86zM5.41 20L4 18.59l7.72-7.72 1.47 1.35L5.41 20z\"/>\n",
              "  </svg>\n",
              "      </button>\n",
              "      \n",
              "  <style>\n",
              "    .colab-df-container {\n",
              "      display:flex;\n",
              "      flex-wrap:wrap;\n",
              "      gap: 12px;\n",
              "    }\n",
              "\n",
              "    .colab-df-convert {\n",
              "      background-color: #E8F0FE;\n",
              "      border: none;\n",
              "      border-radius: 50%;\n",
              "      cursor: pointer;\n",
              "      display: none;\n",
              "      fill: #1967D2;\n",
              "      height: 32px;\n",
              "      padding: 0 0 0 0;\n",
              "      width: 32px;\n",
              "    }\n",
              "\n",
              "    .colab-df-convert:hover {\n",
              "      background-color: #E2EBFA;\n",
              "      box-shadow: 0px 1px 2px rgba(60, 64, 67, 0.3), 0px 1px 3px 1px rgba(60, 64, 67, 0.15);\n",
              "      fill: #174EA6;\n",
              "    }\n",
              "\n",
              "    [theme=dark] .colab-df-convert {\n",
              "      background-color: #3B4455;\n",
              "      fill: #D2E3FC;\n",
              "    }\n",
              "\n",
              "    [theme=dark] .colab-df-convert:hover {\n",
              "      background-color: #434B5C;\n",
              "      box-shadow: 0px 1px 3px 1px rgba(0, 0, 0, 0.15);\n",
              "      filter: drop-shadow(0px 1px 2px rgba(0, 0, 0, 0.3));\n",
              "      fill: #FFFFFF;\n",
              "    }\n",
              "  </style>\n",
              "\n",
              "      <script>\n",
              "        const buttonEl =\n",
              "          document.querySelector('#df-54cc5484-f853-489a-80cd-5f8413ead44e button.colab-df-convert');\n",
              "        buttonEl.style.display =\n",
              "          google.colab.kernel.accessAllowed ? 'block' : 'none';\n",
              "\n",
              "        async function convertToInteractive(key) {\n",
              "          const element = document.querySelector('#df-54cc5484-f853-489a-80cd-5f8413ead44e');\n",
              "          const dataTable =\n",
              "            await google.colab.kernel.invokeFunction('convertToInteractive',\n",
              "                                                     [key], {});\n",
              "          if (!dataTable) return;\n",
              "\n",
              "          const docLinkHtml = 'Like what you see? Visit the ' +\n",
              "            '<a target=\"_blank\" href=https://colab.research.google.com/notebooks/data_table.ipynb>data table notebook</a>'\n",
              "            + ' to learn more about interactive tables.';\n",
              "          element.innerHTML = '';\n",
              "          dataTable['output_type'] = 'display_data';\n",
              "          await google.colab.output.renderOutput(dataTable, element);\n",
              "          const docLink = document.createElement('div');\n",
              "          docLink.innerHTML = docLinkHtml;\n",
              "          element.appendChild(docLink);\n",
              "        }\n",
              "      </script>\n",
              "    </div>\n",
              "  </div>\n",
              "  "
            ]
          },
          "metadata": {},
          "execution_count": 329
        }
      ]
    },
    {
      "cell_type": "code",
      "source": [
        "df.info()"
      ],
      "metadata": {
        "colab": {
          "base_uri": "https://localhost:8080/"
        },
        "id": "ReRYMpIxbhxp",
        "outputId": "d2002cdf-58d1-422d-9e0f-bdb45abae575"
      },
      "execution_count": 330,
      "outputs": [
        {
          "output_type": "stream",
          "name": "stdout",
          "text": [
            "<class 'pandas.core.frame.DataFrame'>\n",
            "RangeIndex: 2553 entries, 0 to 2552\n",
            "Data columns (total 55 columns):\n",
            " #   Column                  Non-Null Count  Dtype  \n",
            "---  ------                  --------------  -----  \n",
            " 0   SECID                   2553 non-null   object \n",
            " 1   SHORTNAME               2553 non-null   object \n",
            " 2   NAME                    2553 non-null   object \n",
            " 3   TYPENAME                2553 non-null   object \n",
            " 4   ISIN                    2553 non-null   object \n",
            " 5   REGNUMBER               2238 non-null   object \n",
            " 6   LISTLEVEL               2366 non-null   float64\n",
            " 7   FACEVALUE               2553 non-null   object \n",
            " 8   FACEUNIT                2553 non-null   object \n",
            " 9   ISSUESIZE               2476 non-null   float64\n",
            " 10  IS_COLLATERAL           2553 non-null   int64  \n",
            " 11  IS_EXTERNAL             2553 non-null   int64  \n",
            " 12  PRIMARY_BOARDID         2553 non-null   object \n",
            " 13  PRIMARY_BOARD_TITLE     2553 non-null   object \n",
            " 14  MATDATE                 2501 non-null   object \n",
            " 15  IS_RII                  17 non-null     object \n",
            " 16  DURATION                1678 non-null   float64\n",
            " 17  INCLUDEDBYMOEX          227 non-null    float64\n",
            " 18  EVENINGSESSION          2553 non-null   int64  \n",
            " 19  MORNINGSESSION          2553 non-null   int64  \n",
            " 20  IS_QUALIFIED_INVESTORS  2553 non-null   int64  \n",
            " 21  HIGH_RISK               2553 non-null   int64  \n",
            " 22  COUPONFREQUENCY         2140 non-null   float64\n",
            " 23  YIELDATWAP              1261 non-null   object \n",
            " 24  COUPONDATE              2541 non-null   object \n",
            " 25  COUPONPERCENT           2345 non-null   object \n",
            " 26  COUPONVALUE             2346 non-null   object \n",
            " 27  COUPONDAYSPASSED        2513 non-null   float64\n",
            " 28  COUPONDAYSREMAIN        2513 non-null   float64\n",
            " 29  COUPONLENGTH            2541 non-null   float64\n",
            " 30  ISSUEDATE               2553 non-null   object \n",
            " 31  INITIALFACEVALUE        2553 non-null   object \n",
            " 32  SECSUBTYPE              260 non-null    object \n",
            " 33  STARTDATEMOEX           2347 non-null   object \n",
            " 34  DAYSTOREDEMPTION        2501 non-null   float64\n",
            " 35  OFFERDATE               366 non-null    object \n",
            " 36  EMITENTNAME             2553 non-null   object \n",
            " 37  INN                     2548 non-null   float64\n",
            " 38  LOTSIZE                 2551 non-null   float64\n",
            " 39  PRICE                   2518 non-null   object \n",
            " 40  PRICE_RUB               2518 non-null   object \n",
            " 41  RTL1                    2518 non-null   object \n",
            " 42  RTH1                    2518 non-null   object \n",
            " 43  RTL2                    2518 non-null   object \n",
            " 44  RTH2                    2518 non-null   object \n",
            " 45  RTL3                    2518 non-null   object \n",
            " 46  RTH3                    2518 non-null   object \n",
            " 47  DISCOUNT1               2553 non-null   object \n",
            " 48  LIMIT1                  957 non-null    float64\n",
            " 49  DISCOUNT2               957 non-null    object \n",
            " 50  LIMIT2                  957 non-null    float64\n",
            " 51  DISCOUNT3               957 non-null    object \n",
            " 52  DISCOUNTL0              2518 non-null   object \n",
            " 53  DISCOUNTH0              2518 non-null   object \n",
            " 54  FULLCOVERED             2518 non-null   float64\n",
            "dtypes: float64(14), int64(6), object(35)\n",
            "memory usage: 1.1+ MB\n"
          ]
        }
      ]
    },
    {
      "cell_type": "code",
      "source": [
        "df1 = df[['SHORTNAME', 'NAME', 'FACEVALUE', 'FACEUNIT','IS_QUALIFIED_INVESTORS','HIGH_RISK','COUPONDAYSPASSED','COUPONLENGTH', 'COUPONFREQUENCY','COUPONDATE', 'COUPONPERCENT', 'COUPONVALUE', 'EMITENTNAME', 'INN', 'PRICE', 'PRICE_RUB']]"
      ],
      "metadata": {
        "id": "5tTxopaOczQv"
      },
      "execution_count": 331,
      "outputs": []
    },
    {
      "cell_type": "code",
      "source": [
        "df1.groupby('FACEUNIT').count()"
      ],
      "metadata": {
        "colab": {
          "base_uri": "https://localhost:8080/",
          "height": 333
        },
        "id": "hdhFrUPUfdrf",
        "outputId": "9e50871c-915c-49aa-a2ee-d7de8a2fda8a"
      },
      "execution_count": 332,
      "outputs": [
        {
          "output_type": "execute_result",
          "data": {
            "text/plain": [
              "          SHORTNAME  NAME  FACEVALUE  IS_QUALIFIED_INVESTORS  HIGH_RISK  \\\n",
              "FACEUNIT                                                                  \n",
              "CHF               7     7          7                       7          7   \n",
              "CNY              28    28         28                      28         28   \n",
              "EUR              39    39         39                      39         39   \n",
              "GBP               3     3          3                       3          3   \n",
              "RUB            2194  2194       2194                    2194       2194   \n",
              "USD             282   282        282                     282        282   \n",
              "\n",
              "          COUPONDAYSPASSED  COUPONLENGTH  COUPONFREQUENCY  COUPONDATE  \\\n",
              "FACEUNIT                                                                \n",
              "CHF                      7             7                7           7   \n",
              "CNY                     28            28               22          28   \n",
              "EUR                     39            39               37          39   \n",
              "GBP                      3             3                3           3   \n",
              "RUB                   2159          2187             1801        2187   \n",
              "USD                    277           277              270         277   \n",
              "\n",
              "          COUPONPERCENT  COUPONVALUE  EMITENTNAME   INN  PRICE  PRICE_RUB  \n",
              "FACEUNIT                                                                   \n",
              "CHF                   6            7            7     7      7          7  \n",
              "CNY                  28           28           28    28     28         28  \n",
              "EUR                  32           33           39    39     37         37  \n",
              "GBP                   3            3            3     3      3          3  \n",
              "RUB                2059         2059         2194  2194   2183       2183  \n",
              "USD                 217          216          282   277    260        260  "
            ],
            "text/html": [
              "\n",
              "  <div id=\"df-1c830855-f4e7-402c-911c-3d79084c54a7\">\n",
              "    <div class=\"colab-df-container\">\n",
              "      <div>\n",
              "<style scoped>\n",
              "    .dataframe tbody tr th:only-of-type {\n",
              "        vertical-align: middle;\n",
              "    }\n",
              "\n",
              "    .dataframe tbody tr th {\n",
              "        vertical-align: top;\n",
              "    }\n",
              "\n",
              "    .dataframe thead th {\n",
              "        text-align: right;\n",
              "    }\n",
              "</style>\n",
              "<table border=\"1\" class=\"dataframe\">\n",
              "  <thead>\n",
              "    <tr style=\"text-align: right;\">\n",
              "      <th></th>\n",
              "      <th>SHORTNAME</th>\n",
              "      <th>NAME</th>\n",
              "      <th>FACEVALUE</th>\n",
              "      <th>IS_QUALIFIED_INVESTORS</th>\n",
              "      <th>HIGH_RISK</th>\n",
              "      <th>COUPONDAYSPASSED</th>\n",
              "      <th>COUPONLENGTH</th>\n",
              "      <th>COUPONFREQUENCY</th>\n",
              "      <th>COUPONDATE</th>\n",
              "      <th>COUPONPERCENT</th>\n",
              "      <th>COUPONVALUE</th>\n",
              "      <th>EMITENTNAME</th>\n",
              "      <th>INN</th>\n",
              "      <th>PRICE</th>\n",
              "      <th>PRICE_RUB</th>\n",
              "    </tr>\n",
              "    <tr>\n",
              "      <th>FACEUNIT</th>\n",
              "      <th></th>\n",
              "      <th></th>\n",
              "      <th></th>\n",
              "      <th></th>\n",
              "      <th></th>\n",
              "      <th></th>\n",
              "      <th></th>\n",
              "      <th></th>\n",
              "      <th></th>\n",
              "      <th></th>\n",
              "      <th></th>\n",
              "      <th></th>\n",
              "      <th></th>\n",
              "      <th></th>\n",
              "      <th></th>\n",
              "    </tr>\n",
              "  </thead>\n",
              "  <tbody>\n",
              "    <tr>\n",
              "      <th>CHF</th>\n",
              "      <td>7</td>\n",
              "      <td>7</td>\n",
              "      <td>7</td>\n",
              "      <td>7</td>\n",
              "      <td>7</td>\n",
              "      <td>7</td>\n",
              "      <td>7</td>\n",
              "      <td>7</td>\n",
              "      <td>7</td>\n",
              "      <td>6</td>\n",
              "      <td>7</td>\n",
              "      <td>7</td>\n",
              "      <td>7</td>\n",
              "      <td>7</td>\n",
              "      <td>7</td>\n",
              "    </tr>\n",
              "    <tr>\n",
              "      <th>CNY</th>\n",
              "      <td>28</td>\n",
              "      <td>28</td>\n",
              "      <td>28</td>\n",
              "      <td>28</td>\n",
              "      <td>28</td>\n",
              "      <td>28</td>\n",
              "      <td>28</td>\n",
              "      <td>22</td>\n",
              "      <td>28</td>\n",
              "      <td>28</td>\n",
              "      <td>28</td>\n",
              "      <td>28</td>\n",
              "      <td>28</td>\n",
              "      <td>28</td>\n",
              "      <td>28</td>\n",
              "    </tr>\n",
              "    <tr>\n",
              "      <th>EUR</th>\n",
              "      <td>39</td>\n",
              "      <td>39</td>\n",
              "      <td>39</td>\n",
              "      <td>39</td>\n",
              "      <td>39</td>\n",
              "      <td>39</td>\n",
              "      <td>39</td>\n",
              "      <td>37</td>\n",
              "      <td>39</td>\n",
              "      <td>32</td>\n",
              "      <td>33</td>\n",
              "      <td>39</td>\n",
              "      <td>39</td>\n",
              "      <td>37</td>\n",
              "      <td>37</td>\n",
              "    </tr>\n",
              "    <tr>\n",
              "      <th>GBP</th>\n",
              "      <td>3</td>\n",
              "      <td>3</td>\n",
              "      <td>3</td>\n",
              "      <td>3</td>\n",
              "      <td>3</td>\n",
              "      <td>3</td>\n",
              "      <td>3</td>\n",
              "      <td>3</td>\n",
              "      <td>3</td>\n",
              "      <td>3</td>\n",
              "      <td>3</td>\n",
              "      <td>3</td>\n",
              "      <td>3</td>\n",
              "      <td>3</td>\n",
              "      <td>3</td>\n",
              "    </tr>\n",
              "    <tr>\n",
              "      <th>RUB</th>\n",
              "      <td>2194</td>\n",
              "      <td>2194</td>\n",
              "      <td>2194</td>\n",
              "      <td>2194</td>\n",
              "      <td>2194</td>\n",
              "      <td>2159</td>\n",
              "      <td>2187</td>\n",
              "      <td>1801</td>\n",
              "      <td>2187</td>\n",
              "      <td>2059</td>\n",
              "      <td>2059</td>\n",
              "      <td>2194</td>\n",
              "      <td>2194</td>\n",
              "      <td>2183</td>\n",
              "      <td>2183</td>\n",
              "    </tr>\n",
              "    <tr>\n",
              "      <th>USD</th>\n",
              "      <td>282</td>\n",
              "      <td>282</td>\n",
              "      <td>282</td>\n",
              "      <td>282</td>\n",
              "      <td>282</td>\n",
              "      <td>277</td>\n",
              "      <td>277</td>\n",
              "      <td>270</td>\n",
              "      <td>277</td>\n",
              "      <td>217</td>\n",
              "      <td>216</td>\n",
              "      <td>282</td>\n",
              "      <td>277</td>\n",
              "      <td>260</td>\n",
              "      <td>260</td>\n",
              "    </tr>\n",
              "  </tbody>\n",
              "</table>\n",
              "</div>\n",
              "      <button class=\"colab-df-convert\" onclick=\"convertToInteractive('df-1c830855-f4e7-402c-911c-3d79084c54a7')\"\n",
              "              title=\"Convert this dataframe to an interactive table.\"\n",
              "              style=\"display:none;\">\n",
              "        \n",
              "  <svg xmlns=\"http://www.w3.org/2000/svg\" height=\"24px\"viewBox=\"0 0 24 24\"\n",
              "       width=\"24px\">\n",
              "    <path d=\"M0 0h24v24H0V0z\" fill=\"none\"/>\n",
              "    <path d=\"M18.56 5.44l.94 2.06.94-2.06 2.06-.94-2.06-.94-.94-2.06-.94 2.06-2.06.94zm-11 1L8.5 8.5l.94-2.06 2.06-.94-2.06-.94L8.5 2.5l-.94 2.06-2.06.94zm10 10l.94 2.06.94-2.06 2.06-.94-2.06-.94-.94-2.06-.94 2.06-2.06.94z\"/><path d=\"M17.41 7.96l-1.37-1.37c-.4-.4-.92-.59-1.43-.59-.52 0-1.04.2-1.43.59L10.3 9.45l-7.72 7.72c-.78.78-.78 2.05 0 2.83L4 21.41c.39.39.9.59 1.41.59.51 0 1.02-.2 1.41-.59l7.78-7.78 2.81-2.81c.8-.78.8-2.07 0-2.86zM5.41 20L4 18.59l7.72-7.72 1.47 1.35L5.41 20z\"/>\n",
              "  </svg>\n",
              "      </button>\n",
              "      \n",
              "  <style>\n",
              "    .colab-df-container {\n",
              "      display:flex;\n",
              "      flex-wrap:wrap;\n",
              "      gap: 12px;\n",
              "    }\n",
              "\n",
              "    .colab-df-convert {\n",
              "      background-color: #E8F0FE;\n",
              "      border: none;\n",
              "      border-radius: 50%;\n",
              "      cursor: pointer;\n",
              "      display: none;\n",
              "      fill: #1967D2;\n",
              "      height: 32px;\n",
              "      padding: 0 0 0 0;\n",
              "      width: 32px;\n",
              "    }\n",
              "\n",
              "    .colab-df-convert:hover {\n",
              "      background-color: #E2EBFA;\n",
              "      box-shadow: 0px 1px 2px rgba(60, 64, 67, 0.3), 0px 1px 3px 1px rgba(60, 64, 67, 0.15);\n",
              "      fill: #174EA6;\n",
              "    }\n",
              "\n",
              "    [theme=dark] .colab-df-convert {\n",
              "      background-color: #3B4455;\n",
              "      fill: #D2E3FC;\n",
              "    }\n",
              "\n",
              "    [theme=dark] .colab-df-convert:hover {\n",
              "      background-color: #434B5C;\n",
              "      box-shadow: 0px 1px 3px 1px rgba(0, 0, 0, 0.15);\n",
              "      filter: drop-shadow(0px 1px 2px rgba(0, 0, 0, 0.3));\n",
              "      fill: #FFFFFF;\n",
              "    }\n",
              "  </style>\n",
              "\n",
              "      <script>\n",
              "        const buttonEl =\n",
              "          document.querySelector('#df-1c830855-f4e7-402c-911c-3d79084c54a7 button.colab-df-convert');\n",
              "        buttonEl.style.display =\n",
              "          google.colab.kernel.accessAllowed ? 'block' : 'none';\n",
              "\n",
              "        async function convertToInteractive(key) {\n",
              "          const element = document.querySelector('#df-1c830855-f4e7-402c-911c-3d79084c54a7');\n",
              "          const dataTable =\n",
              "            await google.colab.kernel.invokeFunction('convertToInteractive',\n",
              "                                                     [key], {});\n",
              "          if (!dataTable) return;\n",
              "\n",
              "          const docLinkHtml = 'Like what you see? Visit the ' +\n",
              "            '<a target=\"_blank\" href=https://colab.research.google.com/notebooks/data_table.ipynb>data table notebook</a>'\n",
              "            + ' to learn more about interactive tables.';\n",
              "          element.innerHTML = '';\n",
              "          dataTable['output_type'] = 'display_data';\n",
              "          await google.colab.output.renderOutput(dataTable, element);\n",
              "          const docLink = document.createElement('div');\n",
              "          docLink.innerHTML = docLinkHtml;\n",
              "          element.appendChild(docLink);\n",
              "        }\n",
              "      </script>\n",
              "    </div>\n",
              "  </div>\n",
              "  "
            ]
          },
          "metadata": {},
          "execution_count": 332
        }
      ]
    },
    {
      "cell_type": "code",
      "source": [
        "df1=df1[(df1.FACEUNIT=='RUB')]"
      ],
      "metadata": {
        "id": "IrbcyKEJfixC"
      },
      "execution_count": 333,
      "outputs": []
    },
    {
      "cell_type": "code",
      "source": [
        "df1.isna().sum()"
      ],
      "metadata": {
        "colab": {
          "base_uri": "https://localhost:8080/"
        },
        "id": "D9ZipinHknnI",
        "outputId": "2cdd0f9d-287f-473f-f064-abc09aa20460"
      },
      "execution_count": 334,
      "outputs": [
        {
          "output_type": "execute_result",
          "data": {
            "text/plain": [
              "SHORTNAME                   0\n",
              "NAME                        0\n",
              "FACEVALUE                   0\n",
              "FACEUNIT                    0\n",
              "IS_QUALIFIED_INVESTORS      0\n",
              "HIGH_RISK                   0\n",
              "COUPONDAYSPASSED           35\n",
              "COUPONLENGTH                7\n",
              "COUPONFREQUENCY           393\n",
              "COUPONDATE                  7\n",
              "COUPONPERCENT             135\n",
              "COUPONVALUE               135\n",
              "EMITENTNAME                 0\n",
              "INN                         0\n",
              "PRICE                      11\n",
              "PRICE_RUB                  11\n",
              "dtype: int64"
            ]
          },
          "metadata": {},
          "execution_count": 334
        }
      ]
    },
    {
      "cell_type": "code",
      "source": [
        "df1 = df1.dropna(subset=['COUPONPERCENT','PRICE','COUPONFREQUENCY','COUPONVALUE', 'COUPONDAYSPASSED'])"
      ],
      "metadata": {
        "id": "KW_98BoXiSwv"
      },
      "execution_count": 335,
      "outputs": []
    },
    {
      "cell_type": "code",
      "source": [
        "df1.isna().sum()"
      ],
      "metadata": {
        "colab": {
          "base_uri": "https://localhost:8080/"
        },
        "id": "aq11Wci3hNVD",
        "outputId": "ae4f6a37-5978-4048-da25-001923df7399"
      },
      "execution_count": 336,
      "outputs": [
        {
          "output_type": "execute_result",
          "data": {
            "text/plain": [
              "SHORTNAME                 0\n",
              "NAME                      0\n",
              "FACEVALUE                 0\n",
              "FACEUNIT                  0\n",
              "IS_QUALIFIED_INVESTORS    0\n",
              "HIGH_RISK                 0\n",
              "COUPONDAYSPASSED          0\n",
              "COUPONLENGTH              0\n",
              "COUPONFREQUENCY           0\n",
              "COUPONDATE                0\n",
              "COUPONPERCENT             0\n",
              "COUPONVALUE               0\n",
              "EMITENTNAME               0\n",
              "INN                       0\n",
              "PRICE                     0\n",
              "PRICE_RUB                 0\n",
              "dtype: int64"
            ]
          },
          "metadata": {},
          "execution_count": 336
        }
      ]
    },
    {
      "cell_type": "code",
      "source": [
        "df1['COUPONPERCENT']=df1['COUPONPERCENT'].str.replace(',', '.').astype(float)"
      ],
      "metadata": {
        "id": "bW7JB6yCmFBg"
      },
      "execution_count": 337,
      "outputs": []
    },
    {
      "cell_type": "code",
      "source": [
        "dist = []\n",
        "K = range(2,11)\n",
        "\n",
        "for k in K:\n",
        "    \n",
        "    kmeans = KMeans(n_clusters=k, random_state=42)\n",
        "    kmeans.fit(df1[['COUPONPERCENT']])\n",
        "    dist.append(kmeans.inertia_)\n",
        "    print(k,kmeans.inertia_)"
      ],
      "metadata": {
        "colab": {
          "base_uri": "https://localhost:8080/"
        },
        "id": "K3pamHJJjg6P",
        "outputId": "02efcb31-1e99-4309-e2c8-ffacfba00c8e"
      },
      "execution_count": 338,
      "outputs": [
        {
          "output_type": "stream",
          "name": "stderr",
          "text": [
            "/usr/local/lib/python3.10/dist-packages/sklearn/cluster/_kmeans.py:870: FutureWarning: The default value of `n_init` will change from 10 to 'auto' in 1.4. Set the value of `n_init` explicitly to suppress the warning\n",
            "  warnings.warn(\n",
            "/usr/local/lib/python3.10/dist-packages/sklearn/cluster/_kmeans.py:870: FutureWarning: The default value of `n_init` will change from 10 to 'auto' in 1.4. Set the value of `n_init` explicitly to suppress the warning\n",
            "  warnings.warn(\n",
            "/usr/local/lib/python3.10/dist-packages/sklearn/cluster/_kmeans.py:870: FutureWarning: The default value of `n_init` will change from 10 to 'auto' in 1.4. Set the value of `n_init` explicitly to suppress the warning\n",
            "  warnings.warn(\n",
            "/usr/local/lib/python3.10/dist-packages/sklearn/cluster/_kmeans.py:870: FutureWarning: The default value of `n_init` will change from 10 to 'auto' in 1.4. Set the value of `n_init` explicitly to suppress the warning\n",
            "  warnings.warn(\n",
            "/usr/local/lib/python3.10/dist-packages/sklearn/cluster/_kmeans.py:870: FutureWarning: The default value of `n_init` will change from 10 to 'auto' in 1.4. Set the value of `n_init` explicitly to suppress the warning\n",
            "  warnings.warn(\n",
            "/usr/local/lib/python3.10/dist-packages/sklearn/cluster/_kmeans.py:870: FutureWarning: The default value of `n_init` will change from 10 to 'auto' in 1.4. Set the value of `n_init` explicitly to suppress the warning\n",
            "  warnings.warn(\n",
            "/usr/local/lib/python3.10/dist-packages/sklearn/cluster/_kmeans.py:870: FutureWarning: The default value of `n_init` will change from 10 to 'auto' in 1.4. Set the value of `n_init` explicitly to suppress the warning\n",
            "  warnings.warn(\n"
          ]
        },
        {
          "output_type": "stream",
          "name": "stdout",
          "text": [
            "2 11449.675595716697\n",
            "3 4212.758756324245\n",
            "4 2473.167530978606\n",
            "5 1410.4708184681872\n",
            "6 998.9554167746096\n",
            "7 756.4557464685422\n",
            "8 614.4528141239855\n",
            "9 477.9030254996344\n",
            "10 371.54602845468276\n"
          ]
        },
        {
          "output_type": "stream",
          "name": "stderr",
          "text": [
            "/usr/local/lib/python3.10/dist-packages/sklearn/cluster/_kmeans.py:870: FutureWarning: The default value of `n_init` will change from 10 to 'auto' in 1.4. Set the value of `n_init` explicitly to suppress the warning\n",
            "  warnings.warn(\n",
            "/usr/local/lib/python3.10/dist-packages/sklearn/cluster/_kmeans.py:870: FutureWarning: The default value of `n_init` will change from 10 to 'auto' in 1.4. Set the value of `n_init` explicitly to suppress the warning\n",
            "  warnings.warn(\n"
          ]
        }
      ]
    },
    {
      "cell_type": "code",
      "source": [
        "plt.plot(K, dist, 'bx-')\n",
        "plt.xlabel('Число кластеров')\n",
        "plt.ylabel('Inertia')"
      ],
      "metadata": {
        "colab": {
          "base_uri": "https://localhost:8080/",
          "height": 526
        },
        "id": "bdH7PdiEk8BZ",
        "outputId": "78387250-861d-4181-e55b-63888cb69b42"
      },
      "execution_count": 339,
      "outputs": [
        {
          "output_type": "execute_result",
          "data": {
            "text/plain": [
              "Text(0, 0.5, 'Inertia')"
            ]
          },
          "metadata": {},
          "execution_count": 339
        },
        {
          "output_type": "display_data",
          "data": {
            "text/plain": [
              "<Figure size 800x550 with 1 Axes>"
            ],
            "image/png": "[encoded data removed]"
          },
          "metadata": {}
        }
      ]
    },
    {
      "cell_type": "code",
      "source": [
        "from yellowbrick.cluster import KElbowVisualizer\n",
        "model = KMeans()\n",
        "\n",
        "# k is range of number of clusters.\n",
        "visualizer = KElbowVisualizer(model, k=(2,30), timings= True)\n",
        "visualizer.fit(df1[['COUPONPERCENT']])        # Fit data to visualizer\n",
        "visualizer.show()        # Finalize and render figure"
      ],
      "metadata": {
        "colab": {
          "base_uri": "https://localhost:8080/",
          "height": 1000
        },
        "id": "HLihOG7nmy_X",
        "outputId": "bc2cf950-8460-4a57-f0cb-de29e696fb87"
      },
      "execution_count": 340,
      "outputs": [
        {
          "output_type": "stream",
          "name": "stderr",
          "text": [
            "/usr/local/lib/python3.10/dist-packages/sklearn/cluster/_kmeans.py:870: FutureWarning: The default value of `n_init` will change from 10 to 'auto' in 1.4. Set the value of `n_init` explicitly to suppress the warning\n",
            "  warnings.warn(\n",
            "/usr/local/lib/python3.10/dist-packages/sklearn/cluster/_kmeans.py:870: FutureWarning: The default value of `n_init` will change from 10 to 'auto' in 1.4. Set the value of `n_init` explicitly to suppress the warning\n",
            "  warnings.warn(\n",
            "/usr/local/lib/python3.10/dist-packages/sklearn/cluster/_kmeans.py:870: FutureWarning: The default value of `n_init` will change from 10 to 'auto' in 1.4. Set the value of `n_init` explicitly to suppress the warning\n",
            "  warnings.warn(\n",
            "/usr/local/lib/python3.10/dist-packages/sklearn/cluster/_kmeans.py:870: FutureWarning: The default value of `n_init` will change from 10 to 'auto' in 1.4. Set the value of `n_init` explicitly to suppress the warning\n",
            "  warnings.warn(\n",
            "/usr/local/lib/python3.10/dist-packages/sklearn/cluster/_kmeans.py:870: FutureWarning: The default value of `n_init` will change from 10 to 'auto' in 1.4. Set the value of `n_init` explicitly to suppress the warning\n",
            "  warnings.warn(\n",
            "/usr/local/lib/python3.10/dist-packages/sklearn/cluster/_kmeans.py:870: FutureWarning: The default value of `n_init` will change from 10 to 'auto' in 1.4. Set the value of `n_init` explicitly to suppress the warning\n",
            "  warnings.warn(\n",
            "/usr/local/lib/python3.10/dist-packages/sklearn/cluster/_kmeans.py:870: FutureWarning: The default value of `n_init` will change from 10 to 'auto' in 1.4. Set the value of `n_init` explicitly to suppress the warning\n",
            "  warnings.warn(\n",
            "/usr/local/lib/python3.10/dist-packages/sklearn/cluster/_kmeans.py:870: FutureWarning: The default value of `n_init` will change from 10 to 'auto' in 1.4. Set the value of `n_init` explicitly to suppress the warning\n",
            "  warnings.warn(\n",
            "/usr/local/lib/python3.10/dist-packages/sklearn/cluster/_kmeans.py:870: FutureWarning: The default value of `n_init` will change from 10 to 'auto' in 1.4. Set the value of `n_init` explicitly to suppress the warning\n",
            "  warnings.warn(\n",
            "/usr/local/lib/python3.10/dist-packages/sklearn/cluster/_kmeans.py:870: FutureWarning: The default value of `n_init` will change from 10 to 'auto' in 1.4. Set the value of `n_init` explicitly to suppress the warning\n",
            "  warnings.warn(\n",
            "/usr/local/lib/python3.10/dist-packages/sklearn/cluster/_kmeans.py:870: FutureWarning: The default value of `n_init` will change from 10 to 'auto' in 1.4. Set the value of `n_init` explicitly to suppress the warning\n",
            "  warnings.warn(\n",
            "/usr/local/lib/python3.10/dist-packages/sklearn/cluster/_kmeans.py:870: FutureWarning: The default value of `n_init` will change from 10 to 'auto' in 1.4. Set the value of `n_init` explicitly to suppress the warning\n",
            "  warnings.warn(\n",
            "/usr/local/lib/python3.10/dist-packages/sklearn/cluster/_kmeans.py:870: FutureWarning: The default value of `n_init` will change from 10 to 'auto' in 1.4. Set the value of `n_init` explicitly to suppress the warning\n",
            "  warnings.warn(\n",
            "/usr/local/lib/python3.10/dist-packages/sklearn/cluster/_kmeans.py:870: FutureWarning: The default value of `n_init` will change from 10 to 'auto' in 1.4. Set the value of `n_init` explicitly to suppress the warning\n",
            "  warnings.warn(\n",
            "/usr/local/lib/python3.10/dist-packages/sklearn/cluster/_kmeans.py:870: FutureWarning: The default value of `n_init` will change from 10 to 'auto' in 1.4. Set the value of `n_init` explicitly to suppress the warning\n",
            "  warnings.warn(\n",
            "/usr/local/lib/python3.10/dist-packages/sklearn/cluster/_kmeans.py:870: FutureWarning: The default value of `n_init` will change from 10 to 'auto' in 1.4. Set the value of `n_init` explicitly to suppress the warning\n",
            "  warnings.warn(\n",
            "/usr/local/lib/python3.10/dist-packages/sklearn/cluster/_kmeans.py:870: FutureWarning: The default value of `n_init` will change from 10 to 'auto' in 1.4. Set the value of `n_init` explicitly to suppress the warning\n",
            "  warnings.warn(\n",
            "/usr/local/lib/python3.10/dist-packages/sklearn/cluster/_kmeans.py:870: FutureWarning: The default value of `n_init` will change from 10 to 'auto' in 1.4. Set the value of `n_init` explicitly to suppress the warning\n",
            "  warnings.warn(\n",
            "/usr/local/lib/python3.10/dist-packages/sklearn/cluster/_kmeans.py:870: FutureWarning: The default value of `n_init` will change from 10 to 'auto' in 1.4. Set the value of `n_init` explicitly to suppress the warning\n",
            "  warnings.warn(\n",
            "/usr/local/lib/python3.10/dist-packages/sklearn/cluster/_kmeans.py:870: FutureWarning: The default value of `n_init` will change from 10 to 'auto' in 1.4. Set the value of `n_init` explicitly to suppress the warning\n",
            "  warnings.warn(\n",
            "/usr/local/lib/python3.10/dist-packages/sklearn/cluster/_kmeans.py:870: FutureWarning: The default value of `n_init` will change from 10 to 'auto' in 1.4. Set the value of `n_init` explicitly to suppress the warning\n",
            "  warnings.warn(\n",
            "/usr/local/lib/python3.10/dist-packages/sklearn/cluster/_kmeans.py:870: FutureWarning: The default value of `n_init` will change from 10 to 'auto' in 1.4. Set the value of `n_init` explicitly to suppress the warning\n",
            "  warnings.warn(\n",
            "/usr/local/lib/python3.10/dist-packages/sklearn/cluster/_kmeans.py:870: FutureWarning: The default value of `n_init` will change from 10 to 'auto' in 1.4. Set the value of `n_init` explicitly to suppress the warning\n",
            "  warnings.warn(\n",
            "/usr/local/lib/python3.10/dist-packages/sklearn/cluster/_kmeans.py:870: FutureWarning: The default value of `n_init` will change from 10 to 'auto' in 1.4. Set the value of `n_init` explicitly to suppress the warning\n",
            "  warnings.warn(\n",
            "/usr/local/lib/python3.10/dist-packages/sklearn/cluster/_kmeans.py:870: FutureWarning: The default value of `n_init` will change from 10 to 'auto' in 1.4. Set the value of `n_init` explicitly to suppress the warning\n",
            "  warnings.warn(\n",
            "/usr/local/lib/python3.10/dist-packages/sklearn/cluster/_kmeans.py:870: FutureWarning: The default value of `n_init` will change from 10 to 'auto' in 1.4. Set the value of `n_init` explicitly to suppress the warning\n",
            "  warnings.warn(\n",
            "/usr/local/lib/python3.10/dist-packages/sklearn/cluster/_kmeans.py:870: FutureWarning: The default value of `n_init` will change from 10 to 'auto' in 1.4. Set the value of `n_init` explicitly to suppress the warning\n",
            "  warnings.warn(\n",
            "/usr/local/lib/python3.10/dist-packages/sklearn/cluster/_kmeans.py:870: FutureWarning: The default value of `n_init` will change from 10 to 'auto' in 1.4. Set the value of `n_init` explicitly to suppress the warning\n",
            "  warnings.warn(\n"
          ]
        },
        {
          "output_type": "display_data",
          "data": {
            "text/plain": [
              "<Figure size 800x550 with 2 Axes>"
            ],
            "image/png": "[encoded data removed]"
          },
          "metadata": {}
        },
        {
          "output_type": "execute_result",
          "data": {
            "text/plain": [
              "<Axes: title={'center': 'Distortion Score Elbow for KMeans Clustering'}, xlabel='k', ylabel='distortion score'>"
            ]
          },
          "metadata": {},
          "execution_count": 340
        }
      ]
    },
    {
      "cell_type": "markdown",
      "source": [
        "Оптимально выделить 5 кластеров"
      ],
      "metadata": {
        "id": "4vNDJD9qmnr7"
      }
    },
    {
      "cell_type": "code",
      "source": [
        "kmeans = KMeans(n_clusters=5, random_state=42)\n",
        "df1['Cluster']=kmeans.fit_predict(df1[['COUPONPERCENT']])"
      ],
      "metadata": {
        "colab": {
          "base_uri": "https://localhost:8080/"
        },
        "id": "cWyMcHdEml_5",
        "outputId": "c537ca1a-8b41-4f4f-e8cd-44a1c7777807"
      },
      "execution_count": 341,
      "outputs": [
        {
          "output_type": "stream",
          "name": "stderr",
          "text": [
            "/usr/local/lib/python3.10/dist-packages/sklearn/cluster/_kmeans.py:870: FutureWarning: The default value of `n_init` will change from 10 to 'auto' in 1.4. Set the value of `n_init` explicitly to suppress the warning\n",
            "  warnings.warn(\n"
          ]
        }
      ]
    },
    {
      "cell_type": "code",
      "source": [
        "df2=df1[['COUPONPERCENT', 'Cluster']].groupby(['Cluster']).COUPONPERCENT.agg(count='count',mean='mean').sort_values(by='mean').reset_index()"
      ],
      "metadata": {
        "id": "f4q3SjE3bYEY"
      },
      "execution_count": 342,
      "outputs": []
    },
    {
      "cell_type": "code",
      "source": [
        "df2"
      ],
      "metadata": {
        "colab": {
          "base_uri": "https://localhost:8080/",
          "height": 206
        },
        "id": "yY0fwtrEsr9f",
        "outputId": "c628c6a2-b197-401e-f5e5-5b2769025d29"
      },
      "execution_count": 343,
      "outputs": [
        {
          "output_type": "execute_result",
          "data": {
            "text/plain": [
              "   Cluster  count       mean\n",
              "0        0    280   0.238943\n",
              "1        1    484   7.061287\n",
              "2        3    597   9.468280\n",
              "3        2    269  12.851948\n",
              "4        4     59  17.965508"
            ],
            "text/html": [
              "\n",
              "  <div id=\"df-2b16f620-17e9-4fc1-94a3-54373624b25c\">\n",
              "    <div class=\"colab-df-container\">\n",
              "      <div>\n",
              "<style scoped>\n",
              "    .dataframe tbody tr th:only-of-type {\n",
              "        vertical-align: middle;\n",
              "    }\n",
              "\n",
              "    .dataframe tbody tr th {\n",
              "        vertical-align: top;\n",
              "    }\n",
              "\n",
              "    .dataframe thead th {\n",
              "        text-align: right;\n",
              "    }\n",
              "</style>\n",
              "<table border=\"1\" class=\"dataframe\">\n",
              "  <thead>\n",
              "    <tr style=\"text-align: right;\">\n",
              "      <th></th>\n",
              "      <th>Cluster</th>\n",
              "      <th>count</th>\n",
              "      <th>mean</th>\n",
              "    </tr>\n",
              "  </thead>\n",
              "  <tbody>\n",
              "    <tr>\n",
              "      <th>0</th>\n",
              "      <td>0</td>\n",
              "      <td>280</td>\n",
              "      <td>0.238943</td>\n",
              "    </tr>\n",
              "    <tr>\n",
              "      <th>1</th>\n",
              "      <td>1</td>\n",
              "      <td>484</td>\n",
              "      <td>7.061287</td>\n",
              "    </tr>\n",
              "    <tr>\n",
              "      <th>2</th>\n",
              "      <td>3</td>\n",
              "      <td>597</td>\n",
              "      <td>9.468280</td>\n",
              "    </tr>\n",
              "    <tr>\n",
              "      <th>3</th>\n",
              "      <td>2</td>\n",
              "      <td>269</td>\n",
              "      <td>12.851948</td>\n",
              "    </tr>\n",
              "    <tr>\n",
              "      <th>4</th>\n",
              "      <td>4</td>\n",
              "      <td>59</td>\n",
              "      <td>17.965508</td>\n",
              "    </tr>\n",
              "  </tbody>\n",
              "</table>\n",
              "</div>\n",
              "      <button class=\"colab-df-convert\" onclick=\"convertToInteractive('df-2b16f620-17e9-4fc1-94a3-54373624b25c')\"\n",
              "              title=\"Convert this dataframe to an interactive table.\"\n",
              "              style=\"display:none;\">\n",
              "        \n",
              "  <svg xmlns=\"http://www.w3.org/2000/svg\" height=\"24px\"viewBox=\"0 0 24 24\"\n",
              "       width=\"24px\">\n",
              "    <path d=\"M0 0h24v24H0V0z\" fill=\"none\"/>\n",
              "    <path d=\"M18.56 5.44l.94 2.06.94-2.06 2.06-.94-2.06-.94-.94-2.06-.94 2.06-2.06.94zm-11 1L8.5 8.5l.94-2.06 2.06-.94-2.06-.94L8.5 2.5l-.94 2.06-2.06.94zm10 10l.94 2.06.94-2.06 2.06-.94-2.06-.94-.94-2.06-.94 2.06-2.06.94z\"/><path d=\"M17.41 7.96l-1.37-1.37c-.4-.4-.92-.59-1.43-.59-.52 0-1.04.2-1.43.59L10.3 9.45l-7.72 7.72c-.78.78-.78 2.05 0 2.83L4 21.41c.39.39.9.59 1.41.59.51 0 1.02-.2 1.41-.59l7.78-7.78 2.81-2.81c.8-.78.8-2.07 0-2.86zM5.41 20L4 18.59l7.72-7.72 1.47 1.35L5.41 20z\"/>\n",
              "  </svg>\n",
              "      </button>\n",
              "      \n",
              "  <style>\n",
              "    .colab-df-container {\n",
              "      display:flex;\n",
              "      flex-wrap:wrap;\n",
              "      gap: 12px;\n",
              "    }\n",
              "\n",
              "    .colab-df-convert {\n",
              "      background-color: #E8F0FE;\n",
              "      border: none;\n",
              "      border-radius: 50%;\n",
              "      cursor: pointer;\n",
              "      display: none;\n",
              "      fill: #1967D2;\n",
              "      height: 32px;\n",
              "      padding: 0 0 0 0;\n",
              "      width: 32px;\n",
              "    }\n",
              "\n",
              "    .colab-df-convert:hover {\n",
              "      background-color: #E2EBFA;\n",
              "      box-shadow: 0px 1px 2px rgba(60, 64, 67, 0.3), 0px 1px 3px 1px rgba(60, 64, 67, 0.15);\n",
              "      fill: #174EA6;\n",
              "    }\n",
              "\n",
              "    [theme=dark] .colab-df-convert {\n",
              "      background-color: #3B4455;\n",
              "      fill: #D2E3FC;\n",
              "    }\n",
              "\n",
              "    [theme=dark] .colab-df-convert:hover {\n",
              "      background-color: #434B5C;\n",
              "      box-shadow: 0px 1px 3px 1px rgba(0, 0, 0, 0.15);\n",
              "      filter: drop-shadow(0px 1px 2px rgba(0, 0, 0, 0.3));\n",
              "      fill: #FFFFFF;\n",
              "    }\n",
              "  </style>\n",
              "\n",
              "      <script>\n",
              "        const buttonEl =\n",
              "          document.querySelector('#df-2b16f620-17e9-4fc1-94a3-54373624b25c button.colab-df-convert');\n",
              "        buttonEl.style.display =\n",
              "          google.colab.kernel.accessAllowed ? 'block' : 'none';\n",
              "\n",
              "        async function convertToInteractive(key) {\n",
              "          const element = document.querySelector('#df-2b16f620-17e9-4fc1-94a3-54373624b25c');\n",
              "          const dataTable =\n",
              "            await google.colab.kernel.invokeFunction('convertToInteractive',\n",
              "                                                     [key], {});\n",
              "          if (!dataTable) return;\n",
              "\n",
              "          const docLinkHtml = 'Like what you see? Visit the ' +\n",
              "            '<a target=\"_blank\" href=https://colab.research.google.com/notebooks/data_table.ipynb>data table notebook</a>'\n",
              "            + ' to learn more about interactive tables.';\n",
              "          element.innerHTML = '';\n",
              "          dataTable['output_type'] = 'display_data';\n",
              "          await google.colab.output.renderOutput(dataTable, element);\n",
              "          const docLink = document.createElement('div');\n",
              "          docLink.innerHTML = docLinkHtml;\n",
              "          element.appendChild(docLink);\n",
              "        }\n",
              "      </script>\n",
              "    </div>\n",
              "  </div>\n",
              "  "
            ]
          },
          "metadata": {},
          "execution_count": 343
        }
      ]
    },
    {
      "cell_type": "code",
      "source": [
        "plt.xlabel('Кластер')\n",
        "ax1 = df2['count'].plot(kind='bar', color='blue')\n",
        "ax1.set_ylabel('Число облигаций',color=\"blue\")\n",
        "ax2 = ax1.twinx()\n",
        "ax2 = df2['mean'].plot(color=\"red\")\n",
        "ax2.set_ylabel(\"Средний купонный процент\",color=\"red\")\n",
        "plt.show()"
      ],
      "metadata": {
        "colab": {
          "base_uri": "https://localhost:8080/",
          "height": 497
        },
        "id": "yYAfdrBmu_5c",
        "outputId": "3b364824-18b8-4586-bd8a-dae4b1266f1d"
      },
      "execution_count": 344,
      "outputs": [
        {
          "output_type": "display_data",
          "data": {
            "text/plain": [
              "<Figure size 800x550 with 2 Axes>"
            ],
            "image/png": "[encoded data removed]"
          },
          "metadata": {}
        }
      ]
    },
    {
      "cell_type": "markdown",
      "source": [
        "Выбираем облигации с низким риском"
      ],
      "metadata": {
        "id": "PzbLKYbBA9KW"
      }
    },
    {
      "cell_type": "code",
      "source": [
        "df3=df1[(df1.HIGH_RISK==0)]"
      ],
      "metadata": {
        "id": "Kx8251entC4t"
      },
      "execution_count": 345,
      "outputs": []
    },
    {
      "cell_type": "code",
      "source": [
        "df3['FACEVALUE']=df3['FACEVALUE'].str.replace(',', '.').astype(float)\n",
        "df3['COUPONVALUE']=df3['COUPONVALUE'].str.replace(',', '.').astype(float)\n",
        "df3['PRICE_RUB']=df3['PRICE_RUB'].str.replace(',', '.').astype(float)"
      ],
      "metadata": {
        "colab": {
          "base_uri": "https://localhost:8080/"
        },
        "id": "cL4Bq-Ysbodn",
        "outputId": "2a5e236a-08ce-48d0-b885-448b3fd521f8"
      },
      "execution_count": 346,
      "outputs": [
        {
          "output_type": "stream",
          "name": "stderr",
          "text": [
            "<ipython-input-346-07aa177adac6>:1: SettingWithCopyWarning: \n",
            "A value is trying to be set on a copy of a slice from a DataFrame.\n",
            "Try using .loc[row_indexer,col_indexer] = value instead\n",
            "\n",
            "See the caveats in the documentation: https://pandas.pydata.org/pandas-docs/stable/user_guide/indexing.html#returning-a-view-versus-a-copy\n",
            "  df3['FACEVALUE']=df3['FACEVALUE'].str.replace(',', '.').astype(float)\n",
            "<ipython-input-346-07aa177adac6>:2: SettingWithCopyWarning: \n",
            "A value is trying to be set on a copy of a slice from a DataFrame.\n",
            "Try using .loc[row_indexer,col_indexer] = value instead\n",
            "\n",
            "See the caveats in the documentation: https://pandas.pydata.org/pandas-docs/stable/user_guide/indexing.html#returning-a-view-versus-a-copy\n",
            "  df3['COUPONVALUE']=df3['COUPONVALUE'].str.replace(',', '.').astype(float)\n",
            "<ipython-input-346-07aa177adac6>:3: SettingWithCopyWarning: \n",
            "A value is trying to be set on a copy of a slice from a DataFrame.\n",
            "Try using .loc[row_indexer,col_indexer] = value instead\n",
            "\n",
            "See the caveats in the documentation: https://pandas.pydata.org/pandas-docs/stable/user_guide/indexing.html#returning-a-view-versus-a-copy\n",
            "  df3['PRICE_RUB']=df3['PRICE_RUB'].str.replace(',', '.').astype(float)\n"
          ]
        }
      ]
    },
    {
      "cell_type": "code",
      "source": [
        "df3['COUPONAGE'] = df3['COUPONDAYSPASSED'] / df3['COUPONLENGTH']"
      ],
      "metadata": {
        "colab": {
          "base_uri": "https://localhost:8080/"
        },
        "id": "4Mc525zmDcj3",
        "outputId": "1c5d1a72-cd95-4354-abfb-05233ae66c6b"
      },
      "execution_count": 347,
      "outputs": [
        {
          "output_type": "stream",
          "name": "stderr",
          "text": [
            "<ipython-input-347-c572df33706d>:1: SettingWithCopyWarning: \n",
            "A value is trying to be set on a copy of a slice from a DataFrame.\n",
            "Try using .loc[row_indexer,col_indexer] = value instead\n",
            "\n",
            "See the caveats in the documentation: https://pandas.pydata.org/pandas-docs/stable/user_guide/indexing.html#returning-a-view-versus-a-copy\n",
            "  df3['COUPONAGE'] = df3['COUPONDAYSPASSED'] / df3['COUPONLENGTH']\n"
          ]
        }
      ]
    },
    {
      "cell_type": "code",
      "source": [
        "df4 = df3.loc[df3['COUPONAGE']<=0.2]"
      ],
      "metadata": {
        "id": "Y9OXmXUHJYHr"
      },
      "execution_count": 348,
      "outputs": []
    },
    {
      "cell_type": "code",
      "source": [
        "df4.reset_index(drop=True, inplace=True)"
      ],
      "metadata": {
        "id": "vKmQbluGJZuN"
      },
      "execution_count": 349,
      "outputs": []
    },
    {
      "cell_type": "code",
      "source": [
        "df4['NKD']= df4['FACEVALUE']*df4['COUPONAGE']*(df4['COUPONPERCENT']/df4['COUPONFREQUENCY'])"
      ],
      "metadata": {
        "colab": {
          "base_uri": "https://localhost:8080/"
        },
        "id": "gDGqSaCbGuLM",
        "outputId": "d8cc9be7-7911-48df-e8f5-9388217673b3"
      },
      "execution_count": 350,
      "outputs": [
        {
          "output_type": "stream",
          "name": "stderr",
          "text": [
            "<ipython-input-350-aa820e427ede>:1: SettingWithCopyWarning: \n",
            "A value is trying to be set on a copy of a slice from a DataFrame.\n",
            "Try using .loc[row_indexer,col_indexer] = value instead\n",
            "\n",
            "See the caveats in the documentation: https://pandas.pydata.org/pandas-docs/stable/user_guide/indexing.html#returning-a-view-versus-a-copy\n",
            "  df4['NKD']= df4['FACEVALUE']*df4['COUPONAGE']*(df4['COUPONPERCENT']/df4['COUPONFREQUENCY'])\n"
          ]
        }
      ]
    },
    {
      "cell_type": "code",
      "source": [
        "df4['Delta'] = df4['FACEVALUE'] - df4['PRICE_RUB']"
      ],
      "metadata": {
        "colab": {
          "base_uri": "https://localhost:8080/"
        },
        "id": "kvZoHHeMSA9B",
        "outputId": "fb706e9e-8e52-4d17-efaf-3da2e27b1227"
      },
      "execution_count": 351,
      "outputs": [
        {
          "output_type": "stream",
          "name": "stderr",
          "text": [
            "<ipython-input-351-c613e2ef86e5>:1: SettingWithCopyWarning: \n",
            "A value is trying to be set on a copy of a slice from a DataFrame.\n",
            "Try using .loc[row_indexer,col_indexer] = value instead\n",
            "\n",
            "See the caveats in the documentation: https://pandas.pydata.org/pandas-docs/stable/user_guide/indexing.html#returning-a-view-versus-a-copy\n",
            "  df4['Delta'] = df4['FACEVALUE'] - df4['PRICE_RUB']\n"
          ]
        }
      ]
    },
    {
      "cell_type": "code",
      "source": [
        "df4['Delta']=df4['Delta']*df4['Delta'].apply(lambda x: 0.87 if x > 0 else 1)"
      ],
      "metadata": {
        "colab": {
          "base_uri": "https://localhost:8080/"
        },
        "id": "OMtGVWl6Vnbo",
        "outputId": "1060d4a6-9f41-4afc-85e7-6c4a5d965446"
      },
      "execution_count": 352,
      "outputs": [
        {
          "output_type": "stream",
          "name": "stderr",
          "text": [
            "<ipython-input-352-686eb6da476b>:1: SettingWithCopyWarning: \n",
            "A value is trying to be set on a copy of a slice from a DataFrame.\n",
            "Try using .loc[row_indexer,col_indexer] = value instead\n",
            "\n",
            "See the caveats in the documentation: https://pandas.pydata.org/pandas-docs/stable/user_guide/indexing.html#returning-a-view-versus-a-copy\n",
            "  df4['Delta']=df4['Delta']*df4['Delta'].apply(lambda x: 0.87 if x > 0 else 1)\n"
          ]
        }
      ]
    },
    {
      "cell_type": "code",
      "source": [
        "df4['Profit']=((df4['Delta'] - df4['NKD'] + 0.87 * df4['COUPONVALUE'] * df4['COUPONFREQUENCY'])*100)/((df4['PRICE_RUB'] + df4['NKD'])*(1+0.06/100+0.0125/100))"
      ],
      "metadata": {
        "colab": {
          "base_uri": "https://localhost:8080/"
        },
        "id": "xzHUj3eJJr8s",
        "outputId": "ad5bfdd6-701e-4dbf-b3f5-d25dd2877ae8"
      },
      "execution_count": 353,
      "outputs": [
        {
          "output_type": "stream",
          "name": "stderr",
          "text": [
            "<ipython-input-353-4690c211b983>:1: SettingWithCopyWarning: \n",
            "A value is trying to be set on a copy of a slice from a DataFrame.\n",
            "Try using .loc[row_indexer,col_indexer] = value instead\n",
            "\n",
            "See the caveats in the documentation: https://pandas.pydata.org/pandas-docs/stable/user_guide/indexing.html#returning-a-view-versus-a-copy\n",
            "  df4['Profit']=((df4['Delta'] - df4['NKD'] + 0.87 * df4['COUPONVALUE'] * df4['COUPONFREQUENCY'])*100)/((df4['PRICE_RUB'] + df4['NKD'])*(1+0.06/100+0.0125/100))\n"
          ]
        }
      ]
    },
    {
      "cell_type": "code",
      "source": [
        "df4['Profit']"
      ],
      "metadata": {
        "colab": {
          "base_uri": "https://localhost:8080/"
        },
        "id": "4M9mqLhDMcf9",
        "outputId": "f5e6012f-ab61-4173-bc3b-ead0b03329e2"
      },
      "execution_count": 354,
      "outputs": [
        {
          "output_type": "execute_result",
          "data": {
            "text/plain": [
              "0     -40.554712\n",
              "1     -25.832703\n",
              "2       8.172315\n",
              "3       8.172315\n",
              "4      -3.682503\n",
              "         ...    \n",
              "323    -4.173362\n",
              "324    -5.290749\n",
              "325   -30.947251\n",
              "326   -26.853479\n",
              "327   -16.676050\n",
              "Name: Profit, Length: 328, dtype: float64"
            ]
          },
          "metadata": {},
          "execution_count": 354
        }
      ]
    },
    {
      "cell_type": "code",
      "source": [
        "plt.plot(df4['Profit'], 'bx-')"
      ],
      "metadata": {
        "colab": {
          "base_uri": "https://localhost:8080/",
          "height": 501
        },
        "id": "b_iA9ryFXf4n",
        "outputId": "0d8b71f5-837c-4dd8-faea-2d11ebb43feb"
      },
      "execution_count": 355,
      "outputs": [
        {
          "output_type": "execute_result",
          "data": {
            "text/plain": [
              "[<matplotlib.lines.Line2D at 0x7f3b9faef310>]"
            ]
          },
          "metadata": {},
          "execution_count": 355
        },
        {
          "output_type": "display_data",
          "data": {
            "text/plain": [
              "<Figure size 800x550 with 1 Axes>"
            ],
            "image/png": "[encoded data removed]"
          },
          "metadata": {}
        }
      ]
    }
  ]
}