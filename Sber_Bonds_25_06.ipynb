{
  "nbformat": 4,
  "nbformat_minor": 0,
  "metadata": {
    "colab": {
      "provenance": [],
      "authorship_tag": "ABX9TyOUHppAX9ytje1nCWKyULIC",
      "include_colab_link": true
    },
    "kernelspec": {
      "name": "python3",
      "display_name": "Python 3"
    },
    "language_info": {
      "name": "python"
    }
  },
  "cells": [
    {
      "cell_type": "markdown",
      "metadata": {
        "id": "view-in-github",
        "colab_type": "text"
      },
      "source": [
        "<a href=\"https://colab.research.google.com/github/Andbwol/Sber_lesson_3/blob/main/Sber_Bonds_25_06.ipynb\" target=\"_parent\"><img src=\"https://colab.research.google.com/assets/colab-badge.svg\" alt=\"Open In Colab\"/></a>"
      ]
    },
    {
      "cell_type": "code",
      "execution_count": 178,
      "metadata": {
        "id": "RuFwV3iLgT1c"
      },
      "outputs": [],
      "source": [
        "import pandas as pd\n",
        "import requests\n",
        "import io\n",
        "from sklearn.cluster import KMeans\n",
        "import matplotlib.pyplot as plt\n",
        "import datetime as dt"
      ]
    },
    {
      "cell_type": "code",
      "source": [
        "s=requests.get('https://iss.moex.com/iss/apps/infogrid/emission/rates.csv?iss.dp=comma&iss.df=%25d.%25m.%25Y&iss.tf=%25H:%25M:%25S&iss.dtf=%25d.%25m.%25Y%25H:%25M:%25S&iss.only=rates&limit=unlimited&lang=ru').content"
      ],
      "metadata": {
        "id": "ed9JwuVbifn6"
      },
      "execution_count": null,
      "outputs": []
    },
    {
      "cell_type": "code",
      "source": [
        "df=pd.read_csv(io.StringIO(s.decode('cp1251')), sep=';',header=1)"
      ],
      "metadata": {
        "id": "sbJoZj-yguki"
      },
      "execution_count": null,
      "outputs": []
    },
    {
      "cell_type": "code",
      "source": [
        "df.shape"
      ],
      "metadata": {
        "colab": {
          "base_uri": "https://localhost:8080/"
        },
        "id": "KQiFr7Ogjljo",
        "outputId": "ff0ecd30-2d80-4855-f2d7-8dee0d9f7e85"
      },
      "execution_count": null,
      "outputs": [
        {
          "output_type": "execute_result",
          "data": {
            "text/plain": [
              "(2553, 55)"
            ]
          },
          "metadata": {},
          "execution_count": 328
        }
      ]
    },
    {
      "cell_type": "code",
      "source": [
        "df.head"
      ],
      "metadata": {
        "colab": {
          "base_uri": "https://localhost:8080/"
        },
        "id": "9SUPMOOXj5hA",
        "outputId": "20b1ba2a-57d9-41df-91cb-7ec2d4468f07"
      },
      "execution_count": 249,
      "outputs": [
        {
          "output_type": "execute_result",
          "data": {
            "text/plain": [
              "<bound method NDFrame.head of              SECID   SHORTNAME                            NAME  \\\n",
              "0     AMUNIBB2DER6  UBANK02/24        UNIBANK OJSC Series 1 21   \n",
              "1     AT0000A2UF10  Raiff BIAG          Raiffeisen Bank Int AG   \n",
              "2     CH0248531110  VTB-24 CHF         VTB CAPITAL S.A. 24 CHF   \n",
              "3     CH0379268748  RZD-23 CHF          RZD Capital PLC 23 CHF   \n",
              "4     CH0419041618  RZD-25 CHF  RZD CAPITAL PLC 0.898 03/10/25   \n",
              "...            ...         ...                             ...   \n",
              "2543  XS2420560869    BCS01/25           BCS SP Plc Series 239   \n",
              "2544  XS2423361190  BCS02/27-4           BCS SP Plc Series 240   \n",
              "2545  XS2429208486    BCS05/25           BCS SP Plc Series 243   \n",
              "2546  XS2439218640  BCS06/25-B           BCS SP Plc Series 244   \n",
              "2547  XS2446844321  BCS06/25-C           BCS SP Plc Series 245   \n",
              "\n",
              "                         TYPENAME          ISIN REGNUMBER  LISTLEVEL  \\\n",
              "0     Корпоративные еврооблигации  AMUNIBB2DER6       NaN        3.0   \n",
              "1     Корпоративные еврооблигации  AT0000A2UF10       NaN        3.0   \n",
              "2     Корпоративные еврооблигации  CH0248531110       NaN        NaN   \n",
              "3     Корпоративные еврооблигации  CH0379268748       NaN        NaN   \n",
              "4     Корпоративные еврооблигации  CH0419041618       NaN        NaN   \n",
              "...                           ...           ...       ...        ...   \n",
              "2543  Корпоративные еврооблигации  XS2420560869       NaN        3.0   \n",
              "2544  Корпоративные еврооблигации  XS2423361190       NaN        3.0   \n",
              "2545  Корпоративные еврооблигации  XS2429208486       NaN        3.0   \n",
              "2546  Корпоративные еврооблигации  XS2439218640       NaN        3.0   \n",
              "2547  Корпоративные еврооблигации  XS2446844321       NaN        3.0   \n",
              "\n",
              "     FACEVALUE FACEUNIT  ISSUESIZE  ...  RTL3        RTH3 DISCOUNT1 LIMIT1  \\\n",
              "0        100,0      USD    33478.0  ...   0,0    17246,34     100,0    NaN   \n",
              "1       1000,0      USD    50000.0  ...   0,0   141277,68     100,0    NaN   \n",
              "2       5000,0      CHF    70000.0  ...   0,0  1007485,88     100,0    NaN   \n",
              "3       5000,0      CHF    90000.0  ...   0,0   595784,72     100,0    NaN   \n",
              "4       5000,0      CHF    70000.0  ...   0,0   916049,84     100,0    NaN   \n",
              "...        ...      ...        ...  ...   ...         ...       ...    ...   \n",
              "2543  100000,0      RUB      700.0  ...   0,0    200000,0     100,0    NaN   \n",
              "2544    1250,0      USD     8000.0  ...   0,0    211429,8     100,0    NaN   \n",
              "2545    1250,0      USD     8000.0  ...   0,0   195981,52     100,0    NaN   \n",
              "2546    1250,0      USD     8000.0  ...   0,0   206435,56     100,0    NaN   \n",
              "2547    1000,0      EUR     5000.0  ...   0,0    184610,4     100,0    NaN   \n",
              "\n",
              "     DISCOUNT2 LIMIT2  DISCOUNT3  DISCOUNTL0  DISCOUNTH0  FULLCOVERED  \n",
              "0          NaN    NaN        NaN   100,00000   100,00000          1.0  \n",
              "1          NaN    NaN        NaN   100,00000   100,00000          1.0  \n",
              "2          NaN    NaN        NaN   100,00000   100,00000          1.0  \n",
              "3          NaN    NaN        NaN   100,00000   100,00000          1.0  \n",
              "4          NaN    NaN        NaN   100,00000   100,00000          1.0  \n",
              "...        ...    ...        ...         ...         ...          ...  \n",
              "2543       NaN    NaN        NaN   100,00000   100,00000          1.0  \n",
              "2544       NaN    NaN        NaN   100,00000   100,00000          1.0  \n",
              "2545       NaN    NaN        NaN   100,00000   100,00000          1.0  \n",
              "2546       NaN    NaN        NaN   100,00000   100,00000          1.0  \n",
              "2547       NaN    NaN        NaN   100,00000   100,00000          1.0  \n",
              "\n",
              "[2548 rows x 55 columns]>"
            ]
          },
          "metadata": {},
          "execution_count": 249
        }
      ]
    },
    {
      "cell_type": "code",
      "source": [
        "df.info()"
      ],
      "metadata": {
        "colab": {
          "base_uri": "https://localhost:8080/"
        },
        "id": "ReRYMpIxbhxp",
        "outputId": "d2002cdf-58d1-422d-9e0f-bdb45abae575"
      },
      "execution_count": null,
      "outputs": [
        {
          "output_type": "stream",
          "name": "stdout",
          "text": [
            "<class 'pandas.core.frame.DataFrame'>\n",
            "RangeIndex: 2553 entries, 0 to 2552\n",
            "Data columns (total 55 columns):\n",
            " #   Column                  Non-Null Count  Dtype  \n",
            "---  ------                  --------------  -----  \n",
            " 0   SECID                   2553 non-null   object \n",
            " 1   SHORTNAME               2553 non-null   object \n",
            " 2   NAME                    2553 non-null   object \n",
            " 3   TYPENAME                2553 non-null   object \n",
            " 4   ISIN                    2553 non-null   object \n",
            " 5   REGNUMBER               2238 non-null   object \n",
            " 6   LISTLEVEL               2366 non-null   float64\n",
            " 7   FACEVALUE               2553 non-null   object \n",
            " 8   FACEUNIT                2553 non-null   object \n",
            " 9   ISSUESIZE               2476 non-null   float64\n",
            " 10  IS_COLLATERAL           2553 non-null   int64  \n",
            " 11  IS_EXTERNAL             2553 non-null   int64  \n",
            " 12  PRIMARY_BOARDID         2553 non-null   object \n",
            " 13  PRIMARY_BOARD_TITLE     2553 non-null   object \n",
            " 14  MATDATE                 2501 non-null   object \n",
            " 15  IS_RII                  17 non-null     object \n",
            " 16  DURATION                1678 non-null   float64\n",
            " 17  INCLUDEDBYMOEX          227 non-null    float64\n",
            " 18  EVENINGSESSION          2553 non-null   int64  \n",
            " 19  MORNINGSESSION          2553 non-null   int64  \n",
            " 20  IS_QUALIFIED_INVESTORS  2553 non-null   int64  \n",
            " 21  HIGH_RISK               2553 non-null   int64  \n",
            " 22  COUPONFREQUENCY         2140 non-null   float64\n",
            " 23  YIELDATWAP              1261 non-null   object \n",
            " 24  COUPONDATE              2541 non-null   object \n",
            " 25  COUPONPERCENT           2345 non-null   object \n",
            " 26  COUPONVALUE             2346 non-null   object \n",
            " 27  COUPONDAYSPASSED        2513 non-null   float64\n",
            " 28  COUPONDAYSREMAIN        2513 non-null   float64\n",
            " 29  COUPONLENGTH            2541 non-null   float64\n",
            " 30  ISSUEDATE               2553 non-null   object \n",
            " 31  INITIALFACEVALUE        2553 non-null   object \n",
            " 32  SECSUBTYPE              260 non-null    object \n",
            " 33  STARTDATEMOEX           2347 non-null   object \n",
            " 34  DAYSTOREDEMPTION        2501 non-null   float64\n",
            " 35  OFFERDATE               366 non-null    object \n",
            " 36  EMITENTNAME             2553 non-null   object \n",
            " 37  INN                     2548 non-null   float64\n",
            " 38  LOTSIZE                 2551 non-null   float64\n",
            " 39  PRICE                   2518 non-null   object \n",
            " 40  PRICE_RUB               2518 non-null   object \n",
            " 41  RTL1                    2518 non-null   object \n",
            " 42  RTH1                    2518 non-null   object \n",
            " 43  RTL2                    2518 non-null   object \n",
            " 44  RTH2                    2518 non-null   object \n",
            " 45  RTL3                    2518 non-null   object \n",
            " 46  RTH3                    2518 non-null   object \n",
            " 47  DISCOUNT1               2553 non-null   object \n",
            " 48  LIMIT1                  957 non-null    float64\n",
            " 49  DISCOUNT2               957 non-null    object \n",
            " 50  LIMIT2                  957 non-null    float64\n",
            " 51  DISCOUNT3               957 non-null    object \n",
            " 52  DISCOUNTL0              2518 non-null   object \n",
            " 53  DISCOUNTH0              2518 non-null   object \n",
            " 54  FULLCOVERED             2518 non-null   float64\n",
            "dtypes: float64(14), int64(6), object(35)\n",
            "memory usage: 1.1+ MB\n"
          ]
        }
      ]
    },
    {
      "cell_type": "code",
      "source": [
        "df1 = df[['SHORTNAME', 'NAME', 'FACEVALUE', 'FACEUNIT','IS_QUALIFIED_INVESTORS','HIGH_RISK','COUPONDAYSPASSED','COUPONLENGTH', 'COUPONFREQUENCY','COUPONDATE', 'COUPONPERCENT', 'COUPONVALUE', 'EMITENTNAME', 'INN', 'PRICE', 'PRICE_RUB', 'SECSUBTYPE', 'MATDATE']]"
      ],
      "metadata": {
        "id": "5tTxopaOczQv"
      },
      "execution_count": 77,
      "outputs": []
    },
    {
      "cell_type": "code",
      "source": [
        "df1.groupby('FACEUNIT').count()"
      ],
      "metadata": {
        "colab": {
          "base_uri": "https://localhost:8080/",
          "height": 333
        },
        "id": "hdhFrUPUfdrf",
        "outputId": "b5615330-ba80-4b66-8659-6e5c2bf4c67f"
      },
      "execution_count": 78,
      "outputs": [
        {
          "output_type": "execute_result",
          "data": {
            "text/plain": [
              "          SHORTNAME  NAME  FACEVALUE  IS_QUALIFIED_INVESTORS  HIGH_RISK  \\\n",
              "FACEUNIT                                                                  \n",
              "CHF               6     6          6                       6          6   \n",
              "CNY              30    30         30                      30         30   \n",
              "EUR              38    38         38                      38         38   \n",
              "GBP               3     3          3                       3          3   \n",
              "RUB            2191  2191       2191                    2191       2191   \n",
              "USD             280   280        280                     280        280   \n",
              "\n",
              "          COUPONDAYSPASSED  COUPONLENGTH  COUPONFREQUENCY  COUPONDATE  \\\n",
              "FACEUNIT                                                                \n",
              "CHF                      6             6                6           6   \n",
              "CNY                     29            29               22          29   \n",
              "EUR                     38            38               36          38   \n",
              "GBP                      3             3                3           3   \n",
              "RUB                   2172          2185             1798        2185   \n",
              "USD                    272           275              268         275   \n",
              "\n",
              "          COUPONPERCENT  COUPONVALUE  EMITENTNAME   INN  PRICE  PRICE_RUB  \\\n",
              "FACEUNIT                                                                    \n",
              "CHF                   5            6            6     6      6          6   \n",
              "CNY                  29           29           30    30     30         30   \n",
              "EUR                  31           32           38    38     36         36   \n",
              "GBP                   3            3            3     3      3          3   \n",
              "RUB                2060         2062         2191  2191   2178       2178   \n",
              "USD                 216          216          280   275    260        260   \n",
              "\n",
              "          SECSUBTYPE  MATDATE  \n",
              "FACEUNIT                       \n",
              "CHF                0        5  \n",
              "CNY                8       30  \n",
              "EUR                6       32  \n",
              "GBP                0        3  \n",
              "RUB              229     2162  \n",
              "USD               23      263  "
            ],
            "text/html": [
              "\n",
              "  <div id=\"df-00f6d5ef-171b-4777-a74d-0aae541ec2b8\">\n",
              "    <div class=\"colab-df-container\">\n",
              "      <div>\n",
              "<style scoped>\n",
              "    .dataframe tbody tr th:only-of-type {\n",
              "        vertical-align: middle;\n",
              "    }\n",
              "\n",
              "    .dataframe tbody tr th {\n",
              "        vertical-align: top;\n",
              "    }\n",
              "\n",
              "    .dataframe thead th {\n",
              "        text-align: right;\n",
              "    }\n",
              "</style>\n",
              "<table border=\"1\" class=\"dataframe\">\n",
              "  <thead>\n",
              "    <tr style=\"text-align: right;\">\n",
              "      <th></th>\n",
              "      <th>SHORTNAME</th>\n",
              "      <th>NAME</th>\n",
              "      <th>FACEVALUE</th>\n",
              "      <th>IS_QUALIFIED_INVESTORS</th>\n",
              "      <th>HIGH_RISK</th>\n",
              "      <th>COUPONDAYSPASSED</th>\n",
              "      <th>COUPONLENGTH</th>\n",
              "      <th>COUPONFREQUENCY</th>\n",
              "      <th>COUPONDATE</th>\n",
              "      <th>COUPONPERCENT</th>\n",
              "      <th>COUPONVALUE</th>\n",
              "      <th>EMITENTNAME</th>\n",
              "      <th>INN</th>\n",
              "      <th>PRICE</th>\n",
              "      <th>PRICE_RUB</th>\n",
              "      <th>SECSUBTYPE</th>\n",
              "      <th>MATDATE</th>\n",
              "    </tr>\n",
              "    <tr>\n",
              "      <th>FACEUNIT</th>\n",
              "      <th></th>\n",
              "      <th></th>\n",
              "      <th></th>\n",
              "      <th></th>\n",
              "      <th></th>\n",
              "      <th></th>\n",
              "      <th></th>\n",
              "      <th></th>\n",
              "      <th></th>\n",
              "      <th></th>\n",
              "      <th></th>\n",
              "      <th></th>\n",
              "      <th></th>\n",
              "      <th></th>\n",
              "      <th></th>\n",
              "      <th></th>\n",
              "      <th></th>\n",
              "    </tr>\n",
              "  </thead>\n",
              "  <tbody>\n",
              "    <tr>\n",
              "      <th>CHF</th>\n",
              "      <td>6</td>\n",
              "      <td>6</td>\n",
              "      <td>6</td>\n",
              "      <td>6</td>\n",
              "      <td>6</td>\n",
              "      <td>6</td>\n",
              "      <td>6</td>\n",
              "      <td>6</td>\n",
              "      <td>6</td>\n",
              "      <td>5</td>\n",
              "      <td>6</td>\n",
              "      <td>6</td>\n",
              "      <td>6</td>\n",
              "      <td>6</td>\n",
              "      <td>6</td>\n",
              "      <td>0</td>\n",
              "      <td>5</td>\n",
              "    </tr>\n",
              "    <tr>\n",
              "      <th>CNY</th>\n",
              "      <td>30</td>\n",
              "      <td>30</td>\n",
              "      <td>30</td>\n",
              "      <td>30</td>\n",
              "      <td>30</td>\n",
              "      <td>29</td>\n",
              "      <td>29</td>\n",
              "      <td>22</td>\n",
              "      <td>29</td>\n",
              "      <td>29</td>\n",
              "      <td>29</td>\n",
              "      <td>30</td>\n",
              "      <td>30</td>\n",
              "      <td>30</td>\n",
              "      <td>30</td>\n",
              "      <td>8</td>\n",
              "      <td>30</td>\n",
              "    </tr>\n",
              "    <tr>\n",
              "      <th>EUR</th>\n",
              "      <td>38</td>\n",
              "      <td>38</td>\n",
              "      <td>38</td>\n",
              "      <td>38</td>\n",
              "      <td>38</td>\n",
              "      <td>38</td>\n",
              "      <td>38</td>\n",
              "      <td>36</td>\n",
              "      <td>38</td>\n",
              "      <td>31</td>\n",
              "      <td>32</td>\n",
              "      <td>38</td>\n",
              "      <td>38</td>\n",
              "      <td>36</td>\n",
              "      <td>36</td>\n",
              "      <td>6</td>\n",
              "      <td>32</td>\n",
              "    </tr>\n",
              "    <tr>\n",
              "      <th>GBP</th>\n",
              "      <td>3</td>\n",
              "      <td>3</td>\n",
              "      <td>3</td>\n",
              "      <td>3</td>\n",
              "      <td>3</td>\n",
              "      <td>3</td>\n",
              "      <td>3</td>\n",
              "      <td>3</td>\n",
              "      <td>3</td>\n",
              "      <td>3</td>\n",
              "      <td>3</td>\n",
              "      <td>3</td>\n",
              "      <td>3</td>\n",
              "      <td>3</td>\n",
              "      <td>3</td>\n",
              "      <td>0</td>\n",
              "      <td>3</td>\n",
              "    </tr>\n",
              "    <tr>\n",
              "      <th>RUB</th>\n",
              "      <td>2191</td>\n",
              "      <td>2191</td>\n",
              "      <td>2191</td>\n",
              "      <td>2191</td>\n",
              "      <td>2191</td>\n",
              "      <td>2172</td>\n",
              "      <td>2185</td>\n",
              "      <td>1798</td>\n",
              "      <td>2185</td>\n",
              "      <td>2060</td>\n",
              "      <td>2062</td>\n",
              "      <td>2191</td>\n",
              "      <td>2191</td>\n",
              "      <td>2178</td>\n",
              "      <td>2178</td>\n",
              "      <td>229</td>\n",
              "      <td>2162</td>\n",
              "    </tr>\n",
              "    <tr>\n",
              "      <th>USD</th>\n",
              "      <td>280</td>\n",
              "      <td>280</td>\n",
              "      <td>280</td>\n",
              "      <td>280</td>\n",
              "      <td>280</td>\n",
              "      <td>272</td>\n",
              "      <td>275</td>\n",
              "      <td>268</td>\n",
              "      <td>275</td>\n",
              "      <td>216</td>\n",
              "      <td>216</td>\n",
              "      <td>280</td>\n",
              "      <td>275</td>\n",
              "      <td>260</td>\n",
              "      <td>260</td>\n",
              "      <td>23</td>\n",
              "      <td>263</td>\n",
              "    </tr>\n",
              "  </tbody>\n",
              "</table>\n",
              "</div>\n",
              "      <button class=\"colab-df-convert\" onclick=\"convertToInteractive('df-00f6d5ef-171b-4777-a74d-0aae541ec2b8')\"\n",
              "              title=\"Convert this dataframe to an interactive table.\"\n",
              "              style=\"display:none;\">\n",
              "        \n",
              "  <svg xmlns=\"http://www.w3.org/2000/svg\" height=\"24px\"viewBox=\"0 0 24 24\"\n",
              "       width=\"24px\">\n",
              "    <path d=\"M0 0h24v24H0V0z\" fill=\"none\"/>\n",
              "    <path d=\"M18.56 5.44l.94 2.06.94-2.06 2.06-.94-2.06-.94-.94-2.06-.94 2.06-2.06.94zm-11 1L8.5 8.5l.94-2.06 2.06-.94-2.06-.94L8.5 2.5l-.94 2.06-2.06.94zm10 10l.94 2.06.94-2.06 2.06-.94-2.06-.94-.94-2.06-.94 2.06-2.06.94z\"/><path d=\"M17.41 7.96l-1.37-1.37c-.4-.4-.92-.59-1.43-.59-.52 0-1.04.2-1.43.59L10.3 9.45l-7.72 7.72c-.78.78-.78 2.05 0 2.83L4 21.41c.39.39.9.59 1.41.59.51 0 1.02-.2 1.41-.59l7.78-7.78 2.81-2.81c.8-.78.8-2.07 0-2.86zM5.41 20L4 18.59l7.72-7.72 1.47 1.35L5.41 20z\"/>\n",
              "  </svg>\n",
              "      </button>\n",
              "      \n",
              "  <style>\n",
              "    .colab-df-container {\n",
              "      display:flex;\n",
              "      flex-wrap:wrap;\n",
              "      gap: 12px;\n",
              "    }\n",
              "\n",
              "    .colab-df-convert {\n",
              "      background-color: #E8F0FE;\n",
              "      border: none;\n",
              "      border-radius: 50%;\n",
              "      cursor: pointer;\n",
              "      display: none;\n",
              "      fill: #1967D2;\n",
              "      height: 32px;\n",
              "      padding: 0 0 0 0;\n",
              "      width: 32px;\n",
              "    }\n",
              "\n",
              "    .colab-df-convert:hover {\n",
              "      background-color: #E2EBFA;\n",
              "      box-shadow: 0px 1px 2px rgba(60, 64, 67, 0.3), 0px 1px 3px 1px rgba(60, 64, 67, 0.15);\n",
              "      fill: #174EA6;\n",
              "    }\n",
              "\n",
              "    [theme=dark] .colab-df-convert {\n",
              "      background-color: #3B4455;\n",
              "      fill: #D2E3FC;\n",
              "    }\n",
              "\n",
              "    [theme=dark] .colab-df-convert:hover {\n",
              "      background-color: #434B5C;\n",
              "      box-shadow: 0px 1px 3px 1px rgba(0, 0, 0, 0.15);\n",
              "      filter: drop-shadow(0px 1px 2px rgba(0, 0, 0, 0.3));\n",
              "      fill: #FFFFFF;\n",
              "    }\n",
              "  </style>\n",
              "\n",
              "      <script>\n",
              "        const buttonEl =\n",
              "          document.querySelector('#df-00f6d5ef-171b-4777-a74d-0aae541ec2b8 button.colab-df-convert');\n",
              "        buttonEl.style.display =\n",
              "          google.colab.kernel.accessAllowed ? 'block' : 'none';\n",
              "\n",
              "        async function convertToInteractive(key) {\n",
              "          const element = document.querySelector('#df-00f6d5ef-171b-4777-a74d-0aae541ec2b8');\n",
              "          const dataTable =\n",
              "            await google.colab.kernel.invokeFunction('convertToInteractive',\n",
              "                                                     [key], {});\n",
              "          if (!dataTable) return;\n",
              "\n",
              "          const docLinkHtml = 'Like what you see? Visit the ' +\n",
              "            '<a target=\"_blank\" href=https://colab.research.google.com/notebooks/data_table.ipynb>data table notebook</a>'\n",
              "            + ' to learn more about interactive tables.';\n",
              "          element.innerHTML = '';\n",
              "          dataTable['output_type'] = 'display_data';\n",
              "          await google.colab.output.renderOutput(dataTable, element);\n",
              "          const docLink = document.createElement('div');\n",
              "          docLink.innerHTML = docLinkHtml;\n",
              "          element.appendChild(docLink);\n",
              "        }\n",
              "      </script>\n",
              "    </div>\n",
              "  </div>\n",
              "  "
            ]
          },
          "metadata": {},
          "execution_count": 78
        }
      ]
    },
    {
      "cell_type": "code",
      "source": [
        "df1=df1[(df1.FACEUNIT=='RUB')]"
      ],
      "metadata": {
        "id": "IrbcyKEJfixC"
      },
      "execution_count": 79,
      "outputs": []
    },
    {
      "cell_type": "code",
      "source": [
        "df1.isna().sum()"
      ],
      "metadata": {
        "colab": {
          "base_uri": "https://localhost:8080/"
        },
        "id": "D9ZipinHknnI",
        "outputId": "a3ea97e5-0298-4e96-d1df-af18b6166d5a"
      },
      "execution_count": 80,
      "outputs": [
        {
          "output_type": "execute_result",
          "data": {
            "text/plain": [
              "SHORTNAME                    0\n",
              "NAME                         0\n",
              "FACEVALUE                    0\n",
              "FACEUNIT                     0\n",
              "IS_QUALIFIED_INVESTORS       0\n",
              "HIGH_RISK                    0\n",
              "COUPONDAYSPASSED            19\n",
              "COUPONLENGTH                 6\n",
              "COUPONFREQUENCY            393\n",
              "COUPONDATE                   6\n",
              "COUPONPERCENT              131\n",
              "COUPONVALUE                129\n",
              "EMITENTNAME                  0\n",
              "INN                          0\n",
              "PRICE                       13\n",
              "PRICE_RUB                   13\n",
              "SECSUBTYPE                1962\n",
              "MATDATE                     29\n",
              "dtype: int64"
            ]
          },
          "metadata": {},
          "execution_count": 80
        }
      ]
    },
    {
      "cell_type": "code",
      "source": [
        "df1 = df1.dropna(subset=['COUPONPERCENT','PRICE','COUPONFREQUENCY','COUPONVALUE', 'COUPONDAYSPASSED', 'MATDATE'])"
      ],
      "metadata": {
        "id": "KW_98BoXiSwv"
      },
      "execution_count": 83,
      "outputs": []
    },
    {
      "cell_type": "code",
      "source": [
        "df1.isna().sum()"
      ],
      "metadata": {
        "colab": {
          "base_uri": "https://localhost:8080/"
        },
        "id": "aq11Wci3hNVD",
        "outputId": "a27aab3c-f492-464c-c2b5-fccbc627bb8b"
      },
      "execution_count": 84,
      "outputs": [
        {
          "output_type": "execute_result",
          "data": {
            "text/plain": [
              "SHORTNAME                    0\n",
              "NAME                         0\n",
              "FACEVALUE                    0\n",
              "FACEUNIT                     0\n",
              "IS_QUALIFIED_INVESTORS       0\n",
              "HIGH_RISK                    0\n",
              "COUPONDAYSPASSED             0\n",
              "COUPONLENGTH                 0\n",
              "COUPONFREQUENCY              0\n",
              "COUPONDATE                   0\n",
              "COUPONPERCENT                0\n",
              "COUPONVALUE                  0\n",
              "EMITENTNAME                  0\n",
              "INN                          0\n",
              "PRICE                        0\n",
              "PRICE_RUB                    0\n",
              "SECSUBTYPE                1593\n",
              "MATDATE                      0\n",
              "dtype: int64"
            ]
          },
          "metadata": {},
          "execution_count": 84
        }
      ]
    },
    {
      "cell_type": "code",
      "source": [
        "df1[['SHORTNAME', 'NAME', 'FACEVALUE', 'FACEUNIT','COUPONDAYSPASSED','COUPONLENGTH', 'COUPONFREQUENCY','COUPONDATE', 'COUPONPERCENT', 'COUPONVALUE', 'EMITENTNAME','PRICE_RUB']]"
      ],
      "metadata": {
        "colab": {
          "base_uri": "https://localhost:8080/",
          "height": 641
        },
        "id": "xmqlUgCs3i4-",
        "outputId": "c9528a41-392b-4a18-8400-45801048ffa9"
      },
      "execution_count": 253,
      "outputs": [
        {
          "output_type": "execute_result",
          "data": {
            "text/plain": [
              "       SHORTNAME                           NAME FACEVALUE FACEUNIT  \\\n",
              "8     РЖД-19 обл    \"Российские ЖД\" ОАО 19 обл.    1000,0      RUB   \n",
              "9     ДОМ.РФ15об      ДОМ.РФ (АО) обл. сер. А15    1000,0      RUB   \n",
              "10    РЖД-23 обл    \"Российские ЖД\" ОАО 23 обл.    1000,0      RUB   \n",
              "11    ГлДорога 3   Главная дорога АО об.сер. 03     750,0      RUB   \n",
              "12    ДОМ.РФ18об       ДОМ.РФ (АО) обл. сер.А18     300,0      RUB   \n",
              "...          ...                            ...       ...      ...   \n",
              "2482  RZD-28 RUB  RZD Capital PLC 7.45 18/09/28  100000,0      RUB   \n",
              "2484  BCS07/26-2          BCS SP Plc Series 154  100000,0      RUB   \n",
              "2495  VEON-26 RU    VEON Holdings B.V. 16/09/26  100000,0      RUB   \n",
              "2508  ALFA-25 RU    Alfa Bond Issuance 04/08/25  100000,0      RUB   \n",
              "2536  BCS11/24-8          BCS SP Plc Series 229  100000,0      RUB   \n",
              "\n",
              "      COUPONDAYSPASSED  COUPONLENGTH  COUPONFREQUENCY  COUPONDATE  \\\n",
              "8                167.0         182.0              2.0  10.07.2023   \n",
              "9                102.0         184.0              2.0  15.09.2023   \n",
              "10               157.0         182.0              2.0  20.07.2023   \n",
              "11               230.0         364.0              1.0  06.11.2023   \n",
              "12                71.0          91.0              4.0  15.07.2023   \n",
              "...                ...           ...              ...         ...   \n",
              "2482              99.0         184.0              2.0  18.09.2023   \n",
              "2484             177.0         185.0              2.0  03.07.2023   \n",
              "2495             101.0         184.0              2.0  16.09.2023   \n",
              "2508             141.0         181.0              2.0  04.08.2023   \n",
              "2536             208.0         365.0              1.0  29.11.2023   \n",
              "\n",
              "      COUPONPERCENT COUPONVALUE  \\\n",
              "8             7.850       39,14   \n",
              "9            10.000       50,41   \n",
              "10            7.850       39,14   \n",
              "11           16.990      127,08   \n",
              "12            7.710        5,77   \n",
              "...             ...         ...   \n",
              "2482          7.450      3725,0   \n",
              "2484          8.500   4308,2191   \n",
              "2495          8.125      4062,5   \n",
              "2508          7.850      3925,0   \n",
              "2536          0.010        10,0   \n",
              "\n",
              "                                            EMITENTNAME PRICE_RUB  \n",
              "8     открытое акционерное общество \"Российские желе...   1032,33  \n",
              "9                         Акционерное общество \"ДОМ.РФ\"   1078,12  \n",
              "10    открытое акционерное общество \"Российские желе...   1020,08  \n",
              "11                Акционерное общество \"Главная дорога\"   1040,04  \n",
              "12                        Акционерное общество \"ДОМ.РФ\"    304,67  \n",
              "...                                                 ...       ...  \n",
              "2482                                    RZD Capital plc  95238,06  \n",
              "2484        BrokerCreditService Structured Products Plc   92270,0  \n",
              "2495                            VimpelCom Holdings B.V.  97256,94  \n",
              "2508                             Alfa Bond Issuance plc  94316,39  \n",
              "2536        BrokerCreditService Structured Products Plc   91320,0  \n",
              "\n",
              "[1681 rows x 12 columns]"
            ],
            "text/html": [
              "\n",
              "  <div id=\"df-f28bbe68-626c-4fb0-aead-525d6b4a9c69\">\n",
              "    <div class=\"colab-df-container\">\n",
              "      <div>\n",
              "<style scoped>\n",
              "    .dataframe tbody tr th:only-of-type {\n",
              "        vertical-align: middle;\n",
              "    }\n",
              "\n",
              "    .dataframe tbody tr th {\n",
              "        vertical-align: top;\n",
              "    }\n",
              "\n",
              "    .dataframe thead th {\n",
              "        text-align: right;\n",
              "    }\n",
              "</style>\n",
              "<table border=\"1\" class=\"dataframe\">\n",
              "  <thead>\n",
              "    <tr style=\"text-align: right;\">\n",
              "      <th></th>\n",
              "      <th>SHORTNAME</th>\n",
              "      <th>NAME</th>\n",
              "      <th>FACEVALUE</th>\n",
              "      <th>FACEUNIT</th>\n",
              "      <th>COUPONDAYSPASSED</th>\n",
              "      <th>COUPONLENGTH</th>\n",
              "      <th>COUPONFREQUENCY</th>\n",
              "      <th>COUPONDATE</th>\n",
              "      <th>COUPONPERCENT</th>\n",
              "      <th>COUPONVALUE</th>\n",
              "      <th>EMITENTNAME</th>\n",
              "      <th>PRICE_RUB</th>\n",
              "    </tr>\n",
              "  </thead>\n",
              "  <tbody>\n",
              "    <tr>\n",
              "      <th>8</th>\n",
              "      <td>РЖД-19 обл</td>\n",
              "      <td>\"Российские ЖД\" ОАО 19 обл.</td>\n",
              "      <td>1000,0</td>\n",
              "      <td>RUB</td>\n",
              "      <td>167.0</td>\n",
              "      <td>182.0</td>\n",
              "      <td>2.0</td>\n",
              "      <td>10.07.2023</td>\n",
              "      <td>7.850</td>\n",
              "      <td>39,14</td>\n",
              "      <td>открытое акционерное общество \"Российские желе...</td>\n",
              "      <td>1032,33</td>\n",
              "    </tr>\n",
              "    <tr>\n",
              "      <th>9</th>\n",
              "      <td>ДОМ.РФ15об</td>\n",
              "      <td>ДОМ.РФ (АО) обл. сер. А15</td>\n",
              "      <td>1000,0</td>\n",
              "      <td>RUB</td>\n",
              "      <td>102.0</td>\n",
              "      <td>184.0</td>\n",
              "      <td>2.0</td>\n",
              "      <td>15.09.2023</td>\n",
              "      <td>10.000</td>\n",
              "      <td>50,41</td>\n",
              "      <td>Акционерное общество \"ДОМ.РФ\"</td>\n",
              "      <td>1078,12</td>\n",
              "    </tr>\n",
              "    <tr>\n",
              "      <th>10</th>\n",
              "      <td>РЖД-23 обл</td>\n",
              "      <td>\"Российские ЖД\" ОАО 23 обл.</td>\n",
              "      <td>1000,0</td>\n",
              "      <td>RUB</td>\n",
              "      <td>157.0</td>\n",
              "      <td>182.0</td>\n",
              "      <td>2.0</td>\n",
              "      <td>20.07.2023</td>\n",
              "      <td>7.850</td>\n",
              "      <td>39,14</td>\n",
              "      <td>открытое акционерное общество \"Российские желе...</td>\n",
              "      <td>1020,08</td>\n",
              "    </tr>\n",
              "    <tr>\n",
              "      <th>11</th>\n",
              "      <td>ГлДорога 3</td>\n",
              "      <td>Главная дорога АО об.сер. 03</td>\n",
              "      <td>750,0</td>\n",
              "      <td>RUB</td>\n",
              "      <td>230.0</td>\n",
              "      <td>364.0</td>\n",
              "      <td>1.0</td>\n",
              "      <td>06.11.2023</td>\n",
              "      <td>16.990</td>\n",
              "      <td>127,08</td>\n",
              "      <td>Акционерное общество \"Главная дорога\"</td>\n",
              "      <td>1040,04</td>\n",
              "    </tr>\n",
              "    <tr>\n",
              "      <th>12</th>\n",
              "      <td>ДОМ.РФ18об</td>\n",
              "      <td>ДОМ.РФ (АО) обл. сер.А18</td>\n",
              "      <td>300,0</td>\n",
              "      <td>RUB</td>\n",
              "      <td>71.0</td>\n",
              "      <td>91.0</td>\n",
              "      <td>4.0</td>\n",
              "      <td>15.07.2023</td>\n",
              "      <td>7.710</td>\n",
              "      <td>5,77</td>\n",
              "      <td>Акционерное общество \"ДОМ.РФ\"</td>\n",
              "      <td>304,67</td>\n",
              "    </tr>\n",
              "    <tr>\n",
              "      <th>...</th>\n",
              "      <td>...</td>\n",
              "      <td>...</td>\n",
              "      <td>...</td>\n",
              "      <td>...</td>\n",
              "      <td>...</td>\n",
              "      <td>...</td>\n",
              "      <td>...</td>\n",
              "      <td>...</td>\n",
              "      <td>...</td>\n",
              "      <td>...</td>\n",
              "      <td>...</td>\n",
              "      <td>...</td>\n",
              "    </tr>\n",
              "    <tr>\n",
              "      <th>2482</th>\n",
              "      <td>RZD-28 RUB</td>\n",
              "      <td>RZD Capital PLC 7.45 18/09/28</td>\n",
              "      <td>100000,0</td>\n",
              "      <td>RUB</td>\n",
              "      <td>99.0</td>\n",
              "      <td>184.0</td>\n",
              "      <td>2.0</td>\n",
              "      <td>18.09.2023</td>\n",
              "      <td>7.450</td>\n",
              "      <td>3725,0</td>\n",
              "      <td>RZD Capital plc</td>\n",
              "      <td>95238,06</td>\n",
              "    </tr>\n",
              "    <tr>\n",
              "      <th>2484</th>\n",
              "      <td>BCS07/26-2</td>\n",
              "      <td>BCS SP Plc Series 154</td>\n",
              "      <td>100000,0</td>\n",
              "      <td>RUB</td>\n",
              "      <td>177.0</td>\n",
              "      <td>185.0</td>\n",
              "      <td>2.0</td>\n",
              "      <td>03.07.2023</td>\n",
              "      <td>8.500</td>\n",
              "      <td>4308,2191</td>\n",
              "      <td>BrokerCreditService Structured Products Plc</td>\n",
              "      <td>92270,0</td>\n",
              "    </tr>\n",
              "    <tr>\n",
              "      <th>2495</th>\n",
              "      <td>VEON-26 RU</td>\n",
              "      <td>VEON Holdings B.V. 16/09/26</td>\n",
              "      <td>100000,0</td>\n",
              "      <td>RUB</td>\n",
              "      <td>101.0</td>\n",
              "      <td>184.0</td>\n",
              "      <td>2.0</td>\n",
              "      <td>16.09.2023</td>\n",
              "      <td>8.125</td>\n",
              "      <td>4062,5</td>\n",
              "      <td>VimpelCom Holdings B.V.</td>\n",
              "      <td>97256,94</td>\n",
              "    </tr>\n",
              "    <tr>\n",
              "      <th>2508</th>\n",
              "      <td>ALFA-25 RU</td>\n",
              "      <td>Alfa Bond Issuance 04/08/25</td>\n",
              "      <td>100000,0</td>\n",
              "      <td>RUB</td>\n",
              "      <td>141.0</td>\n",
              "      <td>181.0</td>\n",
              "      <td>2.0</td>\n",
              "      <td>04.08.2023</td>\n",
              "      <td>7.850</td>\n",
              "      <td>3925,0</td>\n",
              "      <td>Alfa Bond Issuance plc</td>\n",
              "      <td>94316,39</td>\n",
              "    </tr>\n",
              "    <tr>\n",
              "      <th>2536</th>\n",
              "      <td>BCS11/24-8</td>\n",
              "      <td>BCS SP Plc Series 229</td>\n",
              "      <td>100000,0</td>\n",
              "      <td>RUB</td>\n",
              "      <td>208.0</td>\n",
              "      <td>365.0</td>\n",
              "      <td>1.0</td>\n",
              "      <td>29.11.2023</td>\n",
              "      <td>0.010</td>\n",
              "      <td>10,0</td>\n",
              "      <td>BrokerCreditService Structured Products Plc</td>\n",
              "      <td>91320,0</td>\n",
              "    </tr>\n",
              "  </tbody>\n",
              "</table>\n",
              "<p>1681 rows × 12 columns</p>\n",
              "</div>\n",
              "      <button class=\"colab-df-convert\" onclick=\"convertToInteractive('df-f28bbe68-626c-4fb0-aead-525d6b4a9c69')\"\n",
              "              title=\"Convert this dataframe to an interactive table.\"\n",
              "              style=\"display:none;\">\n",
              "        \n",
              "  <svg xmlns=\"http://www.w3.org/2000/svg\" height=\"24px\"viewBox=\"0 0 24 24\"\n",
              "       width=\"24px\">\n",
              "    <path d=\"M0 0h24v24H0V0z\" fill=\"none\"/>\n",
              "    <path d=\"M18.56 5.44l.94 2.06.94-2.06 2.06-.94-2.06-.94-.94-2.06-.94 2.06-2.06.94zm-11 1L8.5 8.5l.94-2.06 2.06-.94-2.06-.94L8.5 2.5l-.94 2.06-2.06.94zm10 10l.94 2.06.94-2.06 2.06-.94-2.06-.94-.94-2.06-.94 2.06-2.06.94z\"/><path d=\"M17.41 7.96l-1.37-1.37c-.4-.4-.92-.59-1.43-.59-.52 0-1.04.2-1.43.59L10.3 9.45l-7.72 7.72c-.78.78-.78 2.05 0 2.83L4 21.41c.39.39.9.59 1.41.59.51 0 1.02-.2 1.41-.59l7.78-7.78 2.81-2.81c.8-.78.8-2.07 0-2.86zM5.41 20L4 18.59l7.72-7.72 1.47 1.35L5.41 20z\"/>\n",
              "  </svg>\n",
              "      </button>\n",
              "      \n",
              "  <style>\n",
              "    .colab-df-container {\n",
              "      display:flex;\n",
              "      flex-wrap:wrap;\n",
              "      gap: 12px;\n",
              "    }\n",
              "\n",
              "    .colab-df-convert {\n",
              "      background-color: #E8F0FE;\n",
              "      border: none;\n",
              "      border-radius: 50%;\n",
              "      cursor: pointer;\n",
              "      display: none;\n",
              "      fill: #1967D2;\n",
              "      height: 32px;\n",
              "      padding: 0 0 0 0;\n",
              "      width: 32px;\n",
              "    }\n",
              "\n",
              "    .colab-df-convert:hover {\n",
              "      background-color: #E2EBFA;\n",
              "      box-shadow: 0px 1px 2px rgba(60, 64, 67, 0.3), 0px 1px 3px 1px rgba(60, 64, 67, 0.15);\n",
              "      fill: #174EA6;\n",
              "    }\n",
              "\n",
              "    [theme=dark] .colab-df-convert {\n",
              "      background-color: #3B4455;\n",
              "      fill: #D2E3FC;\n",
              "    }\n",
              "\n",
              "    [theme=dark] .colab-df-convert:hover {\n",
              "      background-color: #434B5C;\n",
              "      box-shadow: 0px 1px 3px 1px rgba(0, 0, 0, 0.15);\n",
              "      filter: drop-shadow(0px 1px 2px rgba(0, 0, 0, 0.3));\n",
              "      fill: #FFFFFF;\n",
              "    }\n",
              "  </style>\n",
              "\n",
              "      <script>\n",
              "        const buttonEl =\n",
              "          document.querySelector('#df-f28bbe68-626c-4fb0-aead-525d6b4a9c69 button.colab-df-convert');\n",
              "        buttonEl.style.display =\n",
              "          google.colab.kernel.accessAllowed ? 'block' : 'none';\n",
              "\n",
              "        async function convertToInteractive(key) {\n",
              "          const element = document.querySelector('#df-f28bbe68-626c-4fb0-aead-525d6b4a9c69');\n",
              "          const dataTable =\n",
              "            await google.colab.kernel.invokeFunction('convertToInteractive',\n",
              "                                                     [key], {});\n",
              "          if (!dataTable) return;\n",
              "\n",
              "          const docLinkHtml = 'Like what you see? Visit the ' +\n",
              "            '<a target=\"_blank\" href=https://colab.research.google.com/notebooks/data_table.ipynb>data table notebook</a>'\n",
              "            + ' to learn more about interactive tables.';\n",
              "          element.innerHTML = '';\n",
              "          dataTable['output_type'] = 'display_data';\n",
              "          await google.colab.output.renderOutput(dataTable, element);\n",
              "          const docLink = document.createElement('div');\n",
              "          docLink.innerHTML = docLinkHtml;\n",
              "          element.appendChild(docLink);\n",
              "        }\n",
              "      </script>\n",
              "    </div>\n",
              "  </div>\n",
              "  "
            ]
          },
          "metadata": {},
          "execution_count": 253
        }
      ]
    },
    {
      "cell_type": "code",
      "source": [
        "df1['COUPONPERCENT']=df1['COUPONPERCENT'].str.replace(',', '.').astype(float)"
      ],
      "metadata": {
        "id": "bW7JB6yCmFBg"
      },
      "execution_count": 86,
      "outputs": []
    },
    {
      "cell_type": "code",
      "source": [
        "dist = []\n",
        "K = range(2,11)\n",
        "\n",
        "for k in K:\n",
        "\n",
        "    kmeans = KMeans(n_clusters=k, random_state=42)\n",
        "    kmeans.fit(df1[['COUPONPERCENT']])\n",
        "    dist.append(kmeans.inertia_)\n",
        "    print(k,kmeans.inertia_)"
      ],
      "metadata": {
        "colab": {
          "base_uri": "https://localhost:8080/"
        },
        "id": "K3pamHJJjg6P",
        "outputId": "1f6f8290-c0ac-46a1-a8f9-3bbc87f24e8e"
      },
      "execution_count": 87,
      "outputs": [
        {
          "output_type": "stream",
          "name": "stderr",
          "text": [
            "/usr/local/lib/python3.10/dist-packages/sklearn/cluster/_kmeans.py:870: FutureWarning: The default value of `n_init` will change from 10 to 'auto' in 1.4. Set the value of `n_init` explicitly to suppress the warning\n",
            "  warnings.warn(\n",
            "/usr/local/lib/python3.10/dist-packages/sklearn/cluster/_kmeans.py:870: FutureWarning: The default value of `n_init` will change from 10 to 'auto' in 1.4. Set the value of `n_init` explicitly to suppress the warning\n",
            "  warnings.warn(\n",
            "/usr/local/lib/python3.10/dist-packages/sklearn/cluster/_kmeans.py:870: FutureWarning: The default value of `n_init` will change from 10 to 'auto' in 1.4. Set the value of `n_init` explicitly to suppress the warning\n",
            "  warnings.warn(\n",
            "/usr/local/lib/python3.10/dist-packages/sklearn/cluster/_kmeans.py:870: FutureWarning: The default value of `n_init` will change from 10 to 'auto' in 1.4. Set the value of `n_init` explicitly to suppress the warning\n",
            "  warnings.warn(\n",
            "/usr/local/lib/python3.10/dist-packages/sklearn/cluster/_kmeans.py:870: FutureWarning: The default value of `n_init` will change from 10 to 'auto' in 1.4. Set the value of `n_init` explicitly to suppress the warning\n",
            "  warnings.warn(\n",
            "/usr/local/lib/python3.10/dist-packages/sklearn/cluster/_kmeans.py:870: FutureWarning: The default value of `n_init` will change from 10 to 'auto' in 1.4. Set the value of `n_init` explicitly to suppress the warning\n",
            "  warnings.warn(\n",
            "/usr/local/lib/python3.10/dist-packages/sklearn/cluster/_kmeans.py:870: FutureWarning: The default value of `n_init` will change from 10 to 'auto' in 1.4. Set the value of `n_init` explicitly to suppress the warning\n",
            "  warnings.warn(\n"
          ]
        },
        {
          "output_type": "stream",
          "name": "stdout",
          "text": [
            "2 11170.793034559798\n",
            "3 4068.4704593404613\n",
            "4 2351.5889652071864\n",
            "5 1355.8071142023502\n",
            "6 937.2812723494075\n",
            "7 708.9264283646526\n",
            "8 575.5536754848414\n",
            "9 442.37977223525525\n",
            "10 351.82111449945126\n"
          ]
        },
        {
          "output_type": "stream",
          "name": "stderr",
          "text": [
            "/usr/local/lib/python3.10/dist-packages/sklearn/cluster/_kmeans.py:870: FutureWarning: The default value of `n_init` will change from 10 to 'auto' in 1.4. Set the value of `n_init` explicitly to suppress the warning\n",
            "  warnings.warn(\n",
            "/usr/local/lib/python3.10/dist-packages/sklearn/cluster/_kmeans.py:870: FutureWarning: The default value of `n_init` will change from 10 to 'auto' in 1.4. Set the value of `n_init` explicitly to suppress the warning\n",
            "  warnings.warn(\n"
          ]
        }
      ]
    },
    {
      "cell_type": "code",
      "source": [
        "plt.plot(K, dist, 'bx-')\n",
        "plt.xlabel('Число кластеров')\n",
        "plt.ylabel('Inertia')"
      ],
      "metadata": {
        "colab": {
          "base_uri": "https://localhost:8080/",
          "height": 521
        },
        "id": "bdH7PdiEk8BZ",
        "outputId": "76b3f340-ffc4-479c-8215-497926037a21"
      },
      "execution_count": 88,
      "outputs": [
        {
          "output_type": "execute_result",
          "data": {
            "text/plain": [
              "Text(0, 0.5, 'Inertia')"
            ]
          },
          "metadata": {},
          "execution_count": 88
        },
        {
          "output_type": "display_data",
          "data": {
            "text/plain": [
              "<Figure size 800x550 with 1 Axes>"
            ],
            "image/png": "[encoded data removed]"
          },
          "metadata": {}
        }
      ]
    },
    {
      "cell_type": "code",
      "source": [
        "from yellowbrick.cluster import KElbowVisualizer\n",
        "model = KMeans()\n",
        "\n",
        "# k is range of number of clusters.\n",
        "visualizer = KElbowVisualizer(model, k=(2,30), timings= True)\n",
        "visualizer.fit(df1[['COUPONPERCENT']])        # Fit data to visualizer\n",
        "visualizer.show()        # Finalize and render figure"
      ],
      "metadata": {
        "colab": {
          "base_uri": "https://localhost:8080/",
          "height": 1000
        },
        "id": "HLihOG7nmy_X",
        "outputId": "ee2231ba-ec3a-45df-c5f3-dbd23b2545bf"
      },
      "execution_count": 89,
      "outputs": [
        {
          "output_type": "stream",
          "name": "stderr",
          "text": [
            "/usr/local/lib/python3.10/dist-packages/sklearn/cluster/_kmeans.py:870: FutureWarning: The default value of `n_init` will change from 10 to 'auto' in 1.4. Set the value of `n_init` explicitly to suppress the warning\n",
            "  warnings.warn(\n",
            "/usr/local/lib/python3.10/dist-packages/sklearn/cluster/_kmeans.py:870: FutureWarning: The default value of `n_init` will change from 10 to 'auto' in 1.4. Set the value of `n_init` explicitly to suppress the warning\n",
            "  warnings.warn(\n",
            "/usr/local/lib/python3.10/dist-packages/sklearn/cluster/_kmeans.py:870: FutureWarning: The default value of `n_init` will change from 10 to 'auto' in 1.4. Set the value of `n_init` explicitly to suppress the warning\n",
            "  warnings.warn(\n",
            "/usr/local/lib/python3.10/dist-packages/sklearn/cluster/_kmeans.py:870: FutureWarning: The default value of `n_init` will change from 10 to 'auto' in 1.4. Set the value of `n_init` explicitly to suppress the warning\n",
            "  warnings.warn(\n",
            "/usr/local/lib/python3.10/dist-packages/sklearn/cluster/_kmeans.py:870: FutureWarning: The default value of `n_init` will change from 10 to 'auto' in 1.4. Set the value of `n_init` explicitly to suppress the warning\n",
            "  warnings.warn(\n",
            "/usr/local/lib/python3.10/dist-packages/sklearn/cluster/_kmeans.py:870: FutureWarning: The default value of `n_init` will change from 10 to 'auto' in 1.4. Set the value of `n_init` explicitly to suppress the warning\n",
            "  warnings.warn(\n",
            "/usr/local/lib/python3.10/dist-packages/sklearn/cluster/_kmeans.py:870: FutureWarning: The default value of `n_init` will change from 10 to 'auto' in 1.4. Set the value of `n_init` explicitly to suppress the warning\n",
            "  warnings.warn(\n",
            "/usr/local/lib/python3.10/dist-packages/sklearn/cluster/_kmeans.py:870: FutureWarning: The default value of `n_init` will change from 10 to 'auto' in 1.4. Set the value of `n_init` explicitly to suppress the warning\n",
            "  warnings.warn(\n",
            "/usr/local/lib/python3.10/dist-packages/sklearn/cluster/_kmeans.py:870: FutureWarning: The default value of `n_init` will change from 10 to 'auto' in 1.4. Set the value of `n_init` explicitly to suppress the warning\n",
            "  warnings.warn(\n",
            "/usr/local/lib/python3.10/dist-packages/sklearn/cluster/_kmeans.py:870: FutureWarning: The default value of `n_init` will change from 10 to 'auto' in 1.4. Set the value of `n_init` explicitly to suppress the warning\n",
            "  warnings.warn(\n",
            "/usr/local/lib/python3.10/dist-packages/sklearn/cluster/_kmeans.py:870: FutureWarning: The default value of `n_init` will change from 10 to 'auto' in 1.4. Set the value of `n_init` explicitly to suppress the warning\n",
            "  warnings.warn(\n",
            "/usr/local/lib/python3.10/dist-packages/sklearn/cluster/_kmeans.py:870: FutureWarning: The default value of `n_init` will change from 10 to 'auto' in 1.4. Set the value of `n_init` explicitly to suppress the warning\n",
            "  warnings.warn(\n",
            "/usr/local/lib/python3.10/dist-packages/sklearn/cluster/_kmeans.py:870: FutureWarning: The default value of `n_init` will change from 10 to 'auto' in 1.4. Set the value of `n_init` explicitly to suppress the warning\n",
            "  warnings.warn(\n",
            "/usr/local/lib/python3.10/dist-packages/sklearn/cluster/_kmeans.py:870: FutureWarning: The default value of `n_init` will change from 10 to 'auto' in 1.4. Set the value of `n_init` explicitly to suppress the warning\n",
            "  warnings.warn(\n",
            "/usr/local/lib/python3.10/dist-packages/sklearn/cluster/_kmeans.py:870: FutureWarning: The default value of `n_init` will change from 10 to 'auto' in 1.4. Set the value of `n_init` explicitly to suppress the warning\n",
            "  warnings.warn(\n",
            "/usr/local/lib/python3.10/dist-packages/sklearn/cluster/_kmeans.py:870: FutureWarning: The default value of `n_init` will change from 10 to 'auto' in 1.4. Set the value of `n_init` explicitly to suppress the warning\n",
            "  warnings.warn(\n",
            "/usr/local/lib/python3.10/dist-packages/sklearn/cluster/_kmeans.py:870: FutureWarning: The default value of `n_init` will change from 10 to 'auto' in 1.4. Set the value of `n_init` explicitly to suppress the warning\n",
            "  warnings.warn(\n",
            "/usr/local/lib/python3.10/dist-packages/sklearn/cluster/_kmeans.py:870: FutureWarning: The default value of `n_init` will change from 10 to 'auto' in 1.4. Set the value of `n_init` explicitly to suppress the warning\n",
            "  warnings.warn(\n",
            "/usr/local/lib/python3.10/dist-packages/sklearn/cluster/_kmeans.py:870: FutureWarning: The default value of `n_init` will change from 10 to 'auto' in 1.4. Set the value of `n_init` explicitly to suppress the warning\n",
            "  warnings.warn(\n",
            "/usr/local/lib/python3.10/dist-packages/sklearn/cluster/_kmeans.py:870: FutureWarning: The default value of `n_init` will change from 10 to 'auto' in 1.4. Set the value of `n_init` explicitly to suppress the warning\n",
            "  warnings.warn(\n",
            "/usr/local/lib/python3.10/dist-packages/sklearn/cluster/_kmeans.py:870: FutureWarning: The default value of `n_init` will change from 10 to 'auto' in 1.4. Set the value of `n_init` explicitly to suppress the warning\n",
            "  warnings.warn(\n",
            "/usr/local/lib/python3.10/dist-packages/sklearn/cluster/_kmeans.py:870: FutureWarning: The default value of `n_init` will change from 10 to 'auto' in 1.4. Set the value of `n_init` explicitly to suppress the warning\n",
            "  warnings.warn(\n",
            "/usr/local/lib/python3.10/dist-packages/sklearn/cluster/_kmeans.py:870: FutureWarning: The default value of `n_init` will change from 10 to 'auto' in 1.4. Set the value of `n_init` explicitly to suppress the warning\n",
            "  warnings.warn(\n",
            "/usr/local/lib/python3.10/dist-packages/sklearn/cluster/_kmeans.py:870: FutureWarning: The default value of `n_init` will change from 10 to 'auto' in 1.4. Set the value of `n_init` explicitly to suppress the warning\n",
            "  warnings.warn(\n",
            "/usr/local/lib/python3.10/dist-packages/sklearn/cluster/_kmeans.py:870: FutureWarning: The default value of `n_init` will change from 10 to 'auto' in 1.4. Set the value of `n_init` explicitly to suppress the warning\n",
            "  warnings.warn(\n",
            "/usr/local/lib/python3.10/dist-packages/sklearn/cluster/_kmeans.py:870: FutureWarning: The default value of `n_init` will change from 10 to 'auto' in 1.4. Set the value of `n_init` explicitly to suppress the warning\n",
            "  warnings.warn(\n",
            "/usr/local/lib/python3.10/dist-packages/sklearn/cluster/_kmeans.py:870: FutureWarning: The default value of `n_init` will change from 10 to 'auto' in 1.4. Set the value of `n_init` explicitly to suppress the warning\n",
            "  warnings.warn(\n",
            "/usr/local/lib/python3.10/dist-packages/sklearn/cluster/_kmeans.py:870: FutureWarning: The default value of `n_init` will change from 10 to 'auto' in 1.4. Set the value of `n_init` explicitly to suppress the warning\n",
            "  warnings.warn(\n"
          ]
        },
        {
          "output_type": "display_data",
          "data": {
            "text/plain": [
              "<Figure size 800x550 with 2 Axes>"
            ],
            "image/png": "[encoded data removed]"
          },
          "metadata": {}
        },
        {
          "output_type": "execute_result",
          "data": {
            "text/plain": [
              "<Axes: title={'center': 'Distortion Score Elbow for KMeans Clustering'}, xlabel='k', ylabel='distortion score'>"
            ]
          },
          "metadata": {},
          "execution_count": 89
        }
      ]
    },
    {
      "cell_type": "markdown",
      "source": [
        "Оптимально выделить 5 кластеров"
      ],
      "metadata": {
        "id": "4vNDJD9qmnr7"
      }
    },
    {
      "cell_type": "code",
      "source": [
        "kmeans = KMeans(n_clusters=5, random_state=42)\n",
        "df1['Cluster']=kmeans.fit_predict(df1[['COUPONPERCENT']])"
      ],
      "metadata": {
        "colab": {
          "base_uri": "https://localhost:8080/"
        },
        "id": "cWyMcHdEml_5",
        "outputId": "de84a286-4c23-4f4e-d3fd-33378711a818"
      },
      "execution_count": 90,
      "outputs": [
        {
          "output_type": "stream",
          "name": "stderr",
          "text": [
            "/usr/local/lib/python3.10/dist-packages/sklearn/cluster/_kmeans.py:870: FutureWarning: The default value of `n_init` will change from 10 to 'auto' in 1.4. Set the value of `n_init` explicitly to suppress the warning\n",
            "  warnings.warn(\n"
          ]
        }
      ]
    },
    {
      "cell_type": "code",
      "source": [
        "df2=df1[['COUPONPERCENT', 'Cluster']].groupby(['Cluster']).COUPONPERCENT.agg(count='count',mean='mean').sort_values(by='mean').reset_index()"
      ],
      "metadata": {
        "id": "f4q3SjE3bYEY"
      },
      "execution_count": 91,
      "outputs": []
    },
    {
      "cell_type": "code",
      "source": [
        "df2"
      ],
      "metadata": {
        "colab": {
          "base_uri": "https://localhost:8080/",
          "height": 206
        },
        "id": "yY0fwtrEsr9f",
        "outputId": "63033a2c-a833-42ed-ab77-21d80a96c521"
      },
      "execution_count": 92,
      "outputs": [
        {
          "output_type": "execute_result",
          "data": {
            "text/plain": [
              "   Cluster  count       mean\n",
              "0        1    287   0.242906\n",
              "1        2    481   7.067152\n",
              "2        0    595   9.474934\n",
              "3        4    257  12.861078\n",
              "4        3     61  17.747246"
            ],
            "text/html": [
              "\n",
              "  <div id=\"df-88ac2a6c-46b9-4aea-8818-52901ce0b338\">\n",
              "    <div class=\"colab-df-container\">\n",
              "      <div>\n",
              "<style scoped>\n",
              "    .dataframe tbody tr th:only-of-type {\n",
              "        vertical-align: middle;\n",
              "    }\n",
              "\n",
              "    .dataframe tbody tr th {\n",
              "        vertical-align: top;\n",
              "    }\n",
              "\n",
              "    .dataframe thead th {\n",
              "        text-align: right;\n",
              "    }\n",
              "</style>\n",
              "<table border=\"1\" class=\"dataframe\">\n",
              "  <thead>\n",
              "    <tr style=\"text-align: right;\">\n",
              "      <th></th>\n",
              "      <th>Cluster</th>\n",
              "      <th>count</th>\n",
              "      <th>mean</th>\n",
              "    </tr>\n",
              "  </thead>\n",
              "  <tbody>\n",
              "    <tr>\n",
              "      <th>0</th>\n",
              "      <td>1</td>\n",
              "      <td>287</td>\n",
              "      <td>0.242906</td>\n",
              "    </tr>\n",
              "    <tr>\n",
              "      <th>1</th>\n",
              "      <td>2</td>\n",
              "      <td>481</td>\n",
              "      <td>7.067152</td>\n",
              "    </tr>\n",
              "    <tr>\n",
              "      <th>2</th>\n",
              "      <td>0</td>\n",
              "      <td>595</td>\n",
              "      <td>9.474934</td>\n",
              "    </tr>\n",
              "    <tr>\n",
              "      <th>3</th>\n",
              "      <td>4</td>\n",
              "      <td>257</td>\n",
              "      <td>12.861078</td>\n",
              "    </tr>\n",
              "    <tr>\n",
              "      <th>4</th>\n",
              "      <td>3</td>\n",
              "      <td>61</td>\n",
              "      <td>17.747246</td>\n",
              "    </tr>\n",
              "  </tbody>\n",
              "</table>\n",
              "</div>\n",
              "      <button class=\"colab-df-convert\" onclick=\"convertToInteractive('df-88ac2a6c-46b9-4aea-8818-52901ce0b338')\"\n",
              "              title=\"Convert this dataframe to an interactive table.\"\n",
              "              style=\"display:none;\">\n",
              "        \n",
              "  <svg xmlns=\"http://www.w3.org/2000/svg\" height=\"24px\"viewBox=\"0 0 24 24\"\n",
              "       width=\"24px\">\n",
              "    <path d=\"M0 0h24v24H0V0z\" fill=\"none\"/>\n",
              "    <path d=\"M18.56 5.44l.94 2.06.94-2.06 2.06-.94-2.06-.94-.94-2.06-.94 2.06-2.06.94zm-11 1L8.5 8.5l.94-2.06 2.06-.94-2.06-.94L8.5 2.5l-.94 2.06-2.06.94zm10 10l.94 2.06.94-2.06 2.06-.94-2.06-.94-.94-2.06-.94 2.06-2.06.94z\"/><path d=\"M17.41 7.96l-1.37-1.37c-.4-.4-.92-.59-1.43-.59-.52 0-1.04.2-1.43.59L10.3 9.45l-7.72 7.72c-.78.78-.78 2.05 0 2.83L4 21.41c.39.39.9.59 1.41.59.51 0 1.02-.2 1.41-.59l7.78-7.78 2.81-2.81c.8-.78.8-2.07 0-2.86zM5.41 20L4 18.59l7.72-7.72 1.47 1.35L5.41 20z\"/>\n",
              "  </svg>\n",
              "      </button>\n",
              "      \n",
              "  <style>\n",
              "    .colab-df-container {\n",
              "      display:flex;\n",
              "      flex-wrap:wrap;\n",
              "      gap: 12px;\n",
              "    }\n",
              "\n",
              "    .colab-df-convert {\n",
              "      background-color: #E8F0FE;\n",
              "      border: none;\n",
              "      border-radius: 50%;\n",
              "      cursor: pointer;\n",
              "      display: none;\n",
              "      fill: #1967D2;\n",
              "      height: 32px;\n",
              "      padding: 0 0 0 0;\n",
              "      width: 32px;\n",
              "    }\n",
              "\n",
              "    .colab-df-convert:hover {\n",
              "      background-color: #E2EBFA;\n",
              "      box-shadow: 0px 1px 2px rgba(60, 64, 67, 0.3), 0px 1px 3px 1px rgba(60, 64, 67, 0.15);\n",
              "      fill: #174EA6;\n",
              "    }\n",
              "\n",
              "    [theme=dark] .colab-df-convert {\n",
              "      background-color: #3B4455;\n",
              "      fill: #D2E3FC;\n",
              "    }\n",
              "\n",
              "    [theme=dark] .colab-df-convert:hover {\n",
              "      background-color: #434B5C;\n",
              "      box-shadow: 0px 1px 3px 1px rgba(0, 0, 0, 0.15);\n",
              "      filter: drop-shadow(0px 1px 2px rgba(0, 0, 0, 0.3));\n",
              "      fill: #FFFFFF;\n",
              "    }\n",
              "  </style>\n",
              "\n",
              "      <script>\n",
              "        const buttonEl =\n",
              "          document.querySelector('#df-88ac2a6c-46b9-4aea-8818-52901ce0b338 button.colab-df-convert');\n",
              "        buttonEl.style.display =\n",
              "          google.colab.kernel.accessAllowed ? 'block' : 'none';\n",
              "\n",
              "        async function convertToInteractive(key) {\n",
              "          const element = document.querySelector('#df-88ac2a6c-46b9-4aea-8818-52901ce0b338');\n",
              "          const dataTable =\n",
              "            await google.colab.kernel.invokeFunction('convertToInteractive',\n",
              "                                                     [key], {});\n",
              "          if (!dataTable) return;\n",
              "\n",
              "          const docLinkHtml = 'Like what you see? Visit the ' +\n",
              "            '<a target=\"_blank\" href=https://colab.research.google.com/notebooks/data_table.ipynb>data table notebook</a>'\n",
              "            + ' to learn more about interactive tables.';\n",
              "          element.innerHTML = '';\n",
              "          dataTable['output_type'] = 'display_data';\n",
              "          await google.colab.output.renderOutput(dataTable, element);\n",
              "          const docLink = document.createElement('div');\n",
              "          docLink.innerHTML = docLinkHtml;\n",
              "          element.appendChild(docLink);\n",
              "        }\n",
              "      </script>\n",
              "    </div>\n",
              "  </div>\n",
              "  "
            ]
          },
          "metadata": {},
          "execution_count": 92
        }
      ]
    },
    {
      "cell_type": "code",
      "source": [
        "plt.xlabel('Кластер')\n",
        "ax1 = df2['count'].plot(kind='bar', color='blue')\n",
        "ax1.set_ylabel('Число облигаций',color=\"blue\")\n",
        "ax2 = ax1.twinx()\n",
        "ax2 = df2['mean'].plot(color=\"red\")\n",
        "ax2.set_ylabel(\"Средний купонный процент\",color=\"red\")\n",
        "plt.show()"
      ],
      "metadata": {
        "colab": {
          "base_uri": "https://localhost:8080/",
          "height": 497
        },
        "id": "yYAfdrBmu_5c",
        "outputId": "d7517ec7-d98a-454f-c1cb-ce9da65d5d12"
      },
      "execution_count": 93,
      "outputs": [
        {
          "output_type": "display_data",
          "data": {
            "text/plain": [
              "<Figure size 800x550 with 2 Axes>"
            ],
            "image/png": "[encoded data removed]"
          },
          "metadata": {}
        }
      ]
    },
    {
      "cell_type": "markdown",
      "source": [
        "Выбираем облигации с низким риском"
      ],
      "metadata": {
        "id": "PzbLKYbBA9KW"
      }
    },
    {
      "cell_type": "code",
      "source": [
        "df3=df1[(df1.HIGH_RISK==0)]"
      ],
      "metadata": {
        "id": "Kx8251entC4t"
      },
      "execution_count": 94,
      "outputs": []
    },
    {
      "cell_type": "code",
      "source": [
        "df3['FACEVALUE']=df3['FACEVALUE'].str.replace(',', '.').astype(float)\n",
        "df3['COUPONVALUE']=df3['COUPONVALUE'].str.replace(',', '.').astype(float)\n",
        "df3['PRICE_RUB']=df3['PRICE_RUB'].str.replace(',', '.').astype(float)"
      ],
      "metadata": {
        "colab": {
          "base_uri": "https://localhost:8080/"
        },
        "id": "cL4Bq-Ysbodn",
        "outputId": "aee5c65d-80c0-4fad-cf6f-5439e953094d"
      },
      "execution_count": 95,
      "outputs": [
        {
          "output_type": "stream",
          "name": "stderr",
          "text": [
            "<ipython-input-95-07aa177adac6>:1: SettingWithCopyWarning: \n",
            "A value is trying to be set on a copy of a slice from a DataFrame.\n",
            "Try using .loc[row_indexer,col_indexer] = value instead\n",
            "\n",
            "See the caveats in the documentation: https://pandas.pydata.org/pandas-docs/stable/user_guide/indexing.html#returning-a-view-versus-a-copy\n",
            "  df3['FACEVALUE']=df3['FACEVALUE'].str.replace(',', '.').astype(float)\n",
            "<ipython-input-95-07aa177adac6>:2: SettingWithCopyWarning: \n",
            "A value is trying to be set on a copy of a slice from a DataFrame.\n",
            "Try using .loc[row_indexer,col_indexer] = value instead\n",
            "\n",
            "See the caveats in the documentation: https://pandas.pydata.org/pandas-docs/stable/user_guide/indexing.html#returning-a-view-versus-a-copy\n",
            "  df3['COUPONVALUE']=df3['COUPONVALUE'].str.replace(',', '.').astype(float)\n",
            "<ipython-input-95-07aa177adac6>:3: SettingWithCopyWarning: \n",
            "A value is trying to be set on a copy of a slice from a DataFrame.\n",
            "Try using .loc[row_indexer,col_indexer] = value instead\n",
            "\n",
            "See the caveats in the documentation: https://pandas.pydata.org/pandas-docs/stable/user_guide/indexing.html#returning-a-view-versus-a-copy\n",
            "  df3['PRICE_RUB']=df3['PRICE_RUB'].str.replace(',', '.').astype(float)\n"
          ]
        }
      ]
    },
    {
      "cell_type": "code",
      "source": [
        "df3['COUPONAGE'] = df3['COUPONDAYSPASSED'] / df3['COUPONLENGTH']"
      ],
      "metadata": {
        "colab": {
          "base_uri": "https://localhost:8080/"
        },
        "id": "4Mc525zmDcj3",
        "outputId": "d7e41450-c357-414d-ffb1-13899897209c"
      },
      "execution_count": 96,
      "outputs": [
        {
          "output_type": "stream",
          "name": "stderr",
          "text": [
            "<ipython-input-96-c572df33706d>:1: SettingWithCopyWarning: \n",
            "A value is trying to be set on a copy of a slice from a DataFrame.\n",
            "Try using .loc[row_indexer,col_indexer] = value instead\n",
            "\n",
            "See the caveats in the documentation: https://pandas.pydata.org/pandas-docs/stable/user_guide/indexing.html#returning-a-view-versus-a-copy\n",
            "  df3['COUPONAGE'] = df3['COUPONDAYSPASSED'] / df3['COUPONLENGTH']\n"
          ]
        }
      ]
    },
    {
      "cell_type": "code",
      "source": [
        "df4 = df3.loc[df3['COUPONAGE']<=0.2]"
      ],
      "metadata": {
        "id": "Y9OXmXUHJYHr"
      },
      "execution_count": 97,
      "outputs": []
    },
    {
      "cell_type": "code",
      "source": [
        "df4.reset_index(drop=True, inplace=True)"
      ],
      "metadata": {
        "id": "vKmQbluGJZuN"
      },
      "execution_count": 98,
      "outputs": []
    },
    {
      "cell_type": "code",
      "source": [
        "df4['NKD']= df4['FACEVALUE']*df4['COUPONAGE']*(df4['COUPONPERCENT']/df4['COUPONFREQUENCY'])/100"
      ],
      "metadata": {
        "colab": {
          "base_uri": "https://localhost:8080/"
        },
        "id": "gDGqSaCbGuLM",
        "outputId": "791c1b11-1ed2-4ddf-ef5a-b608b3bd0dd6"
      },
      "execution_count": 213,
      "outputs": [
        {
          "output_type": "stream",
          "name": "stderr",
          "text": [
            "<ipython-input-213-ce8f5d626ec7>:1: SettingWithCopyWarning: \n",
            "A value is trying to be set on a copy of a slice from a DataFrame.\n",
            "Try using .loc[row_indexer,col_indexer] = value instead\n",
            "\n",
            "See the caveats in the documentation: https://pandas.pydata.org/pandas-docs/stable/user_guide/indexing.html#returning-a-view-versus-a-copy\n",
            "  df4['NKD']= df4['FACEVALUE']*df4['COUPONAGE']*(df4['COUPONPERCENT']/df4['COUPONFREQUENCY'])/100\n"
          ]
        }
      ]
    },
    {
      "cell_type": "code",
      "source": [
        "df4['Delta'] = df4['FACEVALUE'] - df4['PRICE_RUB']"
      ],
      "metadata": {
        "colab": {
          "base_uri": "https://localhost:8080/"
        },
        "id": "kvZoHHeMSA9B",
        "outputId": "4fb68ee7-9cb3-4adb-fc06-aef81af0b9e8"
      },
      "execution_count": 214,
      "outputs": [
        {
          "output_type": "stream",
          "name": "stderr",
          "text": [
            "<ipython-input-214-c613e2ef86e5>:1: SettingWithCopyWarning: \n",
            "A value is trying to be set on a copy of a slice from a DataFrame.\n",
            "Try using .loc[row_indexer,col_indexer] = value instead\n",
            "\n",
            "See the caveats in the documentation: https://pandas.pydata.org/pandas-docs/stable/user_guide/indexing.html#returning-a-view-versus-a-copy\n",
            "  df4['Delta'] = df4['FACEVALUE'] - df4['PRICE_RUB']\n"
          ]
        }
      ]
    },
    {
      "cell_type": "code",
      "source": [
        "df4['Delta']=df4['Delta']*df4['Delta'].apply(lambda x: 0.87 if x > 0 else 1)"
      ],
      "metadata": {
        "colab": {
          "base_uri": "https://localhost:8080/"
        },
        "id": "OMtGVWl6Vnbo",
        "outputId": "457aec65-039c-4750-cea7-d9c943dafba0"
      },
      "execution_count": 101,
      "outputs": [
        {
          "output_type": "stream",
          "name": "stderr",
          "text": [
            "<ipython-input-101-686eb6da476b>:1: SettingWithCopyWarning: \n",
            "A value is trying to be set on a copy of a slice from a DataFrame.\n",
            "Try using .loc[row_indexer,col_indexer] = value instead\n",
            "\n",
            "See the caveats in the documentation: https://pandas.pydata.org/pandas-docs/stable/user_guide/indexing.html#returning-a-view-versus-a-copy\n",
            "  df4['Delta']=df4['Delta']*df4['Delta'].apply(lambda x: 0.87 if x > 0 else 1)\n"
          ]
        }
      ]
    },
    {
      "cell_type": "code",
      "source": [
        "df4['Buy'] = (df4['PRICE_RUB'] + df4['NKD'])*(1+0.06/100+0.0125/100)"
      ],
      "metadata": {
        "colab": {
          "base_uri": "https://localhost:8080/"
        },
        "id": "HMinA_attJ5O",
        "outputId": "e8bf3bda-483d-41d9-841f-a2588537f262"
      },
      "execution_count": 226,
      "outputs": [
        {
          "output_type": "stream",
          "name": "stderr",
          "text": [
            "<ipython-input-226-c35da4e98553>:1: SettingWithCopyWarning: \n",
            "A value is trying to be set on a copy of a slice from a DataFrame.\n",
            "Try using .loc[row_indexer,col_indexer] = value instead\n",
            "\n",
            "See the caveats in the documentation: https://pandas.pydata.org/pandas-docs/stable/user_guide/indexing.html#returning-a-view-versus-a-copy\n",
            "  df4['Buy'] = (df4['PRICE_RUB'] + df4['NKD'])*(1+0.06/100+0.0125/100)\n"
          ]
        }
      ]
    },
    {
      "cell_type": "code",
      "source": [
        "df4['Sell'] = (df4['Delta'] + 0.87 * df4['COUPONVALUE'] * df4['COUPONFREQUENCY'])"
      ],
      "metadata": {
        "colab": {
          "base_uri": "https://localhost:8080/"
        },
        "id": "gWSY82kWyU_0",
        "outputId": "0192d225-9a79-423b-d766-0a475c0a5049"
      },
      "execution_count": 227,
      "outputs": [
        {
          "output_type": "stream",
          "name": "stderr",
          "text": [
            "<ipython-input-227-cd95a9402d08>:1: SettingWithCopyWarning: \n",
            "A value is trying to be set on a copy of a slice from a DataFrame.\n",
            "Try using .loc[row_indexer,col_indexer] = value instead\n",
            "\n",
            "See the caveats in the documentation: https://pandas.pydata.org/pandas-docs/stable/user_guide/indexing.html#returning-a-view-versus-a-copy\n",
            "  df4['Sell'] = (df4['Delta'] + 0.87 * df4['COUPONVALUE'] * df4['COUPONFREQUENCY'])\n"
          ]
        }
      ]
    },
    {
      "cell_type": "code",
      "source": [
        "df4[['Buy','Sell','PRICE_RUB','FACEVALUE','NKD','Delta','COUPONVALUE','COUPONFREQUENCY','COUPONPERCENT','COUPONAGE']]"
      ],
      "metadata": {
        "colab": {
          "base_uri": "https://localhost:8080/",
          "height": 423
        },
        "id": "eVVRpqfDtxXj",
        "outputId": "5315ffcf-d334-459b-9522-518fbca30dae"
      },
      "execution_count": 228,
      "outputs": [
        {
          "output_type": "execute_result",
          "data": {
            "text/plain": [
              "               Buy          Sell  PRICE_RUB  FACEVALUE         NKD     Delta  \\\n",
              "0      1305.430587   -204.435600    1295.02     1000.0    9.464835   -295.02   \n",
              "1      1219.168092   -118.235600    1208.82     1000.0    9.464835   -208.82   \n",
              "2      1008.250452     68.351200    1004.52     1000.0    3.000000     -4.52   \n",
              "3      1006.849437     69.751200    1003.12     1000.0    3.000000     -3.12   \n",
              "4       999.577484     65.434800     992.89     1000.0    5.963315      7.11   \n",
              "..             ...           ...        ...        ...         ...       ...   \n",
              "374  104109.550828   2454.700000  103461.30   100000.0  572.826087  -3461.30   \n",
              "375   94228.758160  11441.000000   94040.00   100000.0  120.491803   5960.00   \n",
              "376   90199.281529  20498.602642   89970.00   100000.0  163.934426  10030.00   \n",
              "377   92167.920873  16404.881000   91970.00   100000.0  131.147541   8030.00   \n",
              "378  102787.417709   5261.454200  102590.00   100000.0  122.950820  -2590.00   \n",
              "\n",
              "     COUPONVALUE  COUPONFREQUENCY  COUPONPERCENT  COUPONAGE  \n",
              "0        52.0600              2.0          10.44   0.181319  \n",
              "1        52.0600              2.0          10.44   0.181319  \n",
              "2        41.8800              2.0           8.40   0.071429  \n",
              "3        41.8800              2.0           8.40   0.071429  \n",
              "4        33.5200              2.0           6.65   0.179348  \n",
              "..           ...              ...            ...        ...  \n",
              "374    3400.0000              2.0           6.80   0.168478  \n",
              "375    3150.0000              2.0           6.30   0.038251  \n",
              "376    6016.4383              2.0          12.00   0.027322  \n",
              "377    4813.1500              2.0           9.60   0.027322  \n",
              "378    4512.3300              2.0           9.00   0.027322  \n",
              "\n",
              "[379 rows x 10 columns]"
            ],
            "text/html": [
              "\n",
              "  <div id=\"df-2cb18dbd-9b7d-470b-8e46-b62f4ec35754\">\n",
              "    <div class=\"colab-df-container\">\n",
              "      <div>\n",
              "<style scoped>\n",
              "    .dataframe tbody tr th:only-of-type {\n",
              "        vertical-align: middle;\n",
              "    }\n",
              "\n",
              "    .dataframe tbody tr th {\n",
              "        vertical-align: top;\n",
              "    }\n",
              "\n",
              "    .dataframe thead th {\n",
              "        text-align: right;\n",
              "    }\n",
              "</style>\n",
              "<table border=\"1\" class=\"dataframe\">\n",
              "  <thead>\n",
              "    <tr style=\"text-align: right;\">\n",
              "      <th></th>\n",
              "      <th>Buy</th>\n",
              "      <th>Sell</th>\n",
              "      <th>PRICE_RUB</th>\n",
              "      <th>FACEVALUE</th>\n",
              "      <th>NKD</th>\n",
              "      <th>Delta</th>\n",
              "      <th>COUPONVALUE</th>\n",
              "      <th>COUPONFREQUENCY</th>\n",
              "      <th>COUPONPERCENT</th>\n",
              "      <th>COUPONAGE</th>\n",
              "    </tr>\n",
              "  </thead>\n",
              "  <tbody>\n",
              "    <tr>\n",
              "      <th>0</th>\n",
              "      <td>1305.430587</td>\n",
              "      <td>-204.435600</td>\n",
              "      <td>1295.02</td>\n",
              "      <td>1000.0</td>\n",
              "      <td>9.464835</td>\n",
              "      <td>-295.02</td>\n",
              "      <td>52.0600</td>\n",
              "      <td>2.0</td>\n",
              "      <td>10.44</td>\n",
              "      <td>0.181319</td>\n",
              "    </tr>\n",
              "    <tr>\n",
              "      <th>1</th>\n",
              "      <td>1219.168092</td>\n",
              "      <td>-118.235600</td>\n",
              "      <td>1208.82</td>\n",
              "      <td>1000.0</td>\n",
              "      <td>9.464835</td>\n",
              "      <td>-208.82</td>\n",
              "      <td>52.0600</td>\n",
              "      <td>2.0</td>\n",
              "      <td>10.44</td>\n",
              "      <td>0.181319</td>\n",
              "    </tr>\n",
              "    <tr>\n",
              "      <th>2</th>\n",
              "      <td>1008.250452</td>\n",
              "      <td>68.351200</td>\n",
              "      <td>1004.52</td>\n",
              "      <td>1000.0</td>\n",
              "      <td>3.000000</td>\n",
              "      <td>-4.52</td>\n",
              "      <td>41.8800</td>\n",
              "      <td>2.0</td>\n",
              "      <td>8.40</td>\n",
              "      <td>0.071429</td>\n",
              "    </tr>\n",
              "    <tr>\n",
              "      <th>3</th>\n",
              "      <td>1006.849437</td>\n",
              "      <td>69.751200</td>\n",
              "      <td>1003.12</td>\n",
              "      <td>1000.0</td>\n",
              "      <td>3.000000</td>\n",
              "      <td>-3.12</td>\n",
              "      <td>41.8800</td>\n",
              "      <td>2.0</td>\n",
              "      <td>8.40</td>\n",
              "      <td>0.071429</td>\n",
              "    </tr>\n",
              "    <tr>\n",
              "      <th>4</th>\n",
              "      <td>999.577484</td>\n",
              "      <td>65.434800</td>\n",
              "      <td>992.89</td>\n",
              "      <td>1000.0</td>\n",
              "      <td>5.963315</td>\n",
              "      <td>7.11</td>\n",
              "      <td>33.5200</td>\n",
              "      <td>2.0</td>\n",
              "      <td>6.65</td>\n",
              "      <td>0.179348</td>\n",
              "    </tr>\n",
              "    <tr>\n",
              "      <th>...</th>\n",
              "      <td>...</td>\n",
              "      <td>...</td>\n",
              "      <td>...</td>\n",
              "      <td>...</td>\n",
              "      <td>...</td>\n",
              "      <td>...</td>\n",
              "      <td>...</td>\n",
              "      <td>...</td>\n",
              "      <td>...</td>\n",
              "      <td>...</td>\n",
              "    </tr>\n",
              "    <tr>\n",
              "      <th>374</th>\n",
              "      <td>104109.550828</td>\n",
              "      <td>2454.700000</td>\n",
              "      <td>103461.30</td>\n",
              "      <td>100000.0</td>\n",
              "      <td>572.826087</td>\n",
              "      <td>-3461.30</td>\n",
              "      <td>3400.0000</td>\n",
              "      <td>2.0</td>\n",
              "      <td>6.80</td>\n",
              "      <td>0.168478</td>\n",
              "    </tr>\n",
              "    <tr>\n",
              "      <th>375</th>\n",
              "      <td>94228.758160</td>\n",
              "      <td>11441.000000</td>\n",
              "      <td>94040.00</td>\n",
              "      <td>100000.0</td>\n",
              "      <td>120.491803</td>\n",
              "      <td>5960.00</td>\n",
              "      <td>3150.0000</td>\n",
              "      <td>2.0</td>\n",
              "      <td>6.30</td>\n",
              "      <td>0.038251</td>\n",
              "    </tr>\n",
              "    <tr>\n",
              "      <th>376</th>\n",
              "      <td>90199.281529</td>\n",
              "      <td>20498.602642</td>\n",
              "      <td>89970.00</td>\n",
              "      <td>100000.0</td>\n",
              "      <td>163.934426</td>\n",
              "      <td>10030.00</td>\n",
              "      <td>6016.4383</td>\n",
              "      <td>2.0</td>\n",
              "      <td>12.00</td>\n",
              "      <td>0.027322</td>\n",
              "    </tr>\n",
              "    <tr>\n",
              "      <th>377</th>\n",
              "      <td>92167.920873</td>\n",
              "      <td>16404.881000</td>\n",
              "      <td>91970.00</td>\n",
              "      <td>100000.0</td>\n",
              "      <td>131.147541</td>\n",
              "      <td>8030.00</td>\n",
              "      <td>4813.1500</td>\n",
              "      <td>2.0</td>\n",
              "      <td>9.60</td>\n",
              "      <td>0.027322</td>\n",
              "    </tr>\n",
              "    <tr>\n",
              "      <th>378</th>\n",
              "      <td>102787.417709</td>\n",
              "      <td>5261.454200</td>\n",
              "      <td>102590.00</td>\n",
              "      <td>100000.0</td>\n",
              "      <td>122.950820</td>\n",
              "      <td>-2590.00</td>\n",
              "      <td>4512.3300</td>\n",
              "      <td>2.0</td>\n",
              "      <td>9.00</td>\n",
              "      <td>0.027322</td>\n",
              "    </tr>\n",
              "  </tbody>\n",
              "</table>\n",
              "<p>379 rows × 10 columns</p>\n",
              "</div>\n",
              "      <button class=\"colab-df-convert\" onclick=\"convertToInteractive('df-2cb18dbd-9b7d-470b-8e46-b62f4ec35754')\"\n",
              "              title=\"Convert this dataframe to an interactive table.\"\n",
              "              style=\"display:none;\">\n",
              "        \n",
              "  <svg xmlns=\"http://www.w3.org/2000/svg\" height=\"24px\"viewBox=\"0 0 24 24\"\n",
              "       width=\"24px\">\n",
              "    <path d=\"M0 0h24v24H0V0z\" fill=\"none\"/>\n",
              "    <path d=\"M18.56 5.44l.94 2.06.94-2.06 2.06-.94-2.06-.94-.94-2.06-.94 2.06-2.06.94zm-11 1L8.5 8.5l.94-2.06 2.06-.94-2.06-.94L8.5 2.5l-.94 2.06-2.06.94zm10 10l.94 2.06.94-2.06 2.06-.94-2.06-.94-.94-2.06-.94 2.06-2.06.94z\"/><path d=\"M17.41 7.96l-1.37-1.37c-.4-.4-.92-.59-1.43-.59-.52 0-1.04.2-1.43.59L10.3 9.45l-7.72 7.72c-.78.78-.78 2.05 0 2.83L4 21.41c.39.39.9.59 1.41.59.51 0 1.02-.2 1.41-.59l7.78-7.78 2.81-2.81c.8-.78.8-2.07 0-2.86zM5.41 20L4 18.59l7.72-7.72 1.47 1.35L5.41 20z\"/>\n",
              "  </svg>\n",
              "      </button>\n",
              "      \n",
              "  <style>\n",
              "    .colab-df-container {\n",
              "      display:flex;\n",
              "      flex-wrap:wrap;\n",
              "      gap: 12px;\n",
              "    }\n",
              "\n",
              "    .colab-df-convert {\n",
              "      background-color: #E8F0FE;\n",
              "      border: none;\n",
              "      border-radius: 50%;\n",
              "      cursor: pointer;\n",
              "      display: none;\n",
              "      fill: #1967D2;\n",
              "      height: 32px;\n",
              "      padding: 0 0 0 0;\n",
              "      width: 32px;\n",
              "    }\n",
              "\n",
              "    .colab-df-convert:hover {\n",
              "      background-color: #E2EBFA;\n",
              "      box-shadow: 0px 1px 2px rgba(60, 64, 67, 0.3), 0px 1px 3px 1px rgba(60, 64, 67, 0.15);\n",
              "      fill: #174EA6;\n",
              "    }\n",
              "\n",
              "    [theme=dark] .colab-df-convert {\n",
              "      background-color: #3B4455;\n",
              "      fill: #D2E3FC;\n",
              "    }\n",
              "\n",
              "    [theme=dark] .colab-df-convert:hover {\n",
              "      background-color: #434B5C;\n",
              "      box-shadow: 0px 1px 3px 1px rgba(0, 0, 0, 0.15);\n",
              "      filter: drop-shadow(0px 1px 2px rgba(0, 0, 0, 0.3));\n",
              "      fill: #FFFFFF;\n",
              "    }\n",
              "  </style>\n",
              "\n",
              "      <script>\n",
              "        const buttonEl =\n",
              "          document.querySelector('#df-2cb18dbd-9b7d-470b-8e46-b62f4ec35754 button.colab-df-convert');\n",
              "        buttonEl.style.display =\n",
              "          google.colab.kernel.accessAllowed ? 'block' : 'none';\n",
              "\n",
              "        async function convertToInteractive(key) {\n",
              "          const element = document.querySelector('#df-2cb18dbd-9b7d-470b-8e46-b62f4ec35754');\n",
              "          const dataTable =\n",
              "            await google.colab.kernel.invokeFunction('convertToInteractive',\n",
              "                                                     [key], {});\n",
              "          if (!dataTable) return;\n",
              "\n",
              "          const docLinkHtml = 'Like what you see? Visit the ' +\n",
              "            '<a target=\"_blank\" href=https://colab.research.google.com/notebooks/data_table.ipynb>data table notebook</a>'\n",
              "            + ' to learn more about interactive tables.';\n",
              "          element.innerHTML = '';\n",
              "          dataTable['output_type'] = 'display_data';\n",
              "          await google.colab.output.renderOutput(dataTable, element);\n",
              "          const docLink = document.createElement('div');\n",
              "          docLink.innerHTML = docLinkHtml;\n",
              "          element.appendChild(docLink);\n",
              "        }\n",
              "      </script>\n",
              "    </div>\n",
              "  </div>\n",
              "  "
            ]
          },
          "metadata": {},
          "execution_count": 228
        }
      ]
    },
    {
      "cell_type": "code",
      "source": [
        "df4.loc[1]"
      ],
      "metadata": {
        "colab": {
          "base_uri": "https://localhost:8080/"
        },
        "id": "b9SUVJ_owFBE",
        "outputId": "ee3f140d-6db4-4972-cc43-99cc2dc30174"
      },
      "execution_count": 225,
      "outputs": [
        {
          "output_type": "execute_result",
          "data": {
            "text/plain": [
              "SHORTNAME                                                            ЗСД 02\n",
              "NAME                                            Запад.скор.диаметр АО об.02\n",
              "FACEVALUE                                                            1000.0\n",
              "FACEUNIT                                                                RUB\n",
              "IS_QUALIFIED_INVESTORS                                                    0\n",
              "HIGH_RISK                                                                 0\n",
              "COUPONDAYSPASSED                                                       33.0\n",
              "COUPONLENGTH                                                          182.0\n",
              "COUPONFREQUENCY                                                         2.0\n",
              "COUPONDATE                                                       21.11.2023\n",
              "COUPONPERCENT                                                         10.44\n",
              "COUPONVALUE                                                           52.06\n",
              "EMITENTNAME               Акционерное общество \"Западный скоростной диам...\n",
              "INN                                                            7825392577.0\n",
              "PRICE                                                                119,91\n",
              "PRICE_RUB                                                           1208.82\n",
              "SECSUBTYPE                                                              NaN\n",
              "MATDATE                                                          13.05.2031\n",
              "Cluster                                                                   0\n",
              "COUPONAGE                                                          0.181319\n",
              "NKD                                                                9.464835\n",
              "Delta                                                               -208.82\n",
              "Profit                                                           -49.364173\n",
              "BUY                                                             1219.168092\n",
              "SELL                                                              -118.2356\n",
              "Name: 1, dtype: object"
            ]
          },
          "metadata": {},
          "execution_count": 225
        }
      ]
    },
    {
      "cell_type": "code",
      "source": [
        "df4['Profit']=df4['Sell']*100/df4['Buy']"
      ],
      "metadata": {
        "colab": {
          "base_uri": "https://localhost:8080/"
        },
        "id": "xzHUj3eJJr8s",
        "outputId": "e576273a-8b51-442d-d6af-787d4a1ef47e"
      },
      "execution_count": 229,
      "outputs": [
        {
          "output_type": "stream",
          "name": "stderr",
          "text": [
            "<ipython-input-229-35604fd4aab0>:1: SettingWithCopyWarning: \n",
            "A value is trying to be set on a copy of a slice from a DataFrame.\n",
            "Try using .loc[row_indexer,col_indexer] = value instead\n",
            "\n",
            "See the caveats in the documentation: https://pandas.pydata.org/pandas-docs/stable/user_guide/indexing.html#returning-a-view-versus-a-copy\n",
            "  df4['Profit']=df4['Sell']*100/df4['Buy']\n"
          ]
        }
      ]
    },
    {
      "cell_type": "code",
      "source": [
        "df4.shape"
      ],
      "metadata": {
        "colab": {
          "base_uri": "https://localhost:8080/"
        },
        "id": "4M9mqLhDMcf9",
        "outputId": "07b0d565-d0f9-43be-a92e-a97bd2fcee06"
      },
      "execution_count": 230,
      "outputs": [
        {
          "output_type": "execute_result",
          "data": {
            "text/plain": [
              "(379, 27)"
            ]
          },
          "metadata": {},
          "execution_count": 230
        }
      ]
    },
    {
      "cell_type": "code",
      "source": [
        "import seaborn as sns\n",
        "\n",
        "# matplotlib histogram\n",
        "plt.hist(df4['Profit'], color = 'blue', edgecolor = 'black',\n",
        "         bins = int(180/5))\n",
        "\n",
        "# seaborn histogram\n",
        "sns.distplot(df4['Profit'], hist=True, kde=False,\n",
        "             bins=int(180/5), color = 'blue',\n",
        "             hist_kws={'edgecolor':'black'})\n",
        "# Add labels\n",
        "plt.title('Общая доходность облигаций')\n",
        "plt.xlabel('Доходность, %')\n",
        "plt.ylabel('Число облигаций')"
      ],
      "metadata": {
        "colab": {
          "base_uri": "https://localhost:8080/",
          "height": 743
        },
        "id": "hHCsWCbSBIMk",
        "outputId": "98407ad8-bc83-457c-8b90-a812970dd3d2"
      },
      "execution_count": 231,
      "outputs": [
        {
          "output_type": "stream",
          "name": "stderr",
          "text": [
            "<ipython-input-231-eca9a21f6edd>:8: UserWarning: \n",
            "\n",
            "`distplot` is a deprecated function and will be removed in seaborn v0.14.0.\n",
            "\n",
            "Please adapt your code to use either `displot` (a figure-level function with\n",
            "similar flexibility) or `histplot` (an axes-level function for histograms).\n",
            "\n",
            "For a guide to updating your code to use the new functions, please see\n",
            "https://gist.github.com/mwaskom/de44147ed2974457ad6372750bbe5751\n",
            "\n",
            "  sns.distplot(df4['Profit'], hist=True, kde=False,\n"
          ]
        },
        {
          "output_type": "execute_result",
          "data": {
            "text/plain": [
              "Text(0, 0.5, 'Число облигаций')"
            ]
          },
          "metadata": {},
          "execution_count": 231
        },
        {
          "output_type": "display_data",
          "data": {
            "text/plain": [
              "<Figure size 800x550 with 1 Axes>"
            ],
            "image/png": "[encoded data removed]"
          },
          "metadata": {}
        }
      ]
    },
    {
      "cell_type": "code",
      "source": [
        "df5 = df4.loc[df4['Profit']>0].sort_values(by='Profit')"
      ],
      "metadata": {
        "id": "uAmHRK50ByoW"
      },
      "execution_count": 254,
      "outputs": []
    },
    {
      "cell_type": "code",
      "source": [
        "df5.shape"
      ],
      "metadata": {
        "colab": {
          "base_uri": "https://localhost:8080/"
        },
        "id": "kloVBjWpCXqw",
        "outputId": "0e2b7d59-ad4e-49e6-b580-52197c62111c"
      },
      "execution_count": 255,
      "outputs": [
        {
          "output_type": "execute_result",
          "data": {
            "text/plain": [
              "(364, 27)"
            ]
          },
          "metadata": {},
          "execution_count": 255
        }
      ]
    },
    {
      "cell_type": "code",
      "source": [
        "# matplotlib histogram\n",
        "plt.hist(df5['Profit'], color = 'blue', edgecolor = 'black',\n",
        "         bins = int(180/5))\n",
        "\n",
        "# seaborn histogram\n",
        "sns.distplot(df5['Profit'], hist=True, kde=False,\n",
        "             bins=int(180/5), color = 'blue',\n",
        "             hist_kws={'edgecolor':'black'})\n",
        "# Add labels\n",
        "plt.title('Общая доходность облигаций')\n",
        "plt.xlabel('Доходность, %')\n",
        "plt.ylabel('Число облигаций')"
      ],
      "metadata": {
        "colab": {
          "base_uri": "https://localhost:8080/",
          "height": 743
        },
        "id": "bqoiS8laDK2e",
        "outputId": "bce7b76d-a76d-41c9-978a-49b30aeababb"
      },
      "execution_count": 256,
      "outputs": [
        {
          "output_type": "stream",
          "name": "stderr",
          "text": [
            "<ipython-input-256-3169299b7058>:6: UserWarning: \n",
            "\n",
            "`distplot` is a deprecated function and will be removed in seaborn v0.14.0.\n",
            "\n",
            "Please adapt your code to use either `displot` (a figure-level function with\n",
            "similar flexibility) or `histplot` (an axes-level function for histograms).\n",
            "\n",
            "For a guide to updating your code to use the new functions, please see\n",
            "https://gist.github.com/mwaskom/de44147ed2974457ad6372750bbe5751\n",
            "\n",
            "  sns.distplot(df5['Profit'], hist=True, kde=False,\n"
          ]
        },
        {
          "output_type": "execute_result",
          "data": {
            "text/plain": [
              "Text(0, 0.5, 'Число облигаций')"
            ]
          },
          "metadata": {},
          "execution_count": 256
        },
        {
          "output_type": "display_data",
          "data": {
            "text/plain": [
              "<Figure size 800x550 with 1 Axes>"
            ],
            "image/png": "[encoded data removed]"
          },
          "metadata": {}
        }
      ]
    },
    {
      "cell_type": "code",
      "source": [
        "df10 = df4.loc[df4['Profit']>25].sort_values(by='Profit', ascending=False)"
      ],
      "metadata": {
        "id": "e4nKy0bV7J0V"
      },
      "execution_count": 259,
      "outputs": []
    },
    {
      "cell_type": "code",
      "source": [
        "df10[['NAME','Buy','Sell','PRICE_RUB','FACEVALUE','COUPONVALUE','COUPONFREQUENCY','COUPONPERCENT','COUPONAGE','Profit','MATDATE','SECSUBTYPE','IS_QUALIFIED_INVESTORS']]"
      ],
      "metadata": {
        "colab": {
          "base_uri": "https://localhost:8080/",
          "height": 531
        },
        "id": "lqMwPYjW7rIQ",
        "outputId": "219ea5b0-26b4-4180-efcd-d418c48a42ef"
      },
      "execution_count": 265,
      "outputs": [
        {
          "output_type": "execute_result",
          "data": {
            "text/plain": [
              "                            NAME           Buy          Sell   PRICE_RUB  \\\n",
              "29   \"Российские ЖД\" ОАО 35 обл.  6.677758e+02  4.463948e+02      665.87   \n",
              "368      ОФЗ-ПД 26238 15/05/2041  7.234351e+02  3.421960e+02      719.40   \n",
              "366        ОФЗ-ПД 26225 10/05/34  8.050068e+02  2.648510e+02      798.05   \n",
              "131            Банк ВТБ ПАО Т2-3  8.126024e+06  2.668661e+06  8060136.99   \n",
              "373         BCS SP Plc Series 34  8.514196e+04  2.466622e+04    84930.00   \n",
              "255          Сбербанк 002СУБ-03R  8.596475e+06  2.217282e+06  8520191.78   \n",
              "224       Банк ВТБ (ПАО) Б-1-217  8.000965e+02  2.005770e+02      799.51   \n",
              "261       Банк ВТБ (ПАО) Б-1-246  8.003810e+02  2.002870e+02      799.80   \n",
              "183       Банк ВТБ (ПАО) Б-1-153  8.004832e+02  2.001870e+02      799.90   \n",
              "\n",
              "      FACEVALUE  COUPONVALUE  COUPONFREQUENCY  COUPONPERCENT  COUPONAGE  \\\n",
              "29       1000.0        64.52              2.0          12.94   0.021978   \n",
              "368      1000.0        35.40              2.0           7.10   0.098901   \n",
              "366      1000.0        36.15              2.0           7.25   0.175824   \n",
              "131  10000000.0    418849.32              2.0           8.40   0.142857   \n",
              "373    100000.0      5515.07              2.0          11.00   0.027322   \n",
              "255  10000000.0    423835.62              2.0           8.50   0.164835   \n",
              "224      1000.0         0.05              2.0           0.01   0.137363   \n",
              "261      1000.0         0.05              2.0           0.01   0.021978   \n",
              "183      1000.0         0.05              2.0           0.01   0.065934   \n",
              "\n",
              "        Profit     MATDATE                   SECSUBTYPE  \\\n",
              "29   66.848009  30.05.2040                          NaN   \n",
              "368  47.301548  15.05.2041                          NaN   \n",
              "366  32.900466  10.05.2034                          NaN   \n",
              "131  32.840917  21.05.2030  Субординированные облигации   \n",
              "373  28.970701  20.12.2023                          NaN   \n",
              "255  25.792924  14.11.2031  Субординированные облигации   \n",
              "224  25.069100  25.11.2026                          NaN   \n",
              "261  25.023959  16.12.2026                          NaN   \n",
              "183  25.008269  09.12.2025                          NaN   \n",
              "\n",
              "     IS_QUALIFIED_INVESTORS  \n",
              "29                        0  \n",
              "368                       0  \n",
              "366                       0  \n",
              "131                       1  \n",
              "373                       1  \n",
              "255                       1  \n",
              "224                       1  \n",
              "261                       1  \n",
              "183                       0  "
            ],
            "text/html": [
              "\n",
              "  <div id=\"df-bc41de65-90c3-41ba-a986-6ad2bb9f83ae\">\n",
              "    <div class=\"colab-df-container\">\n",
              "      <div>\n",
              "<style scoped>\n",
              "    .dataframe tbody tr th:only-of-type {\n",
              "        vertical-align: middle;\n",
              "    }\n",
              "\n",
              "    .dataframe tbody tr th {\n",
              "        vertical-align: top;\n",
              "    }\n",
              "\n",
              "    .dataframe thead th {\n",
              "        text-align: right;\n",
              "    }\n",
              "</style>\n",
              "<table border=\"1\" class=\"dataframe\">\n",
              "  <thead>\n",
              "    <tr style=\"text-align: right;\">\n",
              "      <th></th>\n",
              "      <th>NAME</th>\n",
              "      <th>Buy</th>\n",
              "      <th>Sell</th>\n",
              "      <th>PRICE_RUB</th>\n",
              "      <th>FACEVALUE</th>\n",
              "      <th>COUPONVALUE</th>\n",
              "      <th>COUPONFREQUENCY</th>\n",
              "      <th>COUPONPERCENT</th>\n",
              "      <th>COUPONAGE</th>\n",
              "      <th>Profit</th>\n",
              "      <th>MATDATE</th>\n",
              "      <th>SECSUBTYPE</th>\n",
              "      <th>IS_QUALIFIED_INVESTORS</th>\n",
              "    </tr>\n",
              "  </thead>\n",
              "  <tbody>\n",
              "    <tr>\n",
              "      <th>29</th>\n",
              "      <td>\"Российские ЖД\" ОАО 35 обл.</td>\n",
              "      <td>6.677758e+02</td>\n",
              "      <td>4.463948e+02</td>\n",
              "      <td>665.87</td>\n",
              "      <td>1000.0</td>\n",
              "      <td>64.52</td>\n",
              "      <td>2.0</td>\n",
              "      <td>12.94</td>\n",
              "      <td>0.021978</td>\n",
              "      <td>66.848009</td>\n",
              "      <td>30.05.2040</td>\n",
              "      <td>NaN</td>\n",
              "      <td>0</td>\n",
              "    </tr>\n",
              "    <tr>\n",
              "      <th>368</th>\n",
              "      <td>ОФЗ-ПД 26238 15/05/2041</td>\n",
              "      <td>7.234351e+02</td>\n",
              "      <td>3.421960e+02</td>\n",
              "      <td>719.40</td>\n",
              "      <td>1000.0</td>\n",
              "      <td>35.40</td>\n",
              "      <td>2.0</td>\n",
              "      <td>7.10</td>\n",
              "      <td>0.098901</td>\n",
              "      <td>47.301548</td>\n",
              "      <td>15.05.2041</td>\n",
              "      <td>NaN</td>\n",
              "      <td>0</td>\n",
              "    </tr>\n",
              "    <tr>\n",
              "      <th>366</th>\n",
              "      <td>ОФЗ-ПД 26225 10/05/34</td>\n",
              "      <td>8.050068e+02</td>\n",
              "      <td>2.648510e+02</td>\n",
              "      <td>798.05</td>\n",
              "      <td>1000.0</td>\n",
              "      <td>36.15</td>\n",
              "      <td>2.0</td>\n",
              "      <td>7.25</td>\n",
              "      <td>0.175824</td>\n",
              "      <td>32.900466</td>\n",
              "      <td>10.05.2034</td>\n",
              "      <td>NaN</td>\n",
              "      <td>0</td>\n",
              "    </tr>\n",
              "    <tr>\n",
              "      <th>131</th>\n",
              "      <td>Банк ВТБ ПАО Т2-3</td>\n",
              "      <td>8.126024e+06</td>\n",
              "      <td>2.668661e+06</td>\n",
              "      <td>8060136.99</td>\n",
              "      <td>10000000.0</td>\n",
              "      <td>418849.32</td>\n",
              "      <td>2.0</td>\n",
              "      <td>8.40</td>\n",
              "      <td>0.142857</td>\n",
              "      <td>32.840917</td>\n",
              "      <td>21.05.2030</td>\n",
              "      <td>Субординированные облигации</td>\n",
              "      <td>1</td>\n",
              "    </tr>\n",
              "    <tr>\n",
              "      <th>373</th>\n",
              "      <td>BCS SP Plc Series 34</td>\n",
              "      <td>8.514196e+04</td>\n",
              "      <td>2.466622e+04</td>\n",
              "      <td>84930.00</td>\n",
              "      <td>100000.0</td>\n",
              "      <td>5515.07</td>\n",
              "      <td>2.0</td>\n",
              "      <td>11.00</td>\n",
              "      <td>0.027322</td>\n",
              "      <td>28.970701</td>\n",
              "      <td>20.12.2023</td>\n",
              "      <td>NaN</td>\n",
              "      <td>1</td>\n",
              "    </tr>\n",
              "    <tr>\n",
              "      <th>255</th>\n",
              "      <td>Сбербанк 002СУБ-03R</td>\n",
              "      <td>8.596475e+06</td>\n",
              "      <td>2.217282e+06</td>\n",
              "      <td>8520191.78</td>\n",
              "      <td>10000000.0</td>\n",
              "      <td>423835.62</td>\n",
              "      <td>2.0</td>\n",
              "      <td>8.50</td>\n",
              "      <td>0.164835</td>\n",
              "      <td>25.792924</td>\n",
              "      <td>14.11.2031</td>\n",
              "      <td>Субординированные облигации</td>\n",
              "      <td>1</td>\n",
              "    </tr>\n",
              "    <tr>\n",
              "      <th>224</th>\n",
              "      <td>Банк ВТБ (ПАО) Б-1-217</td>\n",
              "      <td>8.000965e+02</td>\n",
              "      <td>2.005770e+02</td>\n",
              "      <td>799.51</td>\n",
              "      <td>1000.0</td>\n",
              "      <td>0.05</td>\n",
              "      <td>2.0</td>\n",
              "      <td>0.01</td>\n",
              "      <td>0.137363</td>\n",
              "      <td>25.069100</td>\n",
              "      <td>25.11.2026</td>\n",
              "      <td>NaN</td>\n",
              "      <td>1</td>\n",
              "    </tr>\n",
              "    <tr>\n",
              "      <th>261</th>\n",
              "      <td>Банк ВТБ (ПАО) Б-1-246</td>\n",
              "      <td>8.003810e+02</td>\n",
              "      <td>2.002870e+02</td>\n",
              "      <td>799.80</td>\n",
              "      <td>1000.0</td>\n",
              "      <td>0.05</td>\n",
              "      <td>2.0</td>\n",
              "      <td>0.01</td>\n",
              "      <td>0.021978</td>\n",
              "      <td>25.023959</td>\n",
              "      <td>16.12.2026</td>\n",
              "      <td>NaN</td>\n",
              "      <td>1</td>\n",
              "    </tr>\n",
              "    <tr>\n",
              "      <th>183</th>\n",
              "      <td>Банк ВТБ (ПАО) Б-1-153</td>\n",
              "      <td>8.004832e+02</td>\n",
              "      <td>2.001870e+02</td>\n",
              "      <td>799.90</td>\n",
              "      <td>1000.0</td>\n",
              "      <td>0.05</td>\n",
              "      <td>2.0</td>\n",
              "      <td>0.01</td>\n",
              "      <td>0.065934</td>\n",
              "      <td>25.008269</td>\n",
              "      <td>09.12.2025</td>\n",
              "      <td>NaN</td>\n",
              "      <td>0</td>\n",
              "    </tr>\n",
              "  </tbody>\n",
              "</table>\n",
              "</div>\n",
              "      <button class=\"colab-df-convert\" onclick=\"convertToInteractive('df-bc41de65-90c3-41ba-a986-6ad2bb9f83ae')\"\n",
              "              title=\"Convert this dataframe to an interactive table.\"\n",
              "              style=\"display:none;\">\n",
              "        \n",
              "  <svg xmlns=\"http://www.w3.org/2000/svg\" height=\"24px\"viewBox=\"0 0 24 24\"\n",
              "       width=\"24px\">\n",
              "    <path d=\"M0 0h24v24H0V0z\" fill=\"none\"/>\n",
              "    <path d=\"M18.56 5.44l.94 2.06.94-2.06 2.06-.94-2.06-.94-.94-2.06-.94 2.06-2.06.94zm-11 1L8.5 8.5l.94-2.06 2.06-.94-2.06-.94L8.5 2.5l-.94 2.06-2.06.94zm10 10l.94 2.06.94-2.06 2.06-.94-2.06-.94-.94-2.06-.94 2.06-2.06.94z\"/><path d=\"M17.41 7.96l-1.37-1.37c-.4-.4-.92-.59-1.43-.59-.52 0-1.04.2-1.43.59L10.3 9.45l-7.72 7.72c-.78.78-.78 2.05 0 2.83L4 21.41c.39.39.9.59 1.41.59.51 0 1.02-.2 1.41-.59l7.78-7.78 2.81-2.81c.8-.78.8-2.07 0-2.86zM5.41 20L4 18.59l7.72-7.72 1.47 1.35L5.41 20z\"/>\n",
              "  </svg>\n",
              "      </button>\n",
              "      \n",
              "  <style>\n",
              "    .colab-df-container {\n",
              "      display:flex;\n",
              "      flex-wrap:wrap;\n",
              "      gap: 12px;\n",
              "    }\n",
              "\n",
              "    .colab-df-convert {\n",
              "      background-color: #E8F0FE;\n",
              "      border: none;\n",
              "      border-radius: 50%;\n",
              "      cursor: pointer;\n",
              "      display: none;\n",
              "      fill: #1967D2;\n",
              "      height: 32px;\n",
              "      padding: 0 0 0 0;\n",
              "      width: 32px;\n",
              "    }\n",
              "\n",
              "    .colab-df-convert:hover {\n",
              "      background-color: #E2EBFA;\n",
              "      box-shadow: 0px 1px 2px rgba(60, 64, 67, 0.3), 0px 1px 3px 1px rgba(60, 64, 67, 0.15);\n",
              "      fill: #174EA6;\n",
              "    }\n",
              "\n",
              "    [theme=dark] .colab-df-convert {\n",
              "      background-color: #3B4455;\n",
              "      fill: #D2E3FC;\n",
              "    }\n",
              "\n",
              "    [theme=dark] .colab-df-convert:hover {\n",
              "      background-color: #434B5C;\n",
              "      box-shadow: 0px 1px 3px 1px rgba(0, 0, 0, 0.15);\n",
              "      filter: drop-shadow(0px 1px 2px rgba(0, 0, 0, 0.3));\n",
              "      fill: #FFFFFF;\n",
              "    }\n",
              "  </style>\n",
              "\n",
              "      <script>\n",
              "        const buttonEl =\n",
              "          document.querySelector('#df-bc41de65-90c3-41ba-a986-6ad2bb9f83ae button.colab-df-convert');\n",
              "        buttonEl.style.display =\n",
              "          google.colab.kernel.accessAllowed ? 'block' : 'none';\n",
              "\n",
              "        async function convertToInteractive(key) {\n",
              "          const element = document.querySelector('#df-bc41de65-90c3-41ba-a986-6ad2bb9f83ae');\n",
              "          const dataTable =\n",
              "            await google.colab.kernel.invokeFunction('convertToInteractive',\n",
              "                                                     [key], {});\n",
              "          if (!dataTable) return;\n",
              "\n",
              "          const docLinkHtml = 'Like what you see? Visit the ' +\n",
              "            '<a target=\"_blank\" href=https://colab.research.google.com/notebooks/data_table.ipynb>data table notebook</a>'\n",
              "            + ' to learn more about interactive tables.';\n",
              "          element.innerHTML = '';\n",
              "          dataTable['output_type'] = 'display_data';\n",
              "          await google.colab.output.renderOutput(dataTable, element);\n",
              "          const docLink = document.createElement('div');\n",
              "          docLink.innerHTML = docLinkHtml;\n",
              "          element.appendChild(docLink);\n",
              "        }\n",
              "      </script>\n",
              "    </div>\n",
              "  </div>\n",
              "  "
            ]
          },
          "metadata": {},
          "execution_count": 265
        }
      ]
    },
    {
      "cell_type": "markdown",
      "source": [
        "Проверим, какой срок до погашения у облигаций"
      ],
      "metadata": {
        "id": "xhjzHjM_lNf7"
      }
    },
    {
      "cell_type": "code",
      "source": [
        "df5['MATDATE']=pd.to_datetime(df5['MATDATE'], format='%d.%m.%Y').dt.date"
      ],
      "metadata": {
        "id": "oxQGf-FaOS6_"
      },
      "execution_count": 266,
      "outputs": []
    },
    {
      "cell_type": "code",
      "source": [
        "df5['MATDATE']"
      ],
      "metadata": {
        "colab": {
          "base_uri": "https://localhost:8080/"
        },
        "id": "hXqH9fhxSlwh",
        "outputId": "2f006704-16a8-473d-dd16-1bea6566a967"
      },
      "execution_count": 267,
      "outputs": [
        {
          "output_type": "execute_result",
          "data": {
            "text/plain": [
              "346    2026-06-19\n",
              "72     2024-04-18\n",
              "345    2024-05-22\n",
              "73     2024-05-31\n",
              "71     2024-06-05\n",
              "          ...    \n",
              "373    2023-12-20\n",
              "131    2030-05-21\n",
              "366    2034-05-10\n",
              "368    2041-05-15\n",
              "29     2040-05-30\n",
              "Name: MATDATE, Length: 364, dtype: object"
            ]
          },
          "metadata": {},
          "execution_count": 267
        }
      ]
    },
    {
      "cell_type": "code",
      "source": [
        "df5['DAYSLEFT']=(df5['MATDATE']-dt.date.today()).dt.days"
      ],
      "metadata": {
        "id": "Cq2zG2dRUHUJ"
      },
      "execution_count": 268,
      "outputs": []
    },
    {
      "cell_type": "code",
      "source": [
        "df5['DAYSLEFT']"
      ],
      "metadata": {
        "colab": {
          "base_uri": "https://localhost:8080/"
        },
        "id": "RBQQVV1zZvjo",
        "outputId": "a8b9617a-811b-49ae-abe2-7d18fbcd2537"
      },
      "execution_count": 269,
      "outputs": [
        {
          "output_type": "execute_result",
          "data": {
            "text/plain": [
              "346    1090\n",
              "72      298\n",
              "345     332\n",
              "73      341\n",
              "71      346\n",
              "       ... \n",
              "373     178\n",
              "131    2522\n",
              "366    3972\n",
              "368    6534\n",
              "29     6184\n",
              "Name: DAYSLEFT, Length: 364, dtype: int64"
            ]
          },
          "metadata": {},
          "execution_count": 269
        }
      ]
    },
    {
      "cell_type": "code",
      "source": [
        "df5.sort_values(by='Profit', ascending = False).head(5)"
      ],
      "metadata": {
        "colab": {
          "base_uri": "https://localhost:8080/",
          "height": 438
        },
        "id": "NNaFYTBgqpZX",
        "outputId": "f13b13a0-953a-404e-a743-52684461ddbc"
      },
      "execution_count": 239,
      "outputs": [
        {
          "output_type": "execute_result",
          "data": {
            "text/plain": [
              "      SHORTNAME                         NAME   FACEVALUE FACEUNIT  \\\n",
              "29   РЖД-35 обл  \"Российские ЖД\" ОАО 35 обл.      1000.0      RUB   \n",
              "368   ОФЗ 26238      ОФЗ-ПД 26238 15/05/2041      1000.0      RUB   \n",
              "366   ОФЗ 26225        ОФЗ-ПД 26225 10/05/34      1000.0      RUB   \n",
              "131    ВТБ Т2-3            Банк ВТБ ПАО Т2-3  10000000.0      RUB   \n",
              "373  BCS12/23-3         BCS SP Plc Series 34    100000.0      RUB   \n",
              "\n",
              "     IS_QUALIFIED_INVESTORS  HIGH_RISK  COUPONDAYSPASSED  COUPONLENGTH  \\\n",
              "29                        0          0               4.0         182.0   \n",
              "368                       0          0              18.0         182.0   \n",
              "366                       0          0              32.0         182.0   \n",
              "131                       1          0              26.0         182.0   \n",
              "373                       1          0               5.0         183.0   \n",
              "\n",
              "     COUPONFREQUENCY  COUPONDATE  ...  Cluster  COUPONAGE           NKD  \\\n",
              "29               2.0  20.12.2023  ...        4   0.021978      1.421978   \n",
              "368              2.0  06.12.2023  ...        2   0.098901      3.510989   \n",
              "366              2.0  22.11.2023  ...        2   0.175824      6.373626   \n",
              "131              2.0  28.11.2023  ...        0   0.142857  60000.000000   \n",
              "373              2.0  20.12.2023  ...        0   0.027322    150.273224   \n",
              "\n",
              "          Delta     Profit           BUY          SELL           Buy  \\\n",
              "29       334.13  66.848009  6.677758e+02  4.463948e+02  6.677758e+02   \n",
              "368      280.60  47.301548  7.234351e+02  3.421960e+02  7.234351e+02   \n",
              "366      201.95  32.900466  8.050068e+02  2.648510e+02  8.050068e+02   \n",
              "131  1939863.01  32.840917  8.126024e+06  2.668661e+06  8.126024e+06   \n",
              "373    15070.00  28.970701  8.514196e+04  2.466622e+04  8.514196e+04   \n",
              "\n",
              "             Sell  DAYSLEFT  \n",
              "29   4.463948e+02      6184  \n",
              "368  3.421960e+02      6534  \n",
              "366  2.648510e+02      3972  \n",
              "131  2.668661e+06      2522  \n",
              "373  2.466622e+04       178  \n",
              "\n",
              "[5 rows x 28 columns]"
            ],
            "text/html": [
              "\n",
              "  <div id=\"df-919d4141-9e84-4f55-ab42-636879d80f6a\">\n",
              "    <div class=\"colab-df-container\">\n",
              "      <div>\n",
              "<style scoped>\n",
              "    .dataframe tbody tr th:only-of-type {\n",
              "        vertical-align: middle;\n",
              "    }\n",
              "\n",
              "    .dataframe tbody tr th {\n",
              "        vertical-align: top;\n",
              "    }\n",
              "\n",
              "    .dataframe thead th {\n",
              "        text-align: right;\n",
              "    }\n",
              "</style>\n",
              "<table border=\"1\" class=\"dataframe\">\n",
              "  <thead>\n",
              "    <tr style=\"text-align: right;\">\n",
              "      <th></th>\n",
              "      <th>SHORTNAME</th>\n",
              "      <th>NAME</th>\n",
              "      <th>FACEVALUE</th>\n",
              "      <th>FACEUNIT</th>\n",
              "      <th>IS_QUALIFIED_INVESTORS</th>\n",
              "      <th>HIGH_RISK</th>\n",
              "      <th>COUPONDAYSPASSED</th>\n",
              "      <th>COUPONLENGTH</th>\n",
              "      <th>COUPONFREQUENCY</th>\n",
              "      <th>COUPONDATE</th>\n",
              "      <th>...</th>\n",
              "      <th>Cluster</th>\n",
              "      <th>COUPONAGE</th>\n",
              "      <th>NKD</th>\n",
              "      <th>Delta</th>\n",
              "      <th>Profit</th>\n",
              "      <th>BUY</th>\n",
              "      <th>SELL</th>\n",
              "      <th>Buy</th>\n",
              "      <th>Sell</th>\n",
              "      <th>DAYSLEFT</th>\n",
              "    </tr>\n",
              "  </thead>\n",
              "  <tbody>\n",
              "    <tr>\n",
              "      <th>29</th>\n",
              "      <td>РЖД-35 обл</td>\n",
              "      <td>\"Российские ЖД\" ОАО 35 обл.</td>\n",
              "      <td>1000.0</td>\n",
              "      <td>RUB</td>\n",
              "      <td>0</td>\n",
              "      <td>0</td>\n",
              "      <td>4.0</td>\n",
              "      <td>182.0</td>\n",
              "      <td>2.0</td>\n",
              "      <td>20.12.2023</td>\n",
              "      <td>...</td>\n",
              "      <td>4</td>\n",
              "      <td>0.021978</td>\n",
              "      <td>1.421978</td>\n",
              "      <td>334.13</td>\n",
              "      <td>66.848009</td>\n",
              "      <td>6.677758e+02</td>\n",
              "      <td>4.463948e+02</td>\n",
              "      <td>6.677758e+02</td>\n",
              "      <td>4.463948e+02</td>\n",
              "      <td>6184</td>\n",
              "    </tr>\n",
              "    <tr>\n",
              "      <th>368</th>\n",
              "      <td>ОФЗ 26238</td>\n",
              "      <td>ОФЗ-ПД 26238 15/05/2041</td>\n",
              "      <td>1000.0</td>\n",
              "      <td>RUB</td>\n",
              "      <td>0</td>\n",
              "      <td>0</td>\n",
              "      <td>18.0</td>\n",
              "      <td>182.0</td>\n",
              "      <td>2.0</td>\n",
              "      <td>06.12.2023</td>\n",
              "      <td>...</td>\n",
              "      <td>2</td>\n",
              "      <td>0.098901</td>\n",
              "      <td>3.510989</td>\n",
              "      <td>280.60</td>\n",
              "      <td>47.301548</td>\n",
              "      <td>7.234351e+02</td>\n",
              "      <td>3.421960e+02</td>\n",
              "      <td>7.234351e+02</td>\n",
              "      <td>3.421960e+02</td>\n",
              "      <td>6534</td>\n",
              "    </tr>\n",
              "    <tr>\n",
              "      <th>366</th>\n",
              "      <td>ОФЗ 26225</td>\n",
              "      <td>ОФЗ-ПД 26225 10/05/34</td>\n",
              "      <td>1000.0</td>\n",
              "      <td>RUB</td>\n",
              "      <td>0</td>\n",
              "      <td>0</td>\n",
              "      <td>32.0</td>\n",
              "      <td>182.0</td>\n",
              "      <td>2.0</td>\n",
              "      <td>22.11.2023</td>\n",
              "      <td>...</td>\n",
              "      <td>2</td>\n",
              "      <td>0.175824</td>\n",
              "      <td>6.373626</td>\n",
              "      <td>201.95</td>\n",
              "      <td>32.900466</td>\n",
              "      <td>8.050068e+02</td>\n",
              "      <td>2.648510e+02</td>\n",
              "      <td>8.050068e+02</td>\n",
              "      <td>2.648510e+02</td>\n",
              "      <td>3972</td>\n",
              "    </tr>\n",
              "    <tr>\n",
              "      <th>131</th>\n",
              "      <td>ВТБ Т2-3</td>\n",
              "      <td>Банк ВТБ ПАО Т2-3</td>\n",
              "      <td>10000000.0</td>\n",
              "      <td>RUB</td>\n",
              "      <td>1</td>\n",
              "      <td>0</td>\n",
              "      <td>26.0</td>\n",
              "      <td>182.0</td>\n",
              "      <td>2.0</td>\n",
              "      <td>28.11.2023</td>\n",
              "      <td>...</td>\n",
              "      <td>0</td>\n",
              "      <td>0.142857</td>\n",
              "      <td>60000.000000</td>\n",
              "      <td>1939863.01</td>\n",
              "      <td>32.840917</td>\n",
              "      <td>8.126024e+06</td>\n",
              "      <td>2.668661e+06</td>\n",
              "      <td>8.126024e+06</td>\n",
              "      <td>2.668661e+06</td>\n",
              "      <td>2522</td>\n",
              "    </tr>\n",
              "    <tr>\n",
              "      <th>373</th>\n",
              "      <td>BCS12/23-3</td>\n",
              "      <td>BCS SP Plc Series 34</td>\n",
              "      <td>100000.0</td>\n",
              "      <td>RUB</td>\n",
              "      <td>1</td>\n",
              "      <td>0</td>\n",
              "      <td>5.0</td>\n",
              "      <td>183.0</td>\n",
              "      <td>2.0</td>\n",
              "      <td>20.12.2023</td>\n",
              "      <td>...</td>\n",
              "      <td>0</td>\n",
              "      <td>0.027322</td>\n",
              "      <td>150.273224</td>\n",
              "      <td>15070.00</td>\n",
              "      <td>28.970701</td>\n",
              "      <td>8.514196e+04</td>\n",
              "      <td>2.466622e+04</td>\n",
              "      <td>8.514196e+04</td>\n",
              "      <td>2.466622e+04</td>\n",
              "      <td>178</td>\n",
              "    </tr>\n",
              "  </tbody>\n",
              "</table>\n",
              "<p>5 rows × 28 columns</p>\n",
              "</div>\n",
              "      <button class=\"colab-df-convert\" onclick=\"convertToInteractive('df-919d4141-9e84-4f55-ab42-636879d80f6a')\"\n",
              "              title=\"Convert this dataframe to an interactive table.\"\n",
              "              style=\"display:none;\">\n",
              "        \n",
              "  <svg xmlns=\"http://www.w3.org/2000/svg\" height=\"24px\"viewBox=\"0 0 24 24\"\n",
              "       width=\"24px\">\n",
              "    <path d=\"M0 0h24v24H0V0z\" fill=\"none\"/>\n",
              "    <path d=\"M18.56 5.44l.94 2.06.94-2.06 2.06-.94-2.06-.94-.94-2.06-.94 2.06-2.06.94zm-11 1L8.5 8.5l.94-2.06 2.06-.94-2.06-.94L8.5 2.5l-.94 2.06-2.06.94zm10 10l.94 2.06.94-2.06 2.06-.94-2.06-.94-.94-2.06-.94 2.06-2.06.94z\"/><path d=\"M17.41 7.96l-1.37-1.37c-.4-.4-.92-.59-1.43-.59-.52 0-1.04.2-1.43.59L10.3 9.45l-7.72 7.72c-.78.78-.78 2.05 0 2.83L4 21.41c.39.39.9.59 1.41.59.51 0 1.02-.2 1.41-.59l7.78-7.78 2.81-2.81c.8-.78.8-2.07 0-2.86zM5.41 20L4 18.59l7.72-7.72 1.47 1.35L5.41 20z\"/>\n",
              "  </svg>\n",
              "      </button>\n",
              "      \n",
              "  <style>\n",
              "    .colab-df-container {\n",
              "      display:flex;\n",
              "      flex-wrap:wrap;\n",
              "      gap: 12px;\n",
              "    }\n",
              "\n",
              "    .colab-df-convert {\n",
              "      background-color: #E8F0FE;\n",
              "      border: none;\n",
              "      border-radius: 50%;\n",
              "      cursor: pointer;\n",
              "      display: none;\n",
              "      fill: #1967D2;\n",
              "      height: 32px;\n",
              "      padding: 0 0 0 0;\n",
              "      width: 32px;\n",
              "    }\n",
              "\n",
              "    .colab-df-convert:hover {\n",
              "      background-color: #E2EBFA;\n",
              "      box-shadow: 0px 1px 2px rgba(60, 64, 67, 0.3), 0px 1px 3px 1px rgba(60, 64, 67, 0.15);\n",
              "      fill: #174EA6;\n",
              "    }\n",
              "\n",
              "    [theme=dark] .colab-df-convert {\n",
              "      background-color: #3B4455;\n",
              "      fill: #D2E3FC;\n",
              "    }\n",
              "\n",
              "    [theme=dark] .colab-df-convert:hover {\n",
              "      background-color: #434B5C;\n",
              "      box-shadow: 0px 1px 3px 1px rgba(0, 0, 0, 0.15);\n",
              "      filter: drop-shadow(0px 1px 2px rgba(0, 0, 0, 0.3));\n",
              "      fill: #FFFFFF;\n",
              "    }\n",
              "  </style>\n",
              "\n",
              "      <script>\n",
              "        const buttonEl =\n",
              "          document.querySelector('#df-919d4141-9e84-4f55-ab42-636879d80f6a button.colab-df-convert');\n",
              "        buttonEl.style.display =\n",
              "          google.colab.kernel.accessAllowed ? 'block' : 'none';\n",
              "\n",
              "        async function convertToInteractive(key) {\n",
              "          const element = document.querySelector('#df-919d4141-9e84-4f55-ab42-636879d80f6a');\n",
              "          const dataTable =\n",
              "            await google.colab.kernel.invokeFunction('convertToInteractive',\n",
              "                                                     [key], {});\n",
              "          if (!dataTable) return;\n",
              "\n",
              "          const docLinkHtml = 'Like what you see? Visit the ' +\n",
              "            '<a target=\"_blank\" href=https://colab.research.google.com/notebooks/data_table.ipynb>data table notebook</a>'\n",
              "            + ' to learn more about interactive tables.';\n",
              "          element.innerHTML = '';\n",
              "          dataTable['output_type'] = 'display_data';\n",
              "          await google.colab.output.renderOutput(dataTable, element);\n",
              "          const docLink = document.createElement('div');\n",
              "          docLink.innerHTML = docLinkHtml;\n",
              "          element.appendChild(docLink);\n",
              "        }\n",
              "      </script>\n",
              "    </div>\n",
              "  </div>\n",
              "  "
            ]
          },
          "metadata": {},
          "execution_count": 239
        }
      ]
    },
    {
      "cell_type": "code",
      "source": [
        "df6 = df5.loc[(df5.DAYSLEFT<366)&(df5.IS_QUALIFIED_INVESTORS==0)&(df5.COUPONPERCENT>7.5)]"
      ],
      "metadata": {
        "id": "y2o_X_VZZ-R-"
      },
      "execution_count": 270,
      "outputs": []
    },
    {
      "cell_type": "code",
      "source": [
        "df6.shape"
      ],
      "metadata": {
        "colab": {
          "base_uri": "https://localhost:8080/"
        },
        "id": "Lgw_FdsSaKDL",
        "outputId": "650264c4-d297-425a-bd2d-318c0a0cb1fb"
      },
      "execution_count": 271,
      "outputs": [
        {
          "output_type": "execute_result",
          "data": {
            "text/plain": [
              "(28, 28)"
            ]
          },
          "metadata": {},
          "execution_count": 271
        }
      ]
    },
    {
      "cell_type": "code",
      "source": [
        "df6[['NAME','EMITENTNAME','COUPONPERCENT','DAYSLEFT','COUPONFREQUENCY','Profit']].sort_values(by='Profit', ascending=False).head(10)"
      ],
      "metadata": {
        "colab": {
          "base_uri": "https://localhost:8080/",
          "height": 363
        },
        "id": "65HXf2KMKsBW",
        "outputId": "174d19fb-7175-40b2-d326-f2c1ec6aab5d"
      },
      "execution_count": 276,
      "outputs": [
        {
          "output_type": "execute_result",
          "data": {
            "text/plain": [
              "                              NAME  \\\n",
              "242                 реСтор 001Р-01   \n",
              "208    АПРИ Флай Плэнинг АО БО-П04   \n",
              "179                     MT-FREE-02   \n",
              "207                 ТД РКС 002Р-01   \n",
              "298            Интерлизинг 001Р-03   \n",
              "171      Регион-Продукт БО 001Р-01   \n",
              "7      Ашинский метзавод ПАО БО-01   \n",
              "219        ТАЛАН-ФИНАНС БО 001Р-02   \n",
              "109  Калужская сбытовая комп 1P 01   \n",
              "201              Охта Групп БО-П01   \n",
              "\n",
              "                                           EMITENTNAME  COUPONPERCENT  \\\n",
              "242  Общество с ограниченной ответственностью \"реСтор\"           8.10   \n",
              "208           Акционерное общество АПРИ \"Флай Плэнинг\"          13.00   \n",
              "179              Акционерное общество \"МаксимаТелеком\"           9.75   \n",
              "207  Общество с ограниченной ответственностью \"Торг...          12.50   \n",
              "298  Общество с ограниченной ответственностью \"Инте...          12.50   \n",
              "171              Акционерное общество \"РЕГИОН-ПРОДУКТ\"          12.00   \n",
              "7    Публичное акционерное общество \"Ашинский метал...           9.00   \n",
              "219  Общество с ограниченной ответственностью \"ТАЛА...          10.50   \n",
              "109  Публичное акционерное общество \"Калужская сбыт...          11.20   \n",
              "201  Общество с ограниченной ответственностью \"Охта...          12.00   \n",
              "\n",
              "     DAYSLEFT  COUPONFREQUENCY     Profit  \n",
              "242       354              4.0  11.019447  \n",
              "208       178              4.0  10.928025  \n",
              "179       331              2.0  10.005511  \n",
              "207       178              4.0   9.638179  \n",
              "298       360              4.0   9.562459  \n",
              "171        88              4.0   9.322560  \n",
              "7         358              2.0   9.271540  \n",
              "219       262              4.0   9.135038  \n",
              "109       169              2.0   8.999514  \n",
              "201       171              4.0   8.716191  "
            ],
            "text/html": [
              "\n",
              "  <div id=\"df-a9800e5a-f07f-4a73-a7c8-08da07a75e77\">\n",
              "    <div class=\"colab-df-container\">\n",
              "      <div>\n",
              "<style scoped>\n",
              "    .dataframe tbody tr th:only-of-type {\n",
              "        vertical-align: middle;\n",
              "    }\n",
              "\n",
              "    .dataframe tbody tr th {\n",
              "        vertical-align: top;\n",
              "    }\n",
              "\n",
              "    .dataframe thead th {\n",
              "        text-align: right;\n",
              "    }\n",
              "</style>\n",
              "<table border=\"1\" class=\"dataframe\">\n",
              "  <thead>\n",
              "    <tr style=\"text-align: right;\">\n",
              "      <th></th>\n",
              "      <th>NAME</th>\n",
              "      <th>EMITENTNAME</th>\n",
              "      <th>COUPONPERCENT</th>\n",
              "      <th>DAYSLEFT</th>\n",
              "      <th>COUPONFREQUENCY</th>\n",
              "      <th>Profit</th>\n",
              "    </tr>\n",
              "  </thead>\n",
              "  <tbody>\n",
              "    <tr>\n",
              "      <th>242</th>\n",
              "      <td>реСтор 001Р-01</td>\n",
              "      <td>Общество с ограниченной ответственностью \"реСтор\"</td>\n",
              "      <td>8.10</td>\n",
              "      <td>354</td>\n",
              "      <td>4.0</td>\n",
              "      <td>11.019447</td>\n",
              "    </tr>\n",
              "    <tr>\n",
              "      <th>208</th>\n",
              "      <td>АПРИ Флай Плэнинг АО БО-П04</td>\n",
              "      <td>Акционерное общество АПРИ \"Флай Плэнинг\"</td>\n",
              "      <td>13.00</td>\n",
              "      <td>178</td>\n",
              "      <td>4.0</td>\n",
              "      <td>10.928025</td>\n",
              "    </tr>\n",
              "    <tr>\n",
              "      <th>179</th>\n",
              "      <td>MT-FREE-02</td>\n",
              "      <td>Акционерное общество \"МаксимаТелеком\"</td>\n",
              "      <td>9.75</td>\n",
              "      <td>331</td>\n",
              "      <td>2.0</td>\n",
              "      <td>10.005511</td>\n",
              "    </tr>\n",
              "    <tr>\n",
              "      <th>207</th>\n",
              "      <td>ТД РКС 002Р-01</td>\n",
              "      <td>Общество с ограниченной ответственностью \"Торг...</td>\n",
              "      <td>12.50</td>\n",
              "      <td>178</td>\n",
              "      <td>4.0</td>\n",
              "      <td>9.638179</td>\n",
              "    </tr>\n",
              "    <tr>\n",
              "      <th>298</th>\n",
              "      <td>Интерлизинг 001Р-03</td>\n",
              "      <td>Общество с ограниченной ответственностью \"Инте...</td>\n",
              "      <td>12.50</td>\n",
              "      <td>360</td>\n",
              "      <td>4.0</td>\n",
              "      <td>9.562459</td>\n",
              "    </tr>\n",
              "    <tr>\n",
              "      <th>171</th>\n",
              "      <td>Регион-Продукт БО 001Р-01</td>\n",
              "      <td>Акционерное общество \"РЕГИОН-ПРОДУКТ\"</td>\n",
              "      <td>12.00</td>\n",
              "      <td>88</td>\n",
              "      <td>4.0</td>\n",
              "      <td>9.322560</td>\n",
              "    </tr>\n",
              "    <tr>\n",
              "      <th>7</th>\n",
              "      <td>Ашинский метзавод ПАО БО-01</td>\n",
              "      <td>Публичное акционерное общество \"Ашинский метал...</td>\n",
              "      <td>9.00</td>\n",
              "      <td>358</td>\n",
              "      <td>2.0</td>\n",
              "      <td>9.271540</td>\n",
              "    </tr>\n",
              "    <tr>\n",
              "      <th>219</th>\n",
              "      <td>ТАЛАН-ФИНАНС БО 001Р-02</td>\n",
              "      <td>Общество с ограниченной ответственностью \"ТАЛА...</td>\n",
              "      <td>10.50</td>\n",
              "      <td>262</td>\n",
              "      <td>4.0</td>\n",
              "      <td>9.135038</td>\n",
              "    </tr>\n",
              "    <tr>\n",
              "      <th>109</th>\n",
              "      <td>Калужская сбытовая комп 1P 01</td>\n",
              "      <td>Публичное акционерное общество \"Калужская сбыт...</td>\n",
              "      <td>11.20</td>\n",
              "      <td>169</td>\n",
              "      <td>2.0</td>\n",
              "      <td>8.999514</td>\n",
              "    </tr>\n",
              "    <tr>\n",
              "      <th>201</th>\n",
              "      <td>Охта Групп БО-П01</td>\n",
              "      <td>Общество с ограниченной ответственностью \"Охта...</td>\n",
              "      <td>12.00</td>\n",
              "      <td>171</td>\n",
              "      <td>4.0</td>\n",
              "      <td>8.716191</td>\n",
              "    </tr>\n",
              "  </tbody>\n",
              "</table>\n",
              "</div>\n",
              "      <button class=\"colab-df-convert\" onclick=\"convertToInteractive('df-a9800e5a-f07f-4a73-a7c8-08da07a75e77')\"\n",
              "              title=\"Convert this dataframe to an interactive table.\"\n",
              "              style=\"display:none;\">\n",
              "        \n",
              "  <svg xmlns=\"http://www.w3.org/2000/svg\" height=\"24px\"viewBox=\"0 0 24 24\"\n",
              "       width=\"24px\">\n",
              "    <path d=\"M0 0h24v24H0V0z\" fill=\"none\"/>\n",
              "    <path d=\"M18.56 5.44l.94 2.06.94-2.06 2.06-.94-2.06-.94-.94-2.06-.94 2.06-2.06.94zm-11 1L8.5 8.5l.94-2.06 2.06-.94-2.06-.94L8.5 2.5l-.94 2.06-2.06.94zm10 10l.94 2.06.94-2.06 2.06-.94-2.06-.94-.94-2.06-.94 2.06-2.06.94z\"/><path d=\"M17.41 7.96l-1.37-1.37c-.4-.4-.92-.59-1.43-.59-.52 0-1.04.2-1.43.59L10.3 9.45l-7.72 7.72c-.78.78-.78 2.05 0 2.83L4 21.41c.39.39.9.59 1.41.59.51 0 1.02-.2 1.41-.59l7.78-7.78 2.81-2.81c.8-.78.8-2.07 0-2.86zM5.41 20L4 18.59l7.72-7.72 1.47 1.35L5.41 20z\"/>\n",
              "  </svg>\n",
              "      </button>\n",
              "      \n",
              "  <style>\n",
              "    .colab-df-container {\n",
              "      display:flex;\n",
              "      flex-wrap:wrap;\n",
              "      gap: 12px;\n",
              "    }\n",
              "\n",
              "    .colab-df-convert {\n",
              "      background-color: #E8F0FE;\n",
              "      border: none;\n",
              "      border-radius: 50%;\n",
              "      cursor: pointer;\n",
              "      display: none;\n",
              "      fill: #1967D2;\n",
              "      height: 32px;\n",
              "      padding: 0 0 0 0;\n",
              "      width: 32px;\n",
              "    }\n",
              "\n",
              "    .colab-df-convert:hover {\n",
              "      background-color: #E2EBFA;\n",
              "      box-shadow: 0px 1px 2px rgba(60, 64, 67, 0.3), 0px 1px 3px 1px rgba(60, 64, 67, 0.15);\n",
              "      fill: #174EA6;\n",
              "    }\n",
              "\n",
              "    [theme=dark] .colab-df-convert {\n",
              "      background-color: #3B4455;\n",
              "      fill: #D2E3FC;\n",
              "    }\n",
              "\n",
              "    [theme=dark] .colab-df-convert:hover {\n",
              "      background-color: #434B5C;\n",
              "      box-shadow: 0px 1px 3px 1px rgba(0, 0, 0, 0.15);\n",
              "      filter: drop-shadow(0px 1px 2px rgba(0, 0, 0, 0.3));\n",
              "      fill: #FFFFFF;\n",
              "    }\n",
              "  </style>\n",
              "\n",
              "      <script>\n",
              "        const buttonEl =\n",
              "          document.querySelector('#df-a9800e5a-f07f-4a73-a7c8-08da07a75e77 button.colab-df-convert');\n",
              "        buttonEl.style.display =\n",
              "          google.colab.kernel.accessAllowed ? 'block' : 'none';\n",
              "\n",
              "        async function convertToInteractive(key) {\n",
              "          const element = document.querySelector('#df-a9800e5a-f07f-4a73-a7c8-08da07a75e77');\n",
              "          const dataTable =\n",
              "            await google.colab.kernel.invokeFunction('convertToInteractive',\n",
              "                                                     [key], {});\n",
              "          if (!dataTable) return;\n",
              "\n",
              "          const docLinkHtml = 'Like what you see? Visit the ' +\n",
              "            '<a target=\"_blank\" href=https://colab.research.google.com/notebooks/data_table.ipynb>data table notebook</a>'\n",
              "            + ' to learn more about interactive tables.';\n",
              "          element.innerHTML = '';\n",
              "          dataTable['output_type'] = 'display_data';\n",
              "          await google.colab.output.renderOutput(dataTable, element);\n",
              "          const docLink = document.createElement('div');\n",
              "          docLink.innerHTML = docLinkHtml;\n",
              "          element.appendChild(docLink);\n",
              "        }\n",
              "      </script>\n",
              "    </div>\n",
              "  </div>\n",
              "  "
            ]
          },
          "metadata": {},
          "execution_count": 276
        }
      ]
    }
  ]
}